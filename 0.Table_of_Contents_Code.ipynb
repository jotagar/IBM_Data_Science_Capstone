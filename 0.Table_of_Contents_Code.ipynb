{
 "cells": [
  {
   "cell_type": "markdown",
   "metadata": {},
   "source": [
    "[logo]: https://images.youracclaim.com/size/340x340/images/60f2e1e1-1b74-4dc0-a24b-cd08b460c12d/Applied%2BData%2BScience%2BCapstone.png \"IBM\""
   ]
  },
  {
   "cell_type": "markdown",
   "metadata": {},
   "source": [
    "<tr>\n",
    "<td>JOSE HERNANDEZ</td><td></td><td></td><td></td><td></td><td>\n",
    "<td></td><td></td><td></td><td></td><td></td><td></td><td></td>\n",
    "<td>IBM DATA SCIENCE CAPSTONE PROJECT</td>\n",
    "<td></td><td></td><td></td><td></td><td></td><td></td><td></td><td></td><td></td>\n",
    "<td></td><td></td><td></td><td></td><td></td><td></td><td></td><td></td><td></td>\n",
    "<td>JUNE 2020</td>\n",
    "</tr>"
   ]
  },
  {
   "cell_type": "markdown",
   "metadata": {},
   "source": [
    "<img align=\"right\" src=\"4.Features/pics/Applied_Data_Science_Capstone.png\" alt=\"IBM\" style=\"width:110px;\"/>\n",
    "\n",
    "# <center>Restaurant location research in Dublin - Code</center>"
   ]
  },
  {
   "cell_type": "markdown",
   "metadata": {},
   "source": [
    "For improved user experience use the Jupyter nbviewer https://nbviewer.jupyter.org/github/jotagar/IBM_Data_Science_Capstone/blob/master/0.Table_of_Contents_Code.ipynb"
   ]
  },
  {
   "cell_type": "markdown",
   "metadata": {},
   "source": [
    "## <a id=\"table\">Table of Contents - Code</a>\n",
    "\n",
    "<div class=\"alert alert-block alert-info\" style=\"margin-top: 20px; margin-left: 10px; margin-right: 50%;\">\n",
    "\n",
    "<font size = 3>\n",
    "\n",
    "I. <a href=\"https://github.com/jotagar/IBM_Data_Science_Capstone/Project_Report.pdf\">Full Report</a><br>\n",
    "\n",
    "II. <a href=\"#item2\">DATA</a><br>\n",
    "\n",
    "* A. <a href='1.Research_Dublin_City_Foursquare_API.ipynb#scope'>Project Scope Boundaries</a><br>\n",
    "* B. <a href='1.Research_Dublin_City_Foursquare_API.ipynb#data_ac'>Foursquare API</a><br>\n",
    "* C. <a href='2.Research_Dublin_City_Google_Places_API.ipynb#data_ac'>Google Places API</a><br>\n",
    "* D. Web scraping<br>\n",
    "    - <a href='3.TA_Web_Scraping.ipynb#data_ac'>Restaurants Ranking</a>\n",
    "    - <a href='4.Features/c.Luas_Tram.ipynb#data_ac'>Luas stops (city tram)</a>\n",
    "    - <a href='4.Features/e.Price_sqr_meter.ipynb#data_ac'>Price Area</a>\n",
    "* E. <a href='4.Features/b.Liffey.ipynb#data_ac'>Liffey (river)</a>\n",
    "* F. <a href='4.Features/a.Companies.ipynb#data_ac'>Companies</a>\n",
    "* G. <a href='4.Features/f.Districts_Geopandas.ipynb#data_ac'>Districts Geoshapes</a>\n",
    "* H. <a href='4.Features/d.Hotels_Tourism_University-Cleaning_Data.ipynb#clean'>Cleaning Data</a>\n",
    "    - Accommodation\n",
    "    - Tourism\n",
    "    - University\n",
    "  \n",
    "* I. <a href='4.Features/0.Interactive_Map.ipynb#map'>Interactive Map</a>\n",
    "\n",
    "III. <a href=\"#item3\">METHODOLOGY</a>\n",
    "* A. <a href='A.Exploratory_Data_Analysis.ipynb#code'>Exploratory Data Analysis</a><br><br>\n",
    "* B. Feature Generation<br>\n",
    "    - <a href='4.Features/c.Luas_Tram.ipynb#feat_gen'>Luas stops</a>\n",
    "    - <a href='4.Features/b.Liffey.ipynb#feat_gen'>Liffey</a>\n",
    "    - <a href='4.Features/g.Weights_features_in_range.ipynb#feat_gen'>Features within range</a>\n",
    "    - <a href='4.Features/e.Price_sqr_meter.ipynb#feat_gen'>Price per square meter</a><br><br>\n",
    "    \n",
    "* C. <a href='C.Feature%20Selection.ipynb#code0'>Inferential Statistics</a><br>\n",
    "    - <a href='C.Feature%20Selection.ipynb#code1'>Univariate Selection - SelectKBest</a>\n",
    "        * Chi squared \n",
    "        * F-value ANOVA \n",
    "        * F-value Regression\n",
    "    \n",
    "    - <a href='C.Feature%20Selection.ipynb#code2'>Feature Importance - ExtraTreesClassifier</a>\n",
    "    - <a href='C.Feature%20Selection.ipynb#code3'>Correlation Matrix - Kendall</a>\n",
    "    \n",
    "    - <a href='C.Feature%20Selection.ipynb#code4'>Pearson Correlation</a> \n",
    "    - <a href='C.Feature%20Selection.ipynb#code4'>Recursive Feature Elimination</a> \n",
    "    - <a href='C.Feature%20Selection.ipynb#code4'>Lasso: Logistic Regression</a>\n",
    "    - <a href='C.Feature%20Selection.ipynb#code4'>Tree-based: Random Forest</a>\n",
    "    - <a href='C.Feature%20Selection.ipynb#code4'>Light Gradient Boosted Machine</a><br><br>\n",
    "    \n",
    "* D. Prediction Models\n",
    "    - Support Vector Machine\n",
    "        * <a href='D.Prediction_Models_SVM.ipynb#code0'>Cross Validation iterating random state</a>\n",
    "        * <a href='D.Prediction_Models_SVM.ipynb#code1'>K-Fold & Cross Validation Score</a>\n",
    "        * <a href='D.Prediction_Models_SVM.ipynb#code2'>K-Fold Train Set accuracy</a>\n",
    "        * <a href='D.Prediction_Models_SVM.ipynb#code3'>ROC Curve</a>\n",
    "        * <a href='D.Prediction_Models_SVM.ipynb#code4'>Validation</a><br><br>\n",
    "    - K Nearest Neighbors\n",
    "        * <a href='D.Prediction_Models_KNN.ipynb#code0'>Cross Validation iterating random state</a>\n",
    "        * <a href='D.Prediction_Models_KNN.ipynb#code1'>K-Fold & Cross Validation Score</a>\n",
    "        * <a href='D.Prediction_Models_KNN.ipynb#code2'>K-Fold Train Set accuracy</a>\n",
    "        * <a href='D.Prediction_Models_KNN.ipynb#code3'>ROC Curve</a>\n",
    "        * <a href='D.Prediction_Models_KNN.ipynb#code4'>Validation</a><br><br>\n",
    "    - Decision Tree\n",
    "        * <a href='D.Prediction_Models_DTree.ipynb#code0'>Cross Validation iterating random state</a>\n",
    "        * <a href='D.Prediction_Models_DTree.ipynb#code1'>K-Fold & Cross Validation Score</a>\n",
    "        * <a href='D.Prediction_Models_DTree.ipynb#code2'>K-Fold Train Set accuracy</a>\n",
    "        * <a href='D.Prediction_Models_DTree.ipynb#code3'>ROC Curve</a>\n",
    "        * <a href='D.Prediction_Models_DTree.ipynb#code4'>Validation</a><br><br>\n",
    "</font>\n",
    "</div>"
   ]
  }
 ],
 "metadata": {
  "kernelspec": {
   "display_name": "Python 3",
   "language": "python",
   "name": "python3"
  },
  "language_info": {
   "codemirror_mode": {
    "name": "ipython",
    "version": 3
   },
   "file_extension": ".py",
   "mimetype": "text/x-python",
   "name": "python",
   "nbconvert_exporter": "python",
   "pygments_lexer": "ipython3",
   "version": "3.7.7"
  }
 },
 "nbformat": 4,
 "nbformat_minor": 4
}
