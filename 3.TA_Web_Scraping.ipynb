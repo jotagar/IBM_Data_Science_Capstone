{
 "cells": [
  {
   "cell_type": "code",
   "execution_count": 3,
   "metadata": {},
   "outputs": [],
   "source": [
    "import pandas as pd\n",
    "import numpy as np\n",
    "import requests\n",
    "from bs4 import BeautifulSoup\n",
    "import time\n",
    "import googlemaps"
   ]
  },
  {
   "cell_type": "markdown",
   "metadata": {},
   "source": [
    "Google Places API used just for this project and removed once completed for best security practices. Moreover, API use was filtered to be used just from 1 IP"
   ]
  },
  {
   "cell_type": "code",
   "execution_count": 227,
   "metadata": {},
   "outputs": [],
   "source": [
    "# hidden_cell\n",
    "gmaps = googlemaps.Client(key='AIzxxxxxxxxxxxxxxxxxxxxxxxxxxxxxxxxxPTo')"
   ]
  },
  {
   "cell_type": "markdown",
   "metadata": {},
   "source": [
    "Setting the web url. It'll be hidden on the code in order to avoid its use due to legal terms on the website. The legitimacy of using Web scraping to collect data still unclear."
   ]
  },
  {
   "cell_type": "code",
   "execution_count": null,
   "metadata": {},
   "outputs": [],
   "source": [
    "# @hidden_cell\n",
    "url_base = 'https://www.T-A.ie'"
   ]
  },
  {
   "cell_type": "markdown",
   "metadata": {},
   "source": [
    "### <a id=\"data_ac\">Data Acquisition</a>"
   ]
  },
  {
   "cell_type": "markdown",
   "metadata": {},
   "source": [
    "Firstly we need to collect the list of all restaurants in Dublin city."
   ]
  },
  {
   "cell_type": "code",
   "execution_count": 140,
   "metadata": {
    "scrolled": true
   },
   "outputs": [
    {
     "name": "stdout",
     "output_type": "stream",
     "text": [
      "0\n",
      "30\n",
      "60\n",
      "90\n",
      "120\n",
      "150\n",
      "180\n",
      "210\n",
      "240\n",
      "270\n",
      "300\n",
      "330\n",
      "360\n",
      "390\n",
      "420\n",
      "450\n",
      "480\n",
      "510\n",
      "540\n",
      "570\n",
      "600\n",
      "630\n",
      "660\n",
      "690\n",
      "720\n",
      "750\n",
      "780\n",
      "810\n",
      "840\n",
      "870\n",
      "900\n",
      "930\n",
      "960\n",
      "990\n",
      "1020\n",
      "1050\n",
      "1080\n",
      "1110\n",
      "1140\n",
      "1170\n",
      "1200\n",
      "1230\n",
      "1260\n",
      "1290\n",
      "1320\n",
      "1350\n",
      "1380\n",
      "1410\n",
      "1440\n",
      "1470\n",
      "1500\n",
      "1530\n",
      "1560\n",
      "1590\n",
      "1620\n",
      "1650\n",
      "1680\n",
      "1710\n",
      "1740\n",
      "1770\n",
      "1800\n",
      "1830\n",
      "1860\n",
      "1890\n",
      "1920\n",
      "1950\n",
      "1980\n",
      "2010\n",
      "2040\n",
      "2070\n",
      "2100\n",
      "2130\n",
      "2160\n",
      "2190\n",
      "2220\n",
      "2250\n",
      "2280\n"
     ]
    }
   ],
   "source": [
    "TA_restaurants = pd.DataFrame(columns=['Name', 'Ranking', 'Link'])\n",
    "pages = list(range(0, 2310, 30))\n",
    "i=0\n",
    "for page in pages:\n",
    "    print(page)\n",
    "    url = '{}/Restaurants-g186605-oa{}-Dublin_County_Dublin.html#EATERY_LIST_CONTENTS'.format (url_base, str(page))\n",
    "    headers = {'User-Agent': 'Mozilla/5.0 (Windows NT 6.3; Win64; x64) AppleWebKit/537.36 (KHTML, like Gecko) Chrome/54.0.2840.71 Safari/537.36'}\n",
    "    source = requests.get(url, headers=headers).text\n",
    "    soup = BeautifulSoup(source, 'lxml')\n",
    "    amusements_soup = BeautifulSoup(source,\"html.parser\")\n",
    "    time.sleep(1)\n",
    "    TA_rest = pd.DataFrame(columns=['Name', 'Ranking', 'Link'])\n",
    "\n",
    "    for item in amusements_soup.findAll('div',{'class':'wQjYiB7z'}):\n",
    "        sub_text = item.text\n",
    "        if sub_text[0].isdigit():\n",
    "            sub_text2 = sub_text.strip().split('.', 1)\n",
    "            TA_rest.loc[i, 'Ranking'] = sub_text2[0].strip()\n",
    "            TA_rest.loc[i, 'Name'] = sub_text2[1:][0].strip()\n",
    "            sub_items = item.findAll('a', href=True)\n",
    "            for sub_item in sub_items:\n",
    "                if sub_item.text:\n",
    "                    TA_rest.loc[i, 'Link'] = sub_item['href']\n",
    "                    i+=1\n",
    "                else:\n",
    "                    i+=1\n",
    "                    continue\n",
    "        else:\n",
    "            continue    \n",
    "            \n",
    "    TA_restaurants = TA_restaurants.append(TA_rest)\n",
    "    time.sleep(1)"
   ]
  },
  {
   "cell_type": "code",
   "execution_count": 129,
   "metadata": {
    "scrolled": false
   },
   "outputs": [],
   "source": [
    "#TA_restaurants.reset_index(drop=True, inplace=True)"
   ]
  },
  {
   "cell_type": "code",
   "execution_count": 141,
   "metadata": {},
   "outputs": [
    {
     "data": {
      "text/html": [
       "<div>\n",
       "<style scoped>\n",
       "    .dataframe tbody tr th:only-of-type {\n",
       "        vertical-align: middle;\n",
       "    }\n",
       "\n",
       "    .dataframe tbody tr th {\n",
       "        vertical-align: top;\n",
       "    }\n",
       "\n",
       "    .dataframe thead th {\n",
       "        text-align: right;\n",
       "    }\n",
       "</style>\n",
       "<table border=\"1\" class=\"dataframe\">\n",
       "  <thead>\n",
       "    <tr style=\"text-align: right;\">\n",
       "      <th></th>\n",
       "      <th>Name</th>\n",
       "      <th>Ranking</th>\n",
       "      <th>Link</th>\n",
       "    </tr>\n",
       "  </thead>\n",
       "  <tbody>\n",
       "    <tr>\n",
       "      <th>count</th>\n",
       "      <td>2297</td>\n",
       "      <td>2297</td>\n",
       "      <td>2297</td>\n",
       "    </tr>\n",
       "    <tr>\n",
       "      <th>unique</th>\n",
       "      <td>2118</td>\n",
       "      <td>2297</td>\n",
       "      <td>2297</td>\n",
       "    </tr>\n",
       "    <tr>\n",
       "      <th>top</th>\n",
       "      <td>Subway</td>\n",
       "      <td>1346</td>\n",
       "      <td>/Restaurant_Review-g186605-d8128966-Reviews-Ku...</td>\n",
       "    </tr>\n",
       "    <tr>\n",
       "      <th>freq</th>\n",
       "      <td>40</td>\n",
       "      <td>1</td>\n",
       "      <td>1</td>\n",
       "    </tr>\n",
       "  </tbody>\n",
       "</table>\n",
       "</div>"
      ],
      "text/plain": [
       "          Name Ranking                                               Link\n",
       "count     2297    2297                                               2297\n",
       "unique    2118    2297                                               2297\n",
       "top     Subway    1346  /Restaurant_Review-g186605-d8128966-Reviews-Ku...\n",
       "freq        40       1                                                  1"
      ]
     },
     "execution_count": 141,
     "metadata": {},
     "output_type": "execute_result"
    }
   ],
   "source": [
    "TA_restaurants.describe()"
   ]
  },
  {
   "cell_type": "code",
   "execution_count": 81,
   "metadata": {},
   "outputs": [
    {
     "data": {
      "text/html": [
       "<div>\n",
       "<style scoped>\n",
       "    .dataframe tbody tr th:only-of-type {\n",
       "        vertical-align: middle;\n",
       "    }\n",
       "\n",
       "    .dataframe tbody tr th {\n",
       "        vertical-align: top;\n",
       "    }\n",
       "\n",
       "    .dataframe thead th {\n",
       "        text-align: right;\n",
       "    }\n",
       "</style>\n",
       "<table border=\"1\" class=\"dataframe\">\n",
       "  <thead>\n",
       "    <tr style=\"text-align: right;\">\n",
       "      <th></th>\n",
       "      <th>Name</th>\n",
       "      <th>Ranking</th>\n",
       "      <th>Link</th>\n",
       "    </tr>\n",
       "  </thead>\n",
       "  <tbody>\n",
       "    <tr>\n",
       "      <th>0</th>\n",
       "      <td>Tang Cafe</td>\n",
       "      <td>1</td>\n",
       "      <td>/Restaurant_Review-g186605-d10387074-Reviews-T...</td>\n",
       "    </tr>\n",
       "    <tr>\n",
       "      <th>1</th>\n",
       "      <td>Taza</td>\n",
       "      <td>2</td>\n",
       "      <td>/Restaurant_Review-g186605-d17181958-Reviews-T...</td>\n",
       "    </tr>\n",
       "    <tr>\n",
       "      <th>2</th>\n",
       "      <td>Glovers Alley</td>\n",
       "      <td>3</td>\n",
       "      <td>/Restaurant_Review-g186605-d13477650-Reviews-G...</td>\n",
       "    </tr>\n",
       "    <tr>\n",
       "      <th>3</th>\n",
       "      <td>Darkey Kelly's Bar &amp; Restaurant</td>\n",
       "      <td>4</td>\n",
       "      <td>/Restaurant_Review-g186605-d6403998-Reviews-Da...</td>\n",
       "    </tr>\n",
       "    <tr>\n",
       "      <th>4</th>\n",
       "      <td>Mulberry Garden</td>\n",
       "      <td>5</td>\n",
       "      <td>/Restaurant_Review-g186605-d2239110-Reviews-Mu...</td>\n",
       "    </tr>\n",
       "  </tbody>\n",
       "</table>\n",
       "</div>"
      ],
      "text/plain": [
       "                              Name  Ranking  \\\n",
       "0                        Tang Cafe        1   \n",
       "1                             Taza        2   \n",
       "2                    Glovers Alley        3   \n",
       "3  Darkey Kelly's Bar & Restaurant        4   \n",
       "4                  Mulberry Garden        5   \n",
       "\n",
       "                                                Link  \n",
       "0  /Restaurant_Review-g186605-d10387074-Reviews-T...  \n",
       "1  /Restaurant_Review-g186605-d17181958-Reviews-T...  \n",
       "2  /Restaurant_Review-g186605-d13477650-Reviews-G...  \n",
       "3  /Restaurant_Review-g186605-d6403998-Reviews-Da...  \n",
       "4  /Restaurant_Review-g186605-d2239110-Reviews-Mu...  "
      ]
     },
     "execution_count": 81,
     "metadata": {},
     "output_type": "execute_result"
    }
   ],
   "source": [
    "TA_restaurants.head()"
   ]
  },
  {
   "cell_type": "code",
   "execution_count": 145,
   "metadata": {},
   "outputs": [],
   "source": [
    "#TA_restaurants.to_csv('TA_restaurants_ranking3.csv', index=False)"
   ]
  },
  {
   "cell_type": "markdown",
   "metadata": {},
   "source": [
    "### TA_restaurants = pd.read_csv('TA_restaurants_ranking3.csv')"
   ]
  },
  {
   "cell_type": "code",
   "execution_count": 350,
   "metadata": {},
   "outputs": [
    {
     "data": {
      "text/plain": [
       "False"
      ]
     },
     "execution_count": 350,
     "metadata": {},
     "output_type": "execute_result"
    }
   ],
   "source": [
    "TA_restaurants.Name.is_unique"
   ]
  },
  {
   "cell_type": "code",
   "execution_count": 7,
   "metadata": {},
   "outputs": [],
   "source": [
    "TA_Links = TA_restaurants.copy()"
   ]
  },
  {
   "cell_type": "code",
   "execution_count": 352,
   "metadata": {},
   "outputs": [
    {
     "data": {
      "text/html": [
       "<div>\n",
       "<style scoped>\n",
       "    .dataframe tbody tr th:only-of-type {\n",
       "        vertical-align: middle;\n",
       "    }\n",
       "\n",
       "    .dataframe tbody tr th {\n",
       "        vertical-align: top;\n",
       "    }\n",
       "\n",
       "    .dataframe thead th {\n",
       "        text-align: right;\n",
       "    }\n",
       "</style>\n",
       "<table border=\"1\" class=\"dataframe\">\n",
       "  <thead>\n",
       "    <tr style=\"text-align: right;\">\n",
       "      <th></th>\n",
       "      <th>Name</th>\n",
       "      <th>Ranking</th>\n",
       "      <th>Link</th>\n",
       "    </tr>\n",
       "  </thead>\n",
       "  <tbody>\n",
       "    <tr>\n",
       "      <th>count</th>\n",
       "      <td>2297</td>\n",
       "      <td>2297</td>\n",
       "      <td>2297</td>\n",
       "    </tr>\n",
       "    <tr>\n",
       "      <th>unique</th>\n",
       "      <td>2118</td>\n",
       "      <td>2297</td>\n",
       "      <td>2297</td>\n",
       "    </tr>\n",
       "    <tr>\n",
       "      <th>top</th>\n",
       "      <td>Subway</td>\n",
       "      <td>1346</td>\n",
       "      <td>/Restaurant_Review-g186605-d8128966-Reviews-Ku...</td>\n",
       "    </tr>\n",
       "    <tr>\n",
       "      <th>freq</th>\n",
       "      <td>40</td>\n",
       "      <td>1</td>\n",
       "      <td>1</td>\n",
       "    </tr>\n",
       "  </tbody>\n",
       "</table>\n",
       "</div>"
      ],
      "text/plain": [
       "          Name Ranking                                               Link\n",
       "count     2297    2297                                               2297\n",
       "unique    2118    2297                                               2297\n",
       "top     Subway    1346  /Restaurant_Review-g186605-d8128966-Reviews-Ku...\n",
       "freq        40       1                                                  1"
      ]
     },
     "execution_count": 352,
     "metadata": {},
     "output_type": "execute_result"
    }
   ],
   "source": [
    "TA_Links.describe()"
   ]
  },
  {
   "cell_type": "code",
   "execution_count": 8,
   "metadata": {},
   "outputs": [],
   "source": [
    "TA_Links.drop_duplicates(subset=['Name'], keep=\"first\", inplace=True)"
   ]
  },
  {
   "cell_type": "code",
   "execution_count": 9,
   "metadata": {},
   "outputs": [
    {
     "data": {
      "text/html": [
       "<div>\n",
       "<style scoped>\n",
       "    .dataframe tbody tr th:only-of-type {\n",
       "        vertical-align: middle;\n",
       "    }\n",
       "\n",
       "    .dataframe tbody tr th {\n",
       "        vertical-align: top;\n",
       "    }\n",
       "\n",
       "    .dataframe thead th {\n",
       "        text-align: right;\n",
       "    }\n",
       "</style>\n",
       "<table border=\"1\" class=\"dataframe\">\n",
       "  <thead>\n",
       "    <tr style=\"text-align: right;\">\n",
       "      <th></th>\n",
       "      <th>Ranking</th>\n",
       "    </tr>\n",
       "  </thead>\n",
       "  <tbody>\n",
       "    <tr>\n",
       "      <th>count</th>\n",
       "      <td>2118.000000</td>\n",
       "    </tr>\n",
       "    <tr>\n",
       "      <th>mean</th>\n",
       "      <td>1094.275732</td>\n",
       "    </tr>\n",
       "    <tr>\n",
       "      <th>std</th>\n",
       "      <td>647.507116</td>\n",
       "    </tr>\n",
       "    <tr>\n",
       "      <th>min</th>\n",
       "      <td>1.000000</td>\n",
       "    </tr>\n",
       "    <tr>\n",
       "      <th>25%</th>\n",
       "      <td>533.250000</td>\n",
       "    </tr>\n",
       "    <tr>\n",
       "      <th>50%</th>\n",
       "      <td>1082.500000</td>\n",
       "    </tr>\n",
       "    <tr>\n",
       "      <th>75%</th>\n",
       "      <td>1637.750000</td>\n",
       "    </tr>\n",
       "    <tr>\n",
       "      <th>max</th>\n",
       "      <td>2295.000000</td>\n",
       "    </tr>\n",
       "  </tbody>\n",
       "</table>\n",
       "</div>"
      ],
      "text/plain": [
       "           Ranking\n",
       "count  2118.000000\n",
       "mean   1094.275732\n",
       "std     647.507116\n",
       "min       1.000000\n",
       "25%     533.250000\n",
       "50%    1082.500000\n",
       "75%    1637.750000\n",
       "max    2295.000000"
      ]
     },
     "execution_count": 9,
     "metadata": {},
     "output_type": "execute_result"
    }
   ],
   "source": [
    "TA_Links.describe()"
   ]
  },
  {
   "cell_type": "code",
   "execution_count": 10,
   "metadata": {},
   "outputs": [],
   "source": [
    "TA_Links.reset_index(drop=True, inplace=True)"
   ]
  },
  {
   "cell_type": "code",
   "execution_count": 80,
   "metadata": {},
   "outputs": [
    {
     "data": {
      "text/html": [
       "<div>\n",
       "<style scoped>\n",
       "    .dataframe tbody tr th:only-of-type {\n",
       "        vertical-align: middle;\n",
       "    }\n",
       "\n",
       "    .dataframe tbody tr th {\n",
       "        vertical-align: top;\n",
       "    }\n",
       "\n",
       "    .dataframe thead th {\n",
       "        text-align: right;\n",
       "    }\n",
       "</style>\n",
       "<table border=\"1\" class=\"dataframe\">\n",
       "  <thead>\n",
       "    <tr style=\"text-align: right;\">\n",
       "      <th></th>\n",
       "      <th>Name</th>\n",
       "      <th>Ranking</th>\n",
       "      <th>Link</th>\n",
       "    </tr>\n",
       "  </thead>\n",
       "  <tbody>\n",
       "    <tr>\n",
       "      <th>0</th>\n",
       "      <td>Tang Cafe</td>\n",
       "      <td>1</td>\n",
       "      <td>/Restaurant_Review-g186605-d10387074-Reviews-T...</td>\n",
       "    </tr>\n",
       "    <tr>\n",
       "      <th>1</th>\n",
       "      <td>Taza</td>\n",
       "      <td>2</td>\n",
       "      <td>/Restaurant_Review-g186605-d17181958-Reviews-T...</td>\n",
       "    </tr>\n",
       "    <tr>\n",
       "      <th>2</th>\n",
       "      <td>Glovers Alley</td>\n",
       "      <td>3</td>\n",
       "      <td>/Restaurant_Review-g186605-d13477650-Reviews-G...</td>\n",
       "    </tr>\n",
       "    <tr>\n",
       "      <th>3</th>\n",
       "      <td>Darkey Kelly's Bar &amp; Restaurant</td>\n",
       "      <td>4</td>\n",
       "      <td>/Restaurant_Review-g186605-d6403998-Reviews-Da...</td>\n",
       "    </tr>\n",
       "    <tr>\n",
       "      <th>4</th>\n",
       "      <td>Mulberry Garden</td>\n",
       "      <td>5</td>\n",
       "      <td>/Restaurant_Review-g186605-d2239110-Reviews-Mu...</td>\n",
       "    </tr>\n",
       "  </tbody>\n",
       "</table>\n",
       "</div>"
      ],
      "text/plain": [
       "                              Name  Ranking  \\\n",
       "0                        Tang Cafe        1   \n",
       "1                             Taza        2   \n",
       "2                    Glovers Alley        3   \n",
       "3  Darkey Kelly's Bar & Restaurant        4   \n",
       "4                  Mulberry Garden        5   \n",
       "\n",
       "                                                Link  \n",
       "0  /Restaurant_Review-g186605-d10387074-Reviews-T...  \n",
       "1  /Restaurant_Review-g186605-d17181958-Reviews-T...  \n",
       "2  /Restaurant_Review-g186605-d13477650-Reviews-G...  \n",
       "3  /Restaurant_Review-g186605-d6403998-Reviews-Da...  \n",
       "4  /Restaurant_Review-g186605-d2239110-Reviews-Mu...  "
      ]
     },
     "execution_count": 80,
     "metadata": {},
     "output_type": "execute_result"
    }
   ],
   "source": [
    "TA_Links.head()"
   ]
  },
  {
   "cell_type": "markdown",
   "metadata": {},
   "source": [
    "#### Getting the details of each restaurant using the column 'Link'"
   ]
  },
  {
   "cell_type": "code",
   "execution_count": 500,
   "metadata": {},
   "outputs": [],
   "source": [
    "TA_details = pd.DataFrame(columns = ['Reviews', 'Rating', 'Price', 'Cuisines', 'Address', 'Phone', 'Link'])\n",
    "TA_details_errors = []"
   ]
  },
  {
   "cell_type": "code",
   "execution_count": 501,
   "metadata": {
    "scrolled": true
   },
   "outputs": [
    {
     "name": "stdout",
     "output_type": "stream",
     "text": [
      "Completed \n"
     ]
    }
   ],
   "source": [
    "i = 0\n",
    "prices = ['€€€€', '$$ - $$$', '€']\n",
    "for i in range (0, 2101):\n",
    "    space = '     '\n",
    "    print('{} {}'.format(i, space), end=\"\\r\", flush=True)\n",
    "\n",
    "    link = TA_Links.loc[i, 'Link']\n",
    "    url = url_base + link\n",
    "\n",
    "    headers = {'User-Agent': 'Mozilla/5.0 (Windows NT 6.3; Win64; x64) AppleWebKit/537.36 (KHTML, like Gecko) Chrome/54.0.2840.71 Safari/537.36'}\n",
    "    source = requests.get(url, headers=headers).text\n",
    "    soup = BeautifulSoup(source, 'lxml')\n",
    "    amusements_soup = BeautifulSoup(source,\"html.parser\")\n",
    "\n",
    "    sub_list = []\n",
    "    TA_detail = pd.DataFrame(columns = ['Reviews', 'Rating', 'Price', 'Cuisines', 'Address', 'Phone', 'Link'])\n",
    "    for item in amusements_soup.findAll('div',{'class':'restaurants-detail-top-info-TopInfo__infoRow--2m8Mx'}):\n",
    "        sub_items = item.findAll('a')\n",
    "        for sub_item in sub_items:\n",
    "            sub_list.append(sub_item.text)\n",
    "    try:\n",
    "        TA_detail.loc[i, 'Reviews'] = sub_list[0].split()[0].strip()\n",
    "        if sub_list[2] == '€€€€':\n",
    "            TA_detail.loc[i, 'Price'] = 'Expensive'\n",
    "        elif sub_list[2] == '$$ - $$$':\n",
    "            TA_detail.loc[i, 'Price'] = 'Average'\n",
    "        elif sub_list[2] == '€':\n",
    "            TA_detail.loc[i, 'Price'] = 'Cheap'\n",
    "        else:\n",
    "            TA_detail.loc[i, 'Price'] = 'N/A'\n",
    "        \n",
    "        if sub_list[-1] == '+ Add hours':      \n",
    "            if sub_list[-2] == '+ Add phone number':\n",
    "                if sub_list[2] not in prices:\n",
    "                    TA_detail.loc[i, 'Price'] = 'N/A'\n",
    "                    TA_detail.loc[i, 'Cuisines'] = sub_list[2:-3]\n",
    "                    TA_detail.loc[i, 'Address'] = sub_list[-3]\n",
    "                    TA_detail.loc[i, 'Phone'] = 'N/A'\n",
    "                else:\n",
    "                    TA_detail.loc[i, 'Cuisines'] = sub_list[3:-3]\n",
    "                    TA_detail.loc[i, 'Address'] = sub_list[-3]\n",
    "                    TA_detail.loc[i, 'Phone'] = 'N/A'\n",
    "            elif sub_list[-2] == '+ Add your menu':  \n",
    "                if sub_list[-3] == '+ Add website':\n",
    "                    if sub_list[2] not in prices:\n",
    "                        TA_detail.loc[i, 'Price'] = 'N/A'\n",
    "                        TA_detail.loc[i, 'Cuisines'] = sub_list[2:-5]\n",
    "                        TA_detail.loc[i, 'Address'] = sub_list[-5]\n",
    "                        TA_detail.loc[i, 'Phone'] = sub_list[-4]\n",
    "                    else:\n",
    "                        TA_detail.loc[i, 'Cuisines'] = sub_list[3:-5]\n",
    "                        TA_detail.loc[i, 'Address'] = sub_list[-5]\n",
    "                        TA_detail.loc[i, 'Phone'] = sub_list[-4]                               \n",
    "                else:                    \n",
    "                    if sub_list[2] not in prices:\n",
    "                        TA_detail.loc[i, 'Price'] = 'N/A'\n",
    "                        TA_detail.loc[i, 'Cuisines'] = sub_list[2:-4]\n",
    "                        TA_detail.loc[i, 'Address'] = sub_list[-4]\n",
    "                        TA_detail.loc[i, 'Phone'] = sub_list[-3]\n",
    "                    else:\n",
    "                        TA_detail.loc[i, 'Cuisines'] = sub_list[3:-4]\n",
    "                        TA_detail.loc[i, 'Address'] = sub_list[-4]\n",
    "                        TA_detail.loc[i, 'Phone'] = sub_list[-3]\n",
    "            elif sub_list[-2] != '+ Add phone number' and sub_list[-2] != '+ Add your menu':\n",
    "                if sub_list[2] not in prices:\n",
    "                    TA_detail.loc[i, 'Price'] = 'N/A'\n",
    "                    TA_detail.loc[i, 'Cuisines'] = sub_list[2:-3]\n",
    "                    TA_detail.loc[i, 'Address'] = sub_list[-3]\n",
    "                    TA_detail.loc[i, 'Phone'] = sub_list[-2]\n",
    "                else:\n",
    "                    TA_detail.loc[i, 'Cuisines'] = sub_list[3:-3]\n",
    "                    TA_detail.loc[i, 'Address'] = sub_list[-3]\n",
    "                    TA_detail.loc[i, 'Phone'] = sub_list[-2]                \n",
    "\n",
    "                \n",
    "        elif sub_list[-1] == '+ Add your menu': \n",
    "            if sub_list[-2] == '+ Add phone number':\n",
    "                if sub_list[2] not in prices:\n",
    "                    TA_detail.loc[i, 'Price'] = 'N/A'\n",
    "                    TA_detail.loc[i, 'Cuisines'] = sub_list[2:-3]\n",
    "                    TA_detail.loc[i, 'Address'] = sub_list[-3]\n",
    "                    TA_detail.loc[i, 'Phone'] = 'N/A'\n",
    "                else:\n",
    "                    TA_detail.loc[i, 'Cuisines'] = sub_list[3:-3]\n",
    "                    TA_detail.loc[i, 'Address'] = sub_list[-3]\n",
    "                    TA_detail.loc[i, 'Phone'] = 'N/A'\n",
    "            elif sub_list[-2] == '+ Add website':\n",
    "                if sub_list[-3] == '+ Add phone number':\n",
    "                    if sub_list[2] not in prices:\n",
    "                        TA_detail.loc[i, 'Price'] = 'N/A'\n",
    "                        TA_detail.loc[i, 'Cuisines'] = sub_list[2:-4]\n",
    "                        TA_detail.loc[i, 'Address'] = sub_list[-4]\n",
    "                        TA_detail.loc[i, 'Phone'] = 'N/A'\n",
    "                    else:\n",
    "                        TA_detail.loc[i, 'Cuisines'] = sub_list[3:-4]\n",
    "                        TA_detail.loc[i, 'Address'] = sub_list[-4]\n",
    "                        TA_detail.loc[i, 'Phone'] = 'N/A'      \n",
    "                else:      \n",
    "                    if sub_list[2] not in prices:\n",
    "                        TA_detail.loc[i, 'Price'] = 'N/A'\n",
    "                        TA_detail.loc[i, 'Cuisines'] = sub_list[2:-4]\n",
    "                        TA_detail.loc[i, 'Address'] = sub_list[-4]\n",
    "                        TA_detail.loc[i, 'Phone'] = sub_list[-3]\n",
    "                    else:\n",
    "                        TA_detail.loc[i, 'Cuisines'] = sub_list[3:-4]\n",
    "                        TA_detail.loc[i, 'Address'] = sub_list[-4]\n",
    "                        TA_detail.loc[i, 'Phone'] = sub_list[-3] \n",
    "            else:\n",
    "                if sub_list[2] not in prices:\n",
    "                    TA_detail.loc[i, 'Price'] = 'N/A'\n",
    "                    TA_detail.loc[i, 'Cuisines'] = sub_list[2:-3]\n",
    "                    TA_detail.loc[i, 'Address'] = sub_list[-3]\n",
    "                    TA_detail.loc[i, 'Phone'] = sub_list[-2]\n",
    "                else:\n",
    "                    TA_detail.loc[i, 'Cuisines'] = sub_list[3:-3]\n",
    "                    TA_detail.loc[i, 'Address'] = sub_list[-3]\n",
    "                    TA_detail.loc[i, 'Phone'] = sub_list[-2]\n",
    "                                            \n",
    "        else:\n",
    "            if sub_list[2] not in prices:\n",
    "                TA_detail.loc[i, 'Price'] = 'N/A'\n",
    "                TA_detail.loc[i, 'Cuisines'] = sub_list[2:-2]\n",
    "                TA_detail.loc[i, 'Address'] = sub_list[-2]\n",
    "                TA_detail.loc[i, 'Phone'] = sub_list[-1]\n",
    "            else:\n",
    "                TA_detail.loc[i, 'Cuisines'] = sub_list[3:-2]\n",
    "                TA_detail.loc[i, 'Address'] = sub_list[-2]\n",
    "                TA_detail.loc[i, 'Phone'] = sub_list[-1] \n",
    "            \n",
    "        sub_list2 = []\n",
    "        for item in amusements_soup.findAll('div',{'class':'restaurants-detail-overview-cards-RatingsOverviewCard__primaryRatingRow--VhEsu restaurants-detail-overview-cards-RatingsOverviewCard__cx_brand_refresh_phase2--1d7i-'}):\n",
    "            sub_list2.append(item.text)\n",
    "        TA_detail.loc[i, 'Rating'] = sub_list2[0].split()[0]\n",
    "        TA_detail.loc[i, 'Link'] = link\n",
    "\n",
    "        TA_details = TA_details.append(TA_detail)\n",
    "        #if i%10 == 0:\n",
    "        #    time.sleep(1)\n",
    "        #else:\n",
    "        #    continue\n",
    "    except:\n",
    "        TA_details_errors.append(link)\n",
    "        continue\n",
    "        \n",
    "print('Completed')"
   ]
  },
  {
   "cell_type": "code",
   "execution_count": null,
   "metadata": {},
   "outputs": [],
   "source": [
    "# TA_details.to_csv('TA_details_1.csv', index=False)"
   ]
  },
  {
   "cell_type": "code",
   "execution_count": 5,
   "metadata": {},
   "outputs": [],
   "source": [
    "TA_details = pd.read_csv('TA_details_updated.csv')"
   ]
  },
  {
   "cell_type": "code",
   "execution_count": 577,
   "metadata": {
    "scrolled": true
   },
   "outputs": [
    {
     "name": "stdout",
     "output_type": "stream",
     "text": [
      "There were 163 restaurant with no data to be added\n"
     ]
    }
   ],
   "source": [
    "print ('There were {} restaurant with no data to be added'. format (len(TA_details_errors)))"
   ]
  },
  {
   "cell_type": "markdown",
   "metadata": {},
   "source": [
    "Checking the Ranking of the restaurants which have given error"
   ]
  },
  {
   "cell_type": "code",
   "execution_count": 611,
   "metadata": {
    "scrolled": false
   },
   "outputs": [],
   "source": [
    "List_ranking_errors = []\n",
    "for link in TA_details_errors:\n",
    "    Ranking = TA_Links[TA_Links.Link == link].Ranking.values\n",
    "    List_ranking_errors.append(list(Ranking)[0])\n",
    "List_ranking_errors.sort()"
   ]
  },
  {
   "cell_type": "code",
   "execution_count": 616,
   "metadata": {},
   "outputs": [
    {
     "name": "stdout",
     "output_type": "stream",
     "text": [
      "['2046', '2048', '2050', '2051', '2052', '2053', '2054', '2056', '2057', '2058', '2059'],....\n"
     ]
    }
   ],
   "source": [
    "print('{},....'.format (List_ranking_errors[0:11]))"
   ]
  },
  {
   "cell_type": "markdown",
   "metadata": {},
   "source": [
    "These restaurant with a Ranking above 2000 are not relevant within the project scope"
   ]
  },
  {
   "cell_type": "markdown",
   "metadata": {},
   "source": [
    "#### Merging Dataframes ( List of restaurants collected using the first script and the details of each one)"
   ]
  },
  {
   "cell_type": "markdown",
   "metadata": {},
   "source": [
    "Checking first that there are not duplicates"
   ]
  },
  {
   "cell_type": "code",
   "execution_count": 14,
   "metadata": {
    "scrolled": true
   },
   "outputs": [
    {
     "data": {
      "text/plain": [
       "True"
      ]
     },
     "execution_count": 14,
     "metadata": {},
     "output_type": "execute_result"
    }
   ],
   "source": [
    "TA_details.Link.is_unique"
   ]
  },
  {
   "cell_type": "code",
   "execution_count": 13,
   "metadata": {},
   "outputs": [
    {
     "data": {
      "text/plain": [
       "True"
      ]
     },
     "execution_count": 13,
     "metadata": {},
     "output_type": "execute_result"
    }
   ],
   "source": [
    "TA_Links.Link.is_unique"
   ]
  },
  {
   "cell_type": "code",
   "execution_count": 15,
   "metadata": {},
   "outputs": [],
   "source": [
    "TA_complete = pd.merge(TA_Links, TA_details, on='Link' )"
   ]
  },
  {
   "cell_type": "code",
   "execution_count": 16,
   "metadata": {},
   "outputs": [],
   "source": [
    "TA_complete.reset_index(drop=True, inplace=True)"
   ]
  },
  {
   "cell_type": "code",
   "execution_count": 17,
   "metadata": {},
   "outputs": [
    {
     "data": {
      "text/plain": [
       "Name         object\n",
       "Ranking       int64\n",
       "Link         object\n",
       "Reviews       int64\n",
       "Rating      float64\n",
       "Price        object\n",
       "Cuisines     object\n",
       "Address      object\n",
       "Phone        object\n",
       "dtype: object"
      ]
     },
     "execution_count": 17,
     "metadata": {},
     "output_type": "execute_result"
    }
   ],
   "source": [
    "TA_complete.dtypes"
   ]
  },
  {
   "cell_type": "code",
   "execution_count": 18,
   "metadata": {},
   "outputs": [
    {
     "data": {
      "text/html": [
       "<div>\n",
       "<style scoped>\n",
       "    .dataframe tbody tr th:only-of-type {\n",
       "        vertical-align: middle;\n",
       "    }\n",
       "\n",
       "    .dataframe tbody tr th {\n",
       "        vertical-align: top;\n",
       "    }\n",
       "\n",
       "    .dataframe thead th {\n",
       "        text-align: right;\n",
       "    }\n",
       "</style>\n",
       "<table border=\"1\" class=\"dataframe\">\n",
       "  <thead>\n",
       "    <tr style=\"text-align: right;\">\n",
       "      <th></th>\n",
       "      <th>Name</th>\n",
       "      <th>Ranking</th>\n",
       "      <th>Link</th>\n",
       "      <th>Reviews</th>\n",
       "      <th>Rating</th>\n",
       "      <th>Price</th>\n",
       "      <th>Cuisines</th>\n",
       "      <th>Address</th>\n",
       "      <th>Phone</th>\n",
       "    </tr>\n",
       "  </thead>\n",
       "  <tbody>\n",
       "    <tr>\n",
       "      <th>0</th>\n",
       "      <td>Tang Cafe</td>\n",
       "      <td>1</td>\n",
       "      <td>/Restaurant_Review-g186605-d10387074-Reviews-T...</td>\n",
       "      <td>502</td>\n",
       "      <td>5.0</td>\n",
       "      <td>Cheap</td>\n",
       "      <td>['Cafe', 'European', 'Healthy']</td>\n",
       "      <td>23c Dawson Street, Dublin D02 PW18 Ireland</td>\n",
       "      <td>+353 86 391 5401</td>\n",
       "    </tr>\n",
       "    <tr>\n",
       "      <th>1</th>\n",
       "      <td>Taza</td>\n",
       "      <td>2</td>\n",
       "      <td>/Restaurant_Review-g186605-d17181958-Reviews-T...</td>\n",
       "      <td>178</td>\n",
       "      <td>5.0</td>\n",
       "      <td>Average</td>\n",
       "      <td>['Indian', 'Asian', 'Pakistani']</td>\n",
       "      <td>2 Ardcollum Avenue Artane, Dublin D05 XW88 Ire...</td>\n",
       "      <td>+353 1 558 2866</td>\n",
       "    </tr>\n",
       "    <tr>\n",
       "      <th>2</th>\n",
       "      <td>Glovers Alley</td>\n",
       "      <td>3</td>\n",
       "      <td>/Restaurant_Review-g186605-d13477650-Reviews-G...</td>\n",
       "      <td>193</td>\n",
       "      <td>5.0</td>\n",
       "      <td>Expensive</td>\n",
       "      <td>['Irish', 'European', 'Vegetarian Friendly']</td>\n",
       "      <td>128 Stephen’s Green Fitzwilliam Hotel, Dublin ...</td>\n",
       "      <td>+353 1 244 0733</td>\n",
       "    </tr>\n",
       "    <tr>\n",
       "      <th>3</th>\n",
       "      <td>Darkey Kelly's Bar &amp; Restaurant</td>\n",
       "      <td>4</td>\n",
       "      <td>/Restaurant_Review-g186605-d6403998-Reviews-Da...</td>\n",
       "      <td>1645</td>\n",
       "      <td>4.5</td>\n",
       "      <td>Average</td>\n",
       "      <td>['Irish', 'Bar', 'European']</td>\n",
       "      <td>Fishamble Street ChristChruch, Dublin Ireland</td>\n",
       "      <td>+353 83 346 4682</td>\n",
       "    </tr>\n",
       "    <tr>\n",
       "      <th>4</th>\n",
       "      <td>Mulberry Garden</td>\n",
       "      <td>5</td>\n",
       "      <td>/Restaurant_Review-g186605-d2239110-Reviews-Mu...</td>\n",
       "      <td>909</td>\n",
       "      <td>4.5</td>\n",
       "      <td>Expensive</td>\n",
       "      <td>['Irish', 'European', 'Contemporary']</td>\n",
       "      <td>Mulberry Lane Donnybrook, Dublin 04 Ireland</td>\n",
       "      <td>+353 1 269 3300</td>\n",
       "    </tr>\n",
       "  </tbody>\n",
       "</table>\n",
       "</div>"
      ],
      "text/plain": [
       "                              Name  Ranking  \\\n",
       "0                        Tang Cafe        1   \n",
       "1                             Taza        2   \n",
       "2                    Glovers Alley        3   \n",
       "3  Darkey Kelly's Bar & Restaurant        4   \n",
       "4                  Mulberry Garden        5   \n",
       "\n",
       "                                                Link  Reviews  Rating  \\\n",
       "0  /Restaurant_Review-g186605-d10387074-Reviews-T...      502     5.0   \n",
       "1  /Restaurant_Review-g186605-d17181958-Reviews-T...      178     5.0   \n",
       "2  /Restaurant_Review-g186605-d13477650-Reviews-G...      193     5.0   \n",
       "3  /Restaurant_Review-g186605-d6403998-Reviews-Da...     1645     4.5   \n",
       "4  /Restaurant_Review-g186605-d2239110-Reviews-Mu...      909     4.5   \n",
       "\n",
       "       Price                                      Cuisines  \\\n",
       "0      Cheap               ['Cafe', 'European', 'Healthy']   \n",
       "1    Average              ['Indian', 'Asian', 'Pakistani']   \n",
       "2  Expensive  ['Irish', 'European', 'Vegetarian Friendly']   \n",
       "3    Average                  ['Irish', 'Bar', 'European']   \n",
       "4  Expensive         ['Irish', 'European', 'Contemporary']   \n",
       "\n",
       "                                             Address             Phone  \n",
       "0         23c Dawson Street, Dublin D02 PW18 Ireland  +353 86 391 5401  \n",
       "1  2 Ardcollum Avenue Artane, Dublin D05 XW88 Ire...   +353 1 558 2866  \n",
       "2  128 Stephen’s Green Fitzwilliam Hotel, Dublin ...   +353 1 244 0733  \n",
       "3      Fishamble Street ChristChruch, Dublin Ireland  +353 83 346 4682  \n",
       "4        Mulberry Lane Donnybrook, Dublin 04 Ireland   +353 1 269 3300  "
      ]
     },
     "execution_count": 18,
     "metadata": {},
     "output_type": "execute_result"
    }
   ],
   "source": [
    "TA_complete.head()"
   ]
  },
  {
   "cell_type": "code",
   "execution_count": 19,
   "metadata": {},
   "outputs": [
    {
     "data": {
      "text/plain": [
       "Index(['Name', 'Ranking', 'Link', 'Reviews', 'Rating', 'Price', 'Cuisines',\n",
       "       'Address', 'Phone'],\n",
       "      dtype='object')"
      ]
     },
     "execution_count": 19,
     "metadata": {},
     "output_type": "execute_result"
    }
   ],
   "source": [
    "TA_complete.columns"
   ]
  },
  {
   "cell_type": "markdown",
   "metadata": {},
   "source": [
    "Ordening columns"
   ]
  },
  {
   "cell_type": "code",
   "execution_count": 20,
   "metadata": {},
   "outputs": [],
   "source": [
    "TA_complete = TA_complete.reindex(columns=['Name', 'Ranking', 'Reviews', 'Rating', 'Price', 'Cuisines',\n",
    "       'Address', 'Phone', 'Link'])"
   ]
  },
  {
   "cell_type": "code",
   "execution_count": 21,
   "metadata": {
    "scrolled": true
   },
   "outputs": [
    {
     "data": {
      "text/html": [
       "<div>\n",
       "<style scoped>\n",
       "    .dataframe tbody tr th:only-of-type {\n",
       "        vertical-align: middle;\n",
       "    }\n",
       "\n",
       "    .dataframe tbody tr th {\n",
       "        vertical-align: top;\n",
       "    }\n",
       "\n",
       "    .dataframe thead th {\n",
       "        text-align: right;\n",
       "    }\n",
       "</style>\n",
       "<table border=\"1\" class=\"dataframe\">\n",
       "  <thead>\n",
       "    <tr style=\"text-align: right;\">\n",
       "      <th></th>\n",
       "      <th>Name</th>\n",
       "      <th>Ranking</th>\n",
       "      <th>Reviews</th>\n",
       "      <th>Rating</th>\n",
       "      <th>Price</th>\n",
       "      <th>Cuisines</th>\n",
       "      <th>Address</th>\n",
       "      <th>Phone</th>\n",
       "      <th>Link</th>\n",
       "    </tr>\n",
       "  </thead>\n",
       "  <tbody>\n",
       "    <tr>\n",
       "      <th>0</th>\n",
       "      <td>Tang Cafe</td>\n",
       "      <td>1</td>\n",
       "      <td>502</td>\n",
       "      <td>5.0</td>\n",
       "      <td>Cheap</td>\n",
       "      <td>['Cafe', 'European', 'Healthy']</td>\n",
       "      <td>23c Dawson Street, Dublin D02 PW18 Ireland</td>\n",
       "      <td>+353 86 391 5401</td>\n",
       "      <td>/Restaurant_Review-g186605-d10387074-Reviews-T...</td>\n",
       "    </tr>\n",
       "    <tr>\n",
       "      <th>1</th>\n",
       "      <td>Taza</td>\n",
       "      <td>2</td>\n",
       "      <td>178</td>\n",
       "      <td>5.0</td>\n",
       "      <td>Average</td>\n",
       "      <td>['Indian', 'Asian', 'Pakistani']</td>\n",
       "      <td>2 Ardcollum Avenue Artane, Dublin D05 XW88 Ire...</td>\n",
       "      <td>+353 1 558 2866</td>\n",
       "      <td>/Restaurant_Review-g186605-d17181958-Reviews-T...</td>\n",
       "    </tr>\n",
       "    <tr>\n",
       "      <th>2</th>\n",
       "      <td>Glovers Alley</td>\n",
       "      <td>3</td>\n",
       "      <td>193</td>\n",
       "      <td>5.0</td>\n",
       "      <td>Expensive</td>\n",
       "      <td>['Irish', 'European', 'Vegetarian Friendly']</td>\n",
       "      <td>128 Stephen’s Green Fitzwilliam Hotel, Dublin ...</td>\n",
       "      <td>+353 1 244 0733</td>\n",
       "      <td>/Restaurant_Review-g186605-d13477650-Reviews-G...</td>\n",
       "    </tr>\n",
       "    <tr>\n",
       "      <th>3</th>\n",
       "      <td>Darkey Kelly's Bar &amp; Restaurant</td>\n",
       "      <td>4</td>\n",
       "      <td>1645</td>\n",
       "      <td>4.5</td>\n",
       "      <td>Average</td>\n",
       "      <td>['Irish', 'Bar', 'European']</td>\n",
       "      <td>Fishamble Street ChristChruch, Dublin Ireland</td>\n",
       "      <td>+353 83 346 4682</td>\n",
       "      <td>/Restaurant_Review-g186605-d6403998-Reviews-Da...</td>\n",
       "    </tr>\n",
       "    <tr>\n",
       "      <th>4</th>\n",
       "      <td>Mulberry Garden</td>\n",
       "      <td>5</td>\n",
       "      <td>909</td>\n",
       "      <td>4.5</td>\n",
       "      <td>Expensive</td>\n",
       "      <td>['Irish', 'European', 'Contemporary']</td>\n",
       "      <td>Mulberry Lane Donnybrook, Dublin 04 Ireland</td>\n",
       "      <td>+353 1 269 3300</td>\n",
       "      <td>/Restaurant_Review-g186605-d2239110-Reviews-Mu...</td>\n",
       "    </tr>\n",
       "  </tbody>\n",
       "</table>\n",
       "</div>"
      ],
      "text/plain": [
       "                              Name  Ranking  Reviews  Rating      Price  \\\n",
       "0                        Tang Cafe        1      502     5.0      Cheap   \n",
       "1                             Taza        2      178     5.0    Average   \n",
       "2                    Glovers Alley        3      193     5.0  Expensive   \n",
       "3  Darkey Kelly's Bar & Restaurant        4     1645     4.5    Average   \n",
       "4                  Mulberry Garden        5      909     4.5  Expensive   \n",
       "\n",
       "                                       Cuisines  \\\n",
       "0               ['Cafe', 'European', 'Healthy']   \n",
       "1              ['Indian', 'Asian', 'Pakistani']   \n",
       "2  ['Irish', 'European', 'Vegetarian Friendly']   \n",
       "3                  ['Irish', 'Bar', 'European']   \n",
       "4         ['Irish', 'European', 'Contemporary']   \n",
       "\n",
       "                                             Address             Phone  \\\n",
       "0         23c Dawson Street, Dublin D02 PW18 Ireland  +353 86 391 5401   \n",
       "1  2 Ardcollum Avenue Artane, Dublin D05 XW88 Ire...   +353 1 558 2866   \n",
       "2  128 Stephen’s Green Fitzwilliam Hotel, Dublin ...   +353 1 244 0733   \n",
       "3      Fishamble Street ChristChruch, Dublin Ireland  +353 83 346 4682   \n",
       "4        Mulberry Lane Donnybrook, Dublin 04 Ireland   +353 1 269 3300   \n",
       "\n",
       "                                                Link  \n",
       "0  /Restaurant_Review-g186605-d10387074-Reviews-T...  \n",
       "1  /Restaurant_Review-g186605-d17181958-Reviews-T...  \n",
       "2  /Restaurant_Review-g186605-d13477650-Reviews-G...  \n",
       "3  /Restaurant_Review-g186605-d6403998-Reviews-Da...  \n",
       "4  /Restaurant_Review-g186605-d2239110-Reviews-Mu...  "
      ]
     },
     "execution_count": 21,
     "metadata": {},
     "output_type": "execute_result"
    }
   ],
   "source": [
    "TA_complete.head()"
   ]
  },
  {
   "cell_type": "markdown",
   "metadata": {},
   "source": [
    "Adding coordinates to each restaurant using Geopy"
   ]
  },
  {
   "cell_type": "code",
   "execution_count": 30,
   "metadata": {},
   "outputs": [],
   "source": [
    "TA_complete_updated = TA_complete.copy()"
   ]
  },
  {
   "cell_type": "code",
   "execution_count": 26,
   "metadata": {},
   "outputs": [],
   "source": [
    "from geopy.geocoders import Nominatim\n",
    "import re"
   ]
  },
  {
   "cell_type": "code",
   "execution_count": 33,
   "metadata": {},
   "outputs": [],
   "source": [
    "def getaddress(name):\n",
    "    coordenates = []\n",
    "    geolocator = Nominatim(user_agent=\"ie_explorer\")\n",
    "    location = geolocator.geocode(name)\n",
    "    latitude = location.latitude\n",
    "    longitude = location.longitude\n",
    "    coordenates.append(latitude)\n",
    "    coordenates.append(longitude)\n",
    "    return coordenates"
   ]
  },
  {
   "cell_type": "markdown",
   "metadata": {},
   "source": [
    "If getting the coordinates using the name of the restaurant gives an error (Geopy might not have a match), restaurant's address is used instead"
   ]
  },
  {
   "cell_type": "code",
   "execution_count": 40,
   "metadata": {},
   "outputs": [
    {
     "name": "stdout",
     "output_type": "stream",
     "text": [
      "Completed \n"
     ]
    }
   ],
   "source": [
    "i=0\n",
    "space = '     '\n",
    "for i in range(0, TA_complete_updated.shape[0]):\n",
    "    try:\n",
    "        try:\n",
    "            sub_name = re.sub(r\"\\W+|_\", \" \", TA_complete_updated.loc[i, 'Name']) + ' Dublin Ireland'\n",
    "            TA_complete_updated.loc[i, 'Geopy Latitude'] = getaddress(sub_name)[0]\n",
    "            TA_complete_updated.loc[i, 'Geopy Longitude'] = getaddress(sub_name)[1]\n",
    "        except:\n",
    "            sub_address = re.sub(r\"\\W+|_\", \" \", TA_complete_updated.loc[i, 'Address'])\n",
    "            TA_complete_updated.loc[i, 'Geopy Latitude'] = getaddress(sub_address)[0]\n",
    "            TA_complete_updated.loc[i, 'Geopy Longitude'] = getaddress(sub_address)[1]\n",
    "\n",
    "        print('{} {}'.format(i, space), end=\"\\r\", flush=True)\n",
    "\n",
    "    except:\n",
    "        print('{} {}'.format(i, space), end=\"\\r\", flush=True)\n",
    "        continue\n",
    "print('Completed')"
   ]
  },
  {
   "cell_type": "code",
   "execution_count": 43,
   "metadata": {
    "scrolled": true
   },
   "outputs": [],
   "source": [
    "# TA_complete_updated.to_csv('TA_complete_updated_GPS_Geopy.csv', index=False)"
   ]
  },
  {
   "cell_type": "code",
   "execution_count": 44,
   "metadata": {
    "scrolled": true
   },
   "outputs": [
    {
     "data": {
      "text/html": [
       "<div>\n",
       "<style scoped>\n",
       "    .dataframe tbody tr th:only-of-type {\n",
       "        vertical-align: middle;\n",
       "    }\n",
       "\n",
       "    .dataframe tbody tr th {\n",
       "        vertical-align: top;\n",
       "    }\n",
       "\n",
       "    .dataframe thead th {\n",
       "        text-align: right;\n",
       "    }\n",
       "</style>\n",
       "<table border=\"1\" class=\"dataframe\">\n",
       "  <thead>\n",
       "    <tr style=\"text-align: right;\">\n",
       "      <th></th>\n",
       "      <th>Name</th>\n",
       "      <th>Ranking</th>\n",
       "      <th>Reviews</th>\n",
       "      <th>Rating</th>\n",
       "      <th>Price</th>\n",
       "      <th>Cuisines</th>\n",
       "      <th>Address</th>\n",
       "      <th>Phone</th>\n",
       "      <th>Link</th>\n",
       "      <th>Geopy Latitude</th>\n",
       "      <th>Geopy Longitude</th>\n",
       "    </tr>\n",
       "  </thead>\n",
       "  <tbody>\n",
       "    <tr>\n",
       "      <th>0</th>\n",
       "      <td>Tang Cafe</td>\n",
       "      <td>1</td>\n",
       "      <td>502</td>\n",
       "      <td>5.0</td>\n",
       "      <td>Cheap</td>\n",
       "      <td>['Cafe', 'European', 'Healthy']</td>\n",
       "      <td>23c Dawson Street, Dublin D02 PW18 Ireland</td>\n",
       "      <td>+353 86 391 5401</td>\n",
       "      <td>/Restaurant_Review-g186605-d10387074-Reviews-T...</td>\n",
       "      <td>53.348720</td>\n",
       "      <td>-6.258399</td>\n",
       "    </tr>\n",
       "    <tr>\n",
       "      <th>1</th>\n",
       "      <td>Taza</td>\n",
       "      <td>2</td>\n",
       "      <td>178</td>\n",
       "      <td>5.0</td>\n",
       "      <td>Average</td>\n",
       "      <td>['Indian', 'Asian', 'Pakistani']</td>\n",
       "      <td>2 Ardcollum Avenue Artane, Dublin D05 XW88 Ire...</td>\n",
       "      <td>+353 1 558 2866</td>\n",
       "      <td>/Restaurant_Review-g186605-d17181958-Reviews-T...</td>\n",
       "      <td>NaN</td>\n",
       "      <td>NaN</td>\n",
       "    </tr>\n",
       "    <tr>\n",
       "      <th>2</th>\n",
       "      <td>Glovers Alley</td>\n",
       "      <td>3</td>\n",
       "      <td>193</td>\n",
       "      <td>5.0</td>\n",
       "      <td>Expensive</td>\n",
       "      <td>['Irish', 'European', 'Vegetarian Friendly']</td>\n",
       "      <td>128 Stephen’s Green Fitzwilliam Hotel, Dublin ...</td>\n",
       "      <td>+353 1 244 0733</td>\n",
       "      <td>/Restaurant_Review-g186605-d13477650-Reviews-G...</td>\n",
       "      <td>53.339644</td>\n",
       "      <td>-6.263466</td>\n",
       "    </tr>\n",
       "    <tr>\n",
       "      <th>3</th>\n",
       "      <td>Darkey Kelly's Bar &amp; Restaurant</td>\n",
       "      <td>4</td>\n",
       "      <td>1645</td>\n",
       "      <td>4.5</td>\n",
       "      <td>Average</td>\n",
       "      <td>['Irish', 'Bar', 'European']</td>\n",
       "      <td>Fishamble Street ChristChruch, Dublin Ireland</td>\n",
       "      <td>+353 83 346 4682</td>\n",
       "      <td>/Restaurant_Review-g186605-d6403998-Reviews-Da...</td>\n",
       "      <td>NaN</td>\n",
       "      <td>NaN</td>\n",
       "    </tr>\n",
       "    <tr>\n",
       "      <th>4</th>\n",
       "      <td>Mulberry Garden</td>\n",
       "      <td>5</td>\n",
       "      <td>909</td>\n",
       "      <td>4.5</td>\n",
       "      <td>Expensive</td>\n",
       "      <td>['Irish', 'European', 'Contemporary']</td>\n",
       "      <td>Mulberry Lane Donnybrook, Dublin 04 Ireland</td>\n",
       "      <td>+353 1 269 3300</td>\n",
       "      <td>/Restaurant_Review-g186605-d2239110-Reviews-Mu...</td>\n",
       "      <td>53.322679</td>\n",
       "      <td>-6.236875</td>\n",
       "    </tr>\n",
       "  </tbody>\n",
       "</table>\n",
       "</div>"
      ],
      "text/plain": [
       "                              Name  Ranking  Reviews  Rating      Price  \\\n",
       "0                        Tang Cafe        1      502     5.0      Cheap   \n",
       "1                             Taza        2      178     5.0    Average   \n",
       "2                    Glovers Alley        3      193     5.0  Expensive   \n",
       "3  Darkey Kelly's Bar & Restaurant        4     1645     4.5    Average   \n",
       "4                  Mulberry Garden        5      909     4.5  Expensive   \n",
       "\n",
       "                                       Cuisines  \\\n",
       "0               ['Cafe', 'European', 'Healthy']   \n",
       "1              ['Indian', 'Asian', 'Pakistani']   \n",
       "2  ['Irish', 'European', 'Vegetarian Friendly']   \n",
       "3                  ['Irish', 'Bar', 'European']   \n",
       "4         ['Irish', 'European', 'Contemporary']   \n",
       "\n",
       "                                             Address             Phone  \\\n",
       "0         23c Dawson Street, Dublin D02 PW18 Ireland  +353 86 391 5401   \n",
       "1  2 Ardcollum Avenue Artane, Dublin D05 XW88 Ire...   +353 1 558 2866   \n",
       "2  128 Stephen’s Green Fitzwilliam Hotel, Dublin ...   +353 1 244 0733   \n",
       "3      Fishamble Street ChristChruch, Dublin Ireland  +353 83 346 4682   \n",
       "4        Mulberry Lane Donnybrook, Dublin 04 Ireland   +353 1 269 3300   \n",
       "\n",
       "                                                Link  Geopy Latitude  \\\n",
       "0  /Restaurant_Review-g186605-d10387074-Reviews-T...       53.348720   \n",
       "1  /Restaurant_Review-g186605-d17181958-Reviews-T...             NaN   \n",
       "2  /Restaurant_Review-g186605-d13477650-Reviews-G...       53.339644   \n",
       "3  /Restaurant_Review-g186605-d6403998-Reviews-Da...             NaN   \n",
       "4  /Restaurant_Review-g186605-d2239110-Reviews-Mu...       53.322679   \n",
       "\n",
       "   Geopy Longitude  \n",
       "0        -6.258399  \n",
       "1              NaN  \n",
       "2        -6.263466  \n",
       "3              NaN  \n",
       "4        -6.236875  "
      ]
     },
     "execution_count": 44,
     "metadata": {},
     "output_type": "execute_result"
    }
   ],
   "source": [
    "TA_complete_updated.head()"
   ]
  },
  {
   "cell_type": "code",
   "execution_count": 50,
   "metadata": {},
   "outputs": [
    {
     "name": "stdout",
     "output_type": "stream",
     "text": [
      "Out of 1937 restaurants on the dataframe, 622 restaurants did not get coordinates using Geopy\n"
     ]
    }
   ],
   "source": [
    "print('Out of {} restaurants on the dataframe, {} restaurants did not get coordinates using Geopy'\n",
    "      .format (TA_complete_updated.shape[0], TA_complete_updated['Geopy Latitude'].isnull().sum()))"
   ]
  },
  {
   "cell_type": "markdown",
   "metadata": {},
   "source": [
    "Trying with our dataset based on Google Maps API"
   ]
  },
  {
   "cell_type": "code",
   "execution_count": 126,
   "metadata": {},
   "outputs": [],
   "source": [
    "GMap_list = pd.read_csv('GMap_dublin_restaurant_mod.csv')"
   ]
  },
  {
   "cell_type": "code",
   "execution_count": 127,
   "metadata": {},
   "outputs": [
    {
     "data": {
      "text/plain": [
       "False"
      ]
     },
     "execution_count": 127,
     "metadata": {},
     "output_type": "execute_result"
    }
   ],
   "source": [
    "GMap_list.Name.is_unique"
   ]
  },
  {
   "cell_type": "code",
   "execution_count": 128,
   "metadata": {},
   "outputs": [],
   "source": [
    "GMap_list.drop_duplicates(subset=['Name'], keep=\"first\", inplace=True)"
   ]
  },
  {
   "cell_type": "code",
   "execution_count": 129,
   "metadata": {},
   "outputs": [
    {
     "data": {
      "text/plain": [
       "True"
      ]
     },
     "execution_count": 129,
     "metadata": {},
     "output_type": "execute_result"
    }
   ],
   "source": [
    "GMap_list.Name.is_unique"
   ]
  },
  {
   "cell_type": "code",
   "execution_count": 62,
   "metadata": {},
   "outputs": [
    {
     "data": {
      "text/plain": [
       "True"
      ]
     },
     "execution_count": 62,
     "metadata": {},
     "output_type": "execute_result"
    }
   ],
   "source": [
    "TA_complete_updated.Name.is_unique"
   ]
  },
  {
   "cell_type": "code",
   "execution_count": 130,
   "metadata": {},
   "outputs": [],
   "source": [
    "Grouped_List = TA_complete_updated.copy()"
   ]
  },
  {
   "cell_type": "code",
   "execution_count": 131,
   "metadata": {},
   "outputs": [],
   "source": [
    "Grouped_List = Grouped_List.append(GMap_list)"
   ]
  },
  {
   "cell_type": "code",
   "execution_count": 132,
   "metadata": {},
   "outputs": [
    {
     "data": {
      "text/plain": [
       "(2699, 14)"
      ]
     },
     "execution_count": 132,
     "metadata": {},
     "output_type": "execute_result"
    }
   ],
   "source": [
    "Grouped_List.shape"
   ]
  },
  {
   "cell_type": "code",
   "execution_count": null,
   "metadata": {},
   "outputs": [],
   "source": [
    "# Grouped_List.to_csv('Grouped_List_test.csv', index=False)"
   ]
  },
  {
   "cell_type": "code",
   "execution_count": 134,
   "metadata": {},
   "outputs": [
    {
     "name": "stdout",
     "output_type": "stream",
     "text": [
      "There are 642 restaurant names with exact match between TA and GMap dataframes\n"
     ]
    }
   ],
   "source": [
    "print('There are {} restaurant names with exact match between TA and GMap dataframes'\n",
    "      .format (len(Grouped_List[Grouped_List.duplicated(['Name'], keep=False)].Name.tolist())))"
   ]
  },
  {
   "cell_type": "markdown",
   "metadata": {},
   "source": [
    "Let's add GMap Coordinates to the TA dataframe. This method used will overwrite some Geopy coordinates. However, it's the best approach due to GMap API has been proven to be more accurate"
   ]
  },
  {
   "cell_type": "code",
   "execution_count": 181,
   "metadata": {},
   "outputs": [],
   "source": [
    "Restaurant_List = TA_complete_updated.copy()\n",
    "Restaurant_List.set_index('Name', inplace=True)"
   ]
  },
  {
   "cell_type": "code",
   "execution_count": 182,
   "metadata": {},
   "outputs": [
    {
     "data": {
      "text/html": [
       "<div>\n",
       "<style scoped>\n",
       "    .dataframe tbody tr th:only-of-type {\n",
       "        vertical-align: middle;\n",
       "    }\n",
       "\n",
       "    .dataframe tbody tr th {\n",
       "        vertical-align: top;\n",
       "    }\n",
       "\n",
       "    .dataframe thead th {\n",
       "        text-align: right;\n",
       "    }\n",
       "</style>\n",
       "<table border=\"1\" class=\"dataframe\">\n",
       "  <thead>\n",
       "    <tr style=\"text-align: right;\">\n",
       "      <th></th>\n",
       "      <th>Ranking</th>\n",
       "      <th>Reviews</th>\n",
       "      <th>Rating</th>\n",
       "      <th>Price</th>\n",
       "      <th>Cuisines</th>\n",
       "      <th>Address</th>\n",
       "      <th>Phone</th>\n",
       "      <th>Link</th>\n",
       "      <th>Geopy Latitude</th>\n",
       "      <th>Geopy Longitude</th>\n",
       "    </tr>\n",
       "    <tr>\n",
       "      <th>Name</th>\n",
       "      <th></th>\n",
       "      <th></th>\n",
       "      <th></th>\n",
       "      <th></th>\n",
       "      <th></th>\n",
       "      <th></th>\n",
       "      <th></th>\n",
       "      <th></th>\n",
       "      <th></th>\n",
       "      <th></th>\n",
       "    </tr>\n",
       "  </thead>\n",
       "  <tbody>\n",
       "    <tr>\n",
       "      <th>Tang Cafe</th>\n",
       "      <td>1</td>\n",
       "      <td>502</td>\n",
       "      <td>5.0</td>\n",
       "      <td>Cheap</td>\n",
       "      <td>['Cafe', 'European', 'Healthy']</td>\n",
       "      <td>23c Dawson Street, Dublin D02 PW18 Ireland</td>\n",
       "      <td>+353 86 391 5401</td>\n",
       "      <td>/Restaurant_Review-g186605-d10387074-Reviews-T...</td>\n",
       "      <td>53.348720</td>\n",
       "      <td>-6.258399</td>\n",
       "    </tr>\n",
       "    <tr>\n",
       "      <th>Taza</th>\n",
       "      <td>2</td>\n",
       "      <td>178</td>\n",
       "      <td>5.0</td>\n",
       "      <td>Average</td>\n",
       "      <td>['Indian', 'Asian', 'Pakistani']</td>\n",
       "      <td>2 Ardcollum Avenue Artane, Dublin D05 XW88 Ire...</td>\n",
       "      <td>+353 1 558 2866</td>\n",
       "      <td>/Restaurant_Review-g186605-d17181958-Reviews-T...</td>\n",
       "      <td>NaN</td>\n",
       "      <td>NaN</td>\n",
       "    </tr>\n",
       "    <tr>\n",
       "      <th>Glovers Alley</th>\n",
       "      <td>3</td>\n",
       "      <td>193</td>\n",
       "      <td>5.0</td>\n",
       "      <td>Expensive</td>\n",
       "      <td>['Irish', 'European', 'Vegetarian Friendly']</td>\n",
       "      <td>128 Stephen’s Green Fitzwilliam Hotel, Dublin ...</td>\n",
       "      <td>+353 1 244 0733</td>\n",
       "      <td>/Restaurant_Review-g186605-d13477650-Reviews-G...</td>\n",
       "      <td>53.339644</td>\n",
       "      <td>-6.263466</td>\n",
       "    </tr>\n",
       "    <tr>\n",
       "      <th>Darkey Kelly's Bar &amp; Restaurant</th>\n",
       "      <td>4</td>\n",
       "      <td>1645</td>\n",
       "      <td>4.5</td>\n",
       "      <td>Average</td>\n",
       "      <td>['Irish', 'Bar', 'European']</td>\n",
       "      <td>Fishamble Street ChristChruch, Dublin Ireland</td>\n",
       "      <td>+353 83 346 4682</td>\n",
       "      <td>/Restaurant_Review-g186605-d6403998-Reviews-Da...</td>\n",
       "      <td>NaN</td>\n",
       "      <td>NaN</td>\n",
       "    </tr>\n",
       "    <tr>\n",
       "      <th>Mulberry Garden</th>\n",
       "      <td>5</td>\n",
       "      <td>909</td>\n",
       "      <td>4.5</td>\n",
       "      <td>Expensive</td>\n",
       "      <td>['Irish', 'European', 'Contemporary']</td>\n",
       "      <td>Mulberry Lane Donnybrook, Dublin 04 Ireland</td>\n",
       "      <td>+353 1 269 3300</td>\n",
       "      <td>/Restaurant_Review-g186605-d2239110-Reviews-Mu...</td>\n",
       "      <td>53.322679</td>\n",
       "      <td>-6.236875</td>\n",
       "    </tr>\n",
       "  </tbody>\n",
       "</table>\n",
       "</div>"
      ],
      "text/plain": [
       "                                 Ranking  Reviews  Rating      Price  \\\n",
       "Name                                                                   \n",
       "Tang Cafe                              1      502     5.0      Cheap   \n",
       "Taza                                   2      178     5.0    Average   \n",
       "Glovers Alley                          3      193     5.0  Expensive   \n",
       "Darkey Kelly's Bar & Restaurant        4     1645     4.5    Average   \n",
       "Mulberry Garden                        5      909     4.5  Expensive   \n",
       "\n",
       "                                                                     Cuisines  \\\n",
       "Name                                                                            \n",
       "Tang Cafe                                     ['Cafe', 'European', 'Healthy']   \n",
       "Taza                                         ['Indian', 'Asian', 'Pakistani']   \n",
       "Glovers Alley                    ['Irish', 'European', 'Vegetarian Friendly']   \n",
       "Darkey Kelly's Bar & Restaurant                  ['Irish', 'Bar', 'European']   \n",
       "Mulberry Garden                         ['Irish', 'European', 'Contemporary']   \n",
       "\n",
       "                                                                           Address  \\\n",
       "Name                                                                                 \n",
       "Tang Cafe                               23c Dawson Street, Dublin D02 PW18 Ireland   \n",
       "Taza                             2 Ardcollum Avenue Artane, Dublin D05 XW88 Ire...   \n",
       "Glovers Alley                    128 Stephen’s Green Fitzwilliam Hotel, Dublin ...   \n",
       "Darkey Kelly's Bar & Restaurant      Fishamble Street ChristChruch, Dublin Ireland   \n",
       "Mulberry Garden                        Mulberry Lane Donnybrook, Dublin 04 Ireland   \n",
       "\n",
       "                                            Phone  \\\n",
       "Name                                                \n",
       "Tang Cafe                        +353 86 391 5401   \n",
       "Taza                              +353 1 558 2866   \n",
       "Glovers Alley                     +353 1 244 0733   \n",
       "Darkey Kelly's Bar & Restaurant  +353 83 346 4682   \n",
       "Mulberry Garden                   +353 1 269 3300   \n",
       "\n",
       "                                                                              Link  \\\n",
       "Name                                                                                 \n",
       "Tang Cafe                        /Restaurant_Review-g186605-d10387074-Reviews-T...   \n",
       "Taza                             /Restaurant_Review-g186605-d17181958-Reviews-T...   \n",
       "Glovers Alley                    /Restaurant_Review-g186605-d13477650-Reviews-G...   \n",
       "Darkey Kelly's Bar & Restaurant  /Restaurant_Review-g186605-d6403998-Reviews-Da...   \n",
       "Mulberry Garden                  /Restaurant_Review-g186605-d2239110-Reviews-Mu...   \n",
       "\n",
       "                                 Geopy Latitude  Geopy Longitude  \n",
       "Name                                                              \n",
       "Tang Cafe                             53.348720        -6.258399  \n",
       "Taza                                        NaN              NaN  \n",
       "Glovers Alley                         53.339644        -6.263466  \n",
       "Darkey Kelly's Bar & Restaurant             NaN              NaN  \n",
       "Mulberry Garden                       53.322679        -6.236875  "
      ]
     },
     "execution_count": 182,
     "metadata": {},
     "output_type": "execute_result"
    }
   ],
   "source": [
    "Restaurant_List.head()"
   ]
  },
  {
   "cell_type": "code",
   "execution_count": 183,
   "metadata": {},
   "outputs": [],
   "source": [
    "GMap_list.reset_index(drop=True, inplace=True)"
   ]
  },
  {
   "cell_type": "code",
   "execution_count": 184,
   "metadata": {},
   "outputs": [],
   "source": [
    "i=0\n",
    "Rest_list_names = Restaurant_List.index.tolist()\n",
    "for i in range (0, GMap_list.shape[0]):\n",
    "    Google_name = GMap_list.loc[i, 'Name']\n",
    "    if Google_name in Rest_list_names:\n",
    "        try:\n",
    "            Restaurant_List.loc[GMap_list.loc[i, 'Name'], 'Geopy Latitude'] = GMap_list.loc[i, 'Latitude']\n",
    "            Restaurant_List.loc[GMap_list.loc[i, 'Name'], 'Geopy Longitude'] = GMap_list.loc[i, 'Longitude']\n",
    "        except:\n",
    "            continue\n",
    "    else:\n",
    "        continue\n",
    "    "
   ]
  },
  {
   "cell_type": "code",
   "execution_count": 185,
   "metadata": {
    "scrolled": true
   },
   "outputs": [
    {
     "name": "stdout",
     "output_type": "stream",
     "text": [
      "Out of 1937 restaurants on the dataframe, 497 restaurants does not have coordinates\n"
     ]
    }
   ],
   "source": [
    "print('Out of {} restaurants on the dataframe, {} restaurants does not have coordinates'\n",
    "      .format (Restaurant_List.shape[0], Restaurant_List['Geopy Latitude'].isnull().sum()))"
   ]
  },
  {
   "cell_type": "code",
   "execution_count": 186,
   "metadata": {
    "scrolled": true
   },
   "outputs": [
    {
     "name": "stdout",
     "output_type": "stream",
     "text": [
      "This means that just 125 coordinates from GMAp have been added to the main dataframe\n"
     ]
    }
   ],
   "source": [
    "print('This means that just {} coordinates from GMAp have been added to the main dataframe'\n",
    "      .format(TA_complete_updated['Geopy Latitude'].isnull().sum()-Restaurant_List['Geopy Latitude'].isnull().sum()))"
   ]
  },
  {
   "cell_type": "markdown",
   "metadata": {},
   "source": [
    "Let's try with the dataset that has been created using Fousquare API to get the rest"
   ]
  },
  {
   "cell_type": "code",
   "execution_count": 187,
   "metadata": {},
   "outputs": [],
   "source": [
    "Four_List = pd.read_csv('Foursquare_Dublin_Venues_updated_clean_restaurant.csv')"
   ]
  },
  {
   "cell_type": "code",
   "execution_count": 188,
   "metadata": {
    "scrolled": true
   },
   "outputs": [
    {
     "data": {
      "text/plain": [
       "Index(['Neighborhood', 'Neighborhood Latitude', 'Neighborhood Longitude',\n",
       "       'Venue', 'Venue Latitude', 'Venue Longitude', 'Venue Category'],\n",
       "      dtype='object')"
      ]
     },
     "execution_count": 188,
     "metadata": {},
     "output_type": "execute_result"
    }
   ],
   "source": [
    "Four_List.columns"
   ]
  },
  {
   "cell_type": "code",
   "execution_count": 189,
   "metadata": {},
   "outputs": [],
   "source": [
    "Four_List.rename(columns={'Venue':'Name', 'Venue Latitude':'Latitude', 'Venue Longitude':'Longitude'}, inplace=True)"
   ]
  },
  {
   "cell_type": "code",
   "execution_count": 190,
   "metadata": {},
   "outputs": [
    {
     "data": {
      "text/plain": [
       "Index(['Neighborhood', 'Neighborhood Latitude', 'Neighborhood Longitude',\n",
       "       'Name', 'Latitude', 'Longitude', 'Venue Category'],\n",
       "      dtype='object')"
      ]
     },
     "execution_count": 190,
     "metadata": {},
     "output_type": "execute_result"
    }
   ],
   "source": [
    "Four_List.columns"
   ]
  },
  {
   "cell_type": "code",
   "execution_count": 191,
   "metadata": {
    "scrolled": true
   },
   "outputs": [
    {
     "data": {
      "text/plain": [
       "False"
      ]
     },
     "execution_count": 191,
     "metadata": {},
     "output_type": "execute_result"
    }
   ],
   "source": [
    "Four_List.Name.is_unique"
   ]
  },
  {
   "cell_type": "code",
   "execution_count": 192,
   "metadata": {},
   "outputs": [],
   "source": [
    "Four_List.drop_duplicates(subset=['Name'], keep=\"first\", inplace=True)"
   ]
  },
  {
   "cell_type": "code",
   "execution_count": 193,
   "metadata": {},
   "outputs": [],
   "source": [
    "Four_List.reset_index(drop=True, inplace=True)"
   ]
  },
  {
   "cell_type": "code",
   "execution_count": 194,
   "metadata": {},
   "outputs": [],
   "source": [
    "i=0\n",
    "Rest_list_names = Restaurant_List.index.tolist()\n",
    "for i in range (0, Four_List.shape[0]):\n",
    "    Foursquare_name = Four_List.loc[i, 'Name']\n",
    "    if Foursquare_name in Rest_list_names:\n",
    "        try:\n",
    "            Restaurant_List.loc[Four_List.loc[i, 'Name'], 'Geopy Latitude'] = Four_List.loc[i, 'Latitude']\n",
    "            Restaurant_List.loc[Four_List.loc[i, 'Name'], 'Geopy Longitude'] = Four_List.loc[i, 'Longitude']\n",
    "        except:\n",
    "            continue\n",
    "    else:\n",
    "        continue"
   ]
  },
  {
   "cell_type": "code",
   "execution_count": 195,
   "metadata": {},
   "outputs": [
    {
     "name": "stdout",
     "output_type": "stream",
     "text": [
      "Out of 1937 restaurants on the dataframe, 494 restaurants does not have coordinates\n"
     ]
    }
   ],
   "source": [
    "print('Out of {} restaurants on the dataframe, {} restaurants does not have coordinates'\n",
    "      .format (Restaurant_List.shape[0], Restaurant_List['Geopy Latitude'].isnull().sum()))"
   ]
  },
  {
   "cell_type": "markdown",
   "metadata": {},
   "source": [
    "Just 3 rows have been updated using Foursquare API information"
   ]
  },
  {
   "cell_type": "markdown",
   "metadata": {},
   "source": [
    "Let's try update the rest using Google Maps API free Tier"
   ]
  },
  {
   "cell_type": "code",
   "execution_count": 202,
   "metadata": {},
   "outputs": [],
   "source": [
    "Restaurant_List.reset_index(drop=False, inplace=True)"
   ]
  },
  {
   "cell_type": "code",
   "execution_count": 203,
   "metadata": {
    "scrolled": true
   },
   "outputs": [
    {
     "data": {
      "text/plain": [
       "Index(['Name', 'Ranking', 'Reviews', 'Rating', 'Price', 'Cuisines', 'Address',\n",
       "       'Phone', 'Link', 'Geopy Latitude', 'Geopy Longitude'],\n",
       "      dtype='object')"
      ]
     },
     "execution_count": 203,
     "metadata": {},
     "output_type": "execute_result"
    }
   ],
   "source": [
    "Restaurant_List.columns"
   ]
  },
  {
   "cell_type": "code",
   "execution_count": 207,
   "metadata": {},
   "outputs": [],
   "source": [
    "Restaurant_List.rename(columns={'Geopy Latitude':'Latitude', 'Geopy Longitude':'Longitude'}, inplace=True)"
   ]
  },
  {
   "cell_type": "code",
   "execution_count": 259,
   "metadata": {},
   "outputs": [],
   "source": [
    "def getCoordinates(name, address):\n",
    "    \n",
    "    Coordinates_list=[]\n",
    "    space = '     '\n",
    "    print(name +'{}'.format(10*space), end=\"\\r\", flush=True)\n",
    "    query = gmaps.geocode(address)\n",
    "\n",
    "    Coordinates_list.append([(\n",
    "        name, \n",
    "        v['formatted_address'],\n",
    "        v['geometry']['location']['lat'], \n",
    "        v['geometry']['location']['lng']) for v in query])\n",
    "\n",
    "    return(Coordinates_list)"
   ]
  },
  {
   "cell_type": "code",
   "execution_count": 271,
   "metadata": {},
   "outputs": [
    {
     "name": "stdout",
     "output_type": "stream",
     "text": [
      "Brambles Cafe - Marlay Park, Bolands Cafe                                                                 \r"
     ]
    }
   ],
   "source": [
    "i=0\n",
    "Gmap_i = []\n",
    "GmapAPI_errors_name = []\n",
    "for i in range (0, Restaurant_List.shape[0]):\n",
    "    try:\n",
    "        if pd.isnull(Restaurant_List['Latitude'].iloc[i]):\n",
    "            Temp_coordinates = getCoordinates(Restaurant_List.loc[i, 'Name'], Restaurant_List.loc[i, 'Address'])\n",
    "            Restaurant_List.loc[i, 'Latitude'] = Temp_coordinates[0][0][2]\n",
    "            Restaurant_List.loc[i, 'Longitude'] = Temp_coordinates[0][0][3]\n",
    "    except:\n",
    "        Gmap_i.append(i)\n",
    "        GmapAPI_errors_name.append(Restaurant_List.loc[i, 'Name'])"
   ]
  },
  {
   "cell_type": "code",
   "execution_count": 282,
   "metadata": {},
   "outputs": [],
   "source": [
    "#Restaurant_List.to_csv('Restaurants_Dataset_all.csv')"
   ]
  },
  {
   "cell_type": "code",
   "execution_count": 284,
   "metadata": {},
   "outputs": [
    {
     "data": {
      "text/plain": [
       "Index(['Name', 'Ranking', 'Reviews', 'Rating', 'Price', 'Cuisines', 'Address',\n",
       "       'Phone', 'Link', 'Latitude', 'Longitude'],\n",
       "      dtype='object')"
      ]
     },
     "execution_count": 284,
     "metadata": {},
     "output_type": "execute_result"
    }
   ],
   "source": [
    "Restaurant_List.columns"
   ]
  },
  {
   "cell_type": "code",
   "execution_count": 285,
   "metadata": {},
   "outputs": [],
   "source": [
    "Restaurant_List = Restaurant_List.reindex(columns=['Name', 'Ranking', 'Reviews', 'Rating', 'Price', 'Cuisines',\n",
    "       'Address', 'Latitude', 'Longitude', 'Phone', 'Link'])"
   ]
  },
  {
   "cell_type": "markdown",
   "metadata": {},
   "source": [
    "#### Removing restaurants outside the project scope boundaries"
   ]
  },
  {
   "cell_type": "code",
   "execution_count": 286,
   "metadata": {},
   "outputs": [
    {
     "name": "stdout",
     "output_type": "stream",
     "text": [
      "Dataframe has been reduced from 1937 to 1188 restaurants\n"
     ]
    }
   ],
   "source": [
    "#these are the coordenates boundary\n",
    "xmin, xmax, ymin, ymax = -6.295547, -6.227464, 53.322556, 53.356207\n",
    "res_list = Restaurant_List.copy()\n",
    "Restaurant_List_scope = res_list.drop(res_list[(res_list.Latitude < ymin) \n",
    "                                          | (res_list.Latitude > ymax)\n",
    "                                          | (res_list.Longitude < xmin)\n",
    "                                          | (res_list.Longitude > xmax)].index)\n",
    "\n",
    "Restaurant_List_scope.reset_index(drop=True, inplace=True)\n",
    "print ('Dataframe has been reduced from {} to {} restaurants'.format \n",
    "       (str(Restaurant_List.shape[0]), \n",
    "        str(Restaurant_List_scope.shape[0])))"
   ]
  },
  {
   "cell_type": "code",
   "execution_count": 287,
   "metadata": {},
   "outputs": [],
   "source": [
    "Restaurant_List_scope.to_csv('Restaurant_List_scope.csv', index=False)"
   ]
  },
  {
   "cell_type": "markdown",
   "metadata": {},
   "source": [
    "### <center><a href=\"./4.Features/c.Luas_Tram.ipynb#data_ac\">NEXT CHAPTER</a></center>"
   ]
  },
  {
   "cell_type": "markdown",
   "metadata": {},
   "source": [
    "#### <center> <a href=\"./0.Table_of_Contents_Code.ipynb\">Table of Contents</a><br></center>"
   ]
  }
 ],
 "metadata": {
  "kernelspec": {
   "display_name": "Python 3",
   "language": "python",
   "name": "python3"
  },
  "language_info": {
   "codemirror_mode": {
    "name": "ipython",
    "version": 3
   },
   "file_extension": ".py",
   "mimetype": "text/x-python",
   "name": "python",
   "nbconvert_exporter": "python",
   "pygments_lexer": "ipython3",
   "version": "3.7.7"
  }
 },
 "nbformat": 4,
 "nbformat_minor": 4
}
