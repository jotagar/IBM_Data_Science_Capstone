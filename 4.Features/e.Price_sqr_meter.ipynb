{
 "cells": [
  {
   "cell_type": "code",
   "execution_count": 1,
   "metadata": {},
   "outputs": [],
   "source": [
    "import pandas as pd\n",
    "import numpy as np\n",
    "import requests\n",
    "from bs4 import BeautifulSoup\n",
    "import googlemaps\n",
    "import matplotlib.pyplot as plt\n",
    "import seaborn as sns\n",
    "%matplotlib inline \n",
    "from matplotlib.colors import Normalize\n",
    "import matplotlib.cm as cm\n",
    "import googlemaps\n",
    "import folium\n",
    "from folium import plugins\n",
    "from folium import FeatureGroup, LayerControl, Map, Marker\n",
    "from folium.plugins import HeatMap\n",
    "from sklearn import preprocessing"
   ]
  },
  {
   "cell_type": "code",
   "execution_count": 69,
   "metadata": {},
   "outputs": [],
   "source": [
    "# hidden_cell\n",
    "gmaps = googlemaps.Client(key='AIzaSxxxxxxxxxxxxxxxUZPTo')"
   ]
  },
  {
   "cell_type": "markdown",
   "metadata": {},
   "source": [
    "https://www.daft.ie/dublin-city/commercial-property-for-sale/?ad_type=commercial&advanced=1&s%5Ba_id%5D%5B0%5D=pc1&searchSource=commercial"
   ]
  },
  {
   "cell_type": "markdown",
   "metadata": {},
   "source": [
    "### <a id=\"data_ac\">Data Acquisition</a>"
   ]
  },
  {
   "cell_type": "code",
   "execution_count": 2,
   "metadata": {},
   "outputs": [],
   "source": [
    "commercials = pd.DataFrame(columns=['Name', 'Commercial Type', 'Price', 'sq metres', 'Neighbourhood'])"
   ]
  },
  {
   "cell_type": "code",
   "execution_count": 3,
   "metadata": {},
   "outputs": [],
   "source": [
    "districts = list(range(1,14))\n",
    "pages = [0, 20, 40, 60]\n",
    "for district in districts:\n",
    "    for page in pages:\n",
    "        url = 'https://www.daft.ie/dublin-city/commercial-property-for-sale/?ad_type=commercial&advanced=1&s%5Ba_id%5D%5B0%5D=pc{}&searchSource=commercial&offset={}'.format (district, page)\n",
    "        headers = {'User-Agent': 'Mozilla/5.0 (Windows NT 6.3; Win64; x64) AppleWebKit/537.36 (KHTML, like Gecko) Chrome/54.0.2840.71 Safari/537.36'}\n",
    "        source = requests.get(url, headers=headers).text\n",
    "        soup = BeautifulSoup(source, 'lxml')\n",
    "        amusements_soup = BeautifulSoup(source,\"html.parser\")\n",
    "\n",
    "        commercials_D1 = pd.DataFrame(columns=['Name', 'Commercial Type', 'Price', 'sq metres', 'Neighbourhood'])\n",
    "        i=0\n",
    "        for item in amusements_soup.findAll('div',{'class':'box'}):\n",
    "            sub_items = item.findAll('a') \n",
    "            for sub_item in sub_items:\n",
    "                sub_text = sub_item.text.strip().split(' - ')\n",
    "                sub_text2 = sub_text[0].strip()\n",
    "                commercials_D1.loc[i, 'Name'] = sub_text2\n",
    "                sub_text3 = sub_text2.split(',')\n",
    "                commercials_D1.loc[i, 'Neighbourhood'] = sub_text3[-1].strip()\n",
    "                i+=1\n",
    "                break\n",
    "        i=0        \n",
    "        for item in amusements_soup.findAll('ul',{'class':'info'}):\n",
    "            sub_items = item.findAll('li')\n",
    "            sub_text = sub_items[0].text.strip().split('|')\n",
    "            commercials_D1.loc[i, 'Commercial Type'] = sub_text[0].strip()\n",
    "            i+=1\n",
    "\n",
    "        i=0\n",
    "        for item in amusements_soup.findAll('strong',{'class':'price'}):\n",
    "            try:\n",
    "                sub_text = item.text.strip().split()\n",
    "                sub_text2 = sub_text[0].strip()\n",
    "                sub_text3 = sub_text2.replace('€', '')\n",
    "                sub_text3 = sub_text3.replace(',', '')\n",
    "                sub_text3 = sub_text3.replace('Price', '')\n",
    "                commercials_D1.loc[i, 'Price'] = int(sub_text3)\n",
    "                i+=1\n",
    "            except:\n",
    "                i+=1\n",
    "                continue\n",
    "        i=0\n",
    "        for item in amusements_soup.findAll('ul',{'class':'info'}):\n",
    "            sub_items = item.findAll('li')\n",
    "            try:\n",
    "                sub_text = sub_items[1].text.strip().split('(')       \n",
    "                sub_text2 = sub_text[1].strip().split(' sq.')\n",
    "                sub_text3 = sub_text2[0].strip().replace(',', '')\n",
    "                if sub_text3[0] == '0':\n",
    "                    sub_text3 = ''\n",
    "                commercials_D1.loc[i, 'sq metres'] = int(sub_text3)\n",
    "                i+=1\n",
    "            except:\n",
    "                i+=1\n",
    "                continue\n",
    "\n",
    "        commercials = commercials.append(commercials_D1)"
   ]
  },
  {
   "cell_type": "code",
   "execution_count": 7,
   "metadata": {},
   "outputs": [],
   "source": [
    "#commercials.to_csv('Features_csv/commercials_web.csv', index=False)"
   ]
  },
  {
   "cell_type": "code",
   "execution_count": 4,
   "metadata": {},
   "outputs": [
    {
     "data": {
      "text/html": [
       "<div>\n",
       "<style scoped>\n",
       "    .dataframe tbody tr th:only-of-type {\n",
       "        vertical-align: middle;\n",
       "    }\n",
       "\n",
       "    .dataframe tbody tr th {\n",
       "        vertical-align: top;\n",
       "    }\n",
       "\n",
       "    .dataframe thead th {\n",
       "        text-align: right;\n",
       "    }\n",
       "</style>\n",
       "<table border=\"1\" class=\"dataframe\">\n",
       "  <thead>\n",
       "    <tr style=\"text-align: right;\">\n",
       "      <th></th>\n",
       "      <th>Name</th>\n",
       "      <th>Commercial Type</th>\n",
       "      <th>Price</th>\n",
       "      <th>sq metres</th>\n",
       "      <th>Neighbourhood</th>\n",
       "    </tr>\n",
       "  </thead>\n",
       "  <tbody>\n",
       "    <tr>\n",
       "      <th>0</th>\n",
       "      <td>11/11A Ormond Quay Lower, Dublin 1</td>\n",
       "      <td>Office To Let or For Sale</td>\n",
       "      <td>1300000</td>\n",
       "      <td>465</td>\n",
       "      <td>Dublin 1</td>\n",
       "    </tr>\n",
       "    <tr>\n",
       "      <th>1</th>\n",
       "      <td>21 Ormond Quay Upper, Dublin 1</td>\n",
       "      <td>Restaurant / Bar / Hotel For Sale</td>\n",
       "      <td>2250000</td>\n",
       "      <td>570</td>\n",
       "      <td>Dublin 1</td>\n",
       "    </tr>\n",
       "    <tr>\n",
       "      <th>2</th>\n",
       "      <td>32 Lower Ormond Quay, Dublin 1, Dublin 1</td>\n",
       "      <td>Investment Property For Sale</td>\n",
       "      <td>700000</td>\n",
       "      <td>314</td>\n",
       "      <td>Dublin 1</td>\n",
       "    </tr>\n",
       "    <tr>\n",
       "      <th>3</th>\n",
       "      <td>308 The Capel Building, Mary Street, Dublin 1</td>\n",
       "      <td>Office For Sale</td>\n",
       "      <td>180000</td>\n",
       "      <td>NaN</td>\n",
       "      <td>Dublin 1</td>\n",
       "    </tr>\n",
       "    <tr>\n",
       "      <th>4</th>\n",
       "      <td>Independent House, Talbot Street, Dublin 1</td>\n",
       "      <td>Investment Property For Sale</td>\n",
       "      <td>29000000</td>\n",
       "      <td>NaN</td>\n",
       "      <td>Dublin 1</td>\n",
       "    </tr>\n",
       "  </tbody>\n",
       "</table>\n",
       "</div>"
      ],
      "text/plain": [
       "                                            Name  \\\n",
       "0             11/11A Ormond Quay Lower, Dublin 1   \n",
       "1                 21 Ormond Quay Upper, Dublin 1   \n",
       "2       32 Lower Ormond Quay, Dublin 1, Dublin 1   \n",
       "3  308 The Capel Building, Mary Street, Dublin 1   \n",
       "4     Independent House, Talbot Street, Dublin 1   \n",
       "\n",
       "                     Commercial Type     Price sq metres Neighbourhood  \n",
       "0          Office To Let or For Sale   1300000       465      Dublin 1  \n",
       "1  Restaurant / Bar / Hotel For Sale   2250000       570      Dublin 1  \n",
       "2       Investment Property For Sale    700000       314      Dublin 1  \n",
       "3                    Office For Sale    180000       NaN      Dublin 1  \n",
       "4       Investment Property For Sale  29000000       NaN      Dublin 1  "
      ]
     },
     "execution_count": 4,
     "metadata": {},
     "output_type": "execute_result"
    }
   ],
   "source": [
    "commercials.head()"
   ]
  },
  {
   "cell_type": "code",
   "execution_count": 5,
   "metadata": {},
   "outputs": [
    {
     "data": {
      "text/plain": [
       "Name                 0\n",
       "Commercial Type      0\n",
       "Price              118\n",
       "sq metres           64\n",
       "Neighbourhood        0\n",
       "dtype: int64"
      ]
     },
     "execution_count": 5,
     "metadata": {},
     "output_type": "execute_result"
    }
   ],
   "source": [
    "commercials.isna().sum()"
   ]
  },
  {
   "cell_type": "code",
   "execution_count": 6,
   "metadata": {},
   "outputs": [
    {
     "data": {
      "text/plain": [
       "(333, 5)"
      ]
     },
     "execution_count": 6,
     "metadata": {},
     "output_type": "execute_result"
    }
   ],
   "source": [
    "commercials.shape"
   ]
  },
  {
   "cell_type": "code",
   "execution_count": 7,
   "metadata": {},
   "outputs": [],
   "source": [
    "commercials_clean = commercials.dropna(how='any')"
   ]
  },
  {
   "cell_type": "code",
   "execution_count": 8,
   "metadata": {},
   "outputs": [
    {
     "data": {
      "text/plain": [
       "(174, 5)"
      ]
     },
     "execution_count": 8,
     "metadata": {},
     "output_type": "execute_result"
    }
   ],
   "source": [
    "commercials_clean.shape"
   ]
  },
  {
   "cell_type": "code",
   "execution_count": 9,
   "metadata": {
    "scrolled": true
   },
   "outputs": [
    {
     "name": "stdout",
     "output_type": "stream",
     "text": [
      "Dataset has 173 commercials\n"
     ]
    }
   ],
   "source": [
    "dub_commercials_clean = commercials_clean[commercials_clean['Neighbourhood'].astype(str).str.contains('Dublin')].copy()\n",
    "print ('Dataset has {} commercials'.format (dub_commercials_clean.shape[0]))"
   ]
  },
  {
   "cell_type": "code",
   "execution_count": 10,
   "metadata": {},
   "outputs": [],
   "source": [
    "dub_commercials_clean_int = dub_commercials_clean.copy()"
   ]
  },
  {
   "cell_type": "code",
   "execution_count": 11,
   "metadata": {},
   "outputs": [],
   "source": [
    "dub_commercials_clean_int[['Price', 'sq metres']] = dub_commercials_clean_int[['Price', 'sq metres']].apply(pd.to_numeric)"
   ]
  },
  {
   "cell_type": "code",
   "execution_count": 12,
   "metadata": {},
   "outputs": [
    {
     "data": {
      "text/plain": [
       "Name               object\n",
       "Commercial Type    object\n",
       "Price               int64\n",
       "sq metres           int64\n",
       "Neighbourhood      object\n",
       "dtype: object"
      ]
     },
     "execution_count": 12,
     "metadata": {},
     "output_type": "execute_result"
    }
   ],
   "source": [
    "dub_commercials_clean_int.dtypes"
   ]
  },
  {
   "cell_type": "markdown",
   "metadata": {},
   "source": [
    "### <center><a href=\"./b.Liffey.ipynb#data_ac\">NEXT CHAPTER</a></center>"
   ]
  },
  {
   "cell_type": "markdown",
   "metadata": {},
   "source": [
    "#### <center> <a href=\"./../0.Table_of_Contents_Code.ipynb\">Table of Contents</a><br></center>"
   ]
  },
  {
   "cell_type": "markdown",
   "metadata": {},
   "source": [
    "### <a id=\"feat_gen\">Feature Generation</a>"
   ]
  },
  {
   "cell_type": "markdown",
   "metadata": {},
   "source": [
    "Price per square meter"
   ]
  },
  {
   "cell_type": "code",
   "execution_count": 13,
   "metadata": {},
   "outputs": [],
   "source": [
    "dub_commercials_clean_int['Price per sq metres'] = dub_commercials_clean_int['Price']/dub_commercials_clean_int['sq metres']\n",
    "dub_commercials_clean_int['Price per sq metres'] = dub_commercials_clean_int['Price per sq metres'].round(2)"
   ]
  },
  {
   "cell_type": "code",
   "execution_count": 14,
   "metadata": {
    "scrolled": true
   },
   "outputs": [
    {
     "data": {
      "text/html": [
       "<div>\n",
       "<style scoped>\n",
       "    .dataframe tbody tr th:only-of-type {\n",
       "        vertical-align: middle;\n",
       "    }\n",
       "\n",
       "    .dataframe tbody tr th {\n",
       "        vertical-align: top;\n",
       "    }\n",
       "\n",
       "    .dataframe thead th {\n",
       "        text-align: right;\n",
       "    }\n",
       "</style>\n",
       "<table border=\"1\" class=\"dataframe\">\n",
       "  <thead>\n",
       "    <tr style=\"text-align: right;\">\n",
       "      <th></th>\n",
       "      <th>Name</th>\n",
       "      <th>Commercial Type</th>\n",
       "      <th>Price</th>\n",
       "      <th>sq metres</th>\n",
       "      <th>Neighbourhood</th>\n",
       "      <th>Price per sq metres</th>\n",
       "    </tr>\n",
       "  </thead>\n",
       "  <tbody>\n",
       "    <tr>\n",
       "      <th>0</th>\n",
       "      <td>11/11A Ormond Quay Lower, Dublin 1</td>\n",
       "      <td>Office To Let or For Sale</td>\n",
       "      <td>1300000</td>\n",
       "      <td>465</td>\n",
       "      <td>Dublin 1</td>\n",
       "      <td>2795.70</td>\n",
       "    </tr>\n",
       "    <tr>\n",
       "      <th>1</th>\n",
       "      <td>21 Ormond Quay Upper, Dublin 1</td>\n",
       "      <td>Restaurant / Bar / Hotel For Sale</td>\n",
       "      <td>2250000</td>\n",
       "      <td>570</td>\n",
       "      <td>Dublin 1</td>\n",
       "      <td>3947.37</td>\n",
       "    </tr>\n",
       "  </tbody>\n",
       "</table>\n",
       "</div>"
      ],
      "text/plain": [
       "                                 Name                    Commercial Type  \\\n",
       "0  11/11A Ormond Quay Lower, Dublin 1          Office To Let or For Sale   \n",
       "1      21 Ormond Quay Upper, Dublin 1  Restaurant / Bar / Hotel For Sale   \n",
       "\n",
       "     Price  sq metres Neighbourhood  Price per sq metres  \n",
       "0  1300000        465      Dublin 1              2795.70  \n",
       "1  2250000        570      Dublin 1              3947.37  "
      ]
     },
     "execution_count": 14,
     "metadata": {},
     "output_type": "execute_result"
    }
   ],
   "source": [
    "dub_commercials_clean_int.head(2)"
   ]
  },
  {
   "cell_type": "code",
   "execution_count": 15,
   "metadata": {},
   "outputs": [
    {
     "data": {
      "text/html": [
       "<div>\n",
       "<style scoped>\n",
       "    .dataframe tbody tr th:only-of-type {\n",
       "        vertical-align: middle;\n",
       "    }\n",
       "\n",
       "    .dataframe tbody tr th {\n",
       "        vertical-align: top;\n",
       "    }\n",
       "\n",
       "    .dataframe thead th {\n",
       "        text-align: right;\n",
       "    }\n",
       "</style>\n",
       "<table border=\"1\" class=\"dataframe\">\n",
       "  <thead>\n",
       "    <tr style=\"text-align: right;\">\n",
       "      <th></th>\n",
       "      <th>Price</th>\n",
       "      <th>sq metres</th>\n",
       "      <th>Price per sq metres</th>\n",
       "    </tr>\n",
       "  </thead>\n",
       "  <tbody>\n",
       "    <tr>\n",
       "      <th>count</th>\n",
       "      <td>1.730000e+02</td>\n",
       "      <td>173.000000</td>\n",
       "      <td>173.000000</td>\n",
       "    </tr>\n",
       "    <tr>\n",
       "      <th>mean</th>\n",
       "      <td>1.373641e+06</td>\n",
       "      <td>585.901734</td>\n",
       "      <td>5624.466243</td>\n",
       "    </tr>\n",
       "    <tr>\n",
       "      <th>std</th>\n",
       "      <td>2.076866e+06</td>\n",
       "      <td>1206.434887</td>\n",
       "      <td>26487.273172</td>\n",
       "    </tr>\n",
       "    <tr>\n",
       "      <th>min</th>\n",
       "      <td>1.000000e+00</td>\n",
       "      <td>4.000000</td>\n",
       "      <td>0.010000</td>\n",
       "    </tr>\n",
       "    <tr>\n",
       "      <th>25%</th>\n",
       "      <td>3.950000e+05</td>\n",
       "      <td>154.000000</td>\n",
       "      <td>1325.300000</td>\n",
       "    </tr>\n",
       "    <tr>\n",
       "      <th>50%</th>\n",
       "      <td>6.500000e+05</td>\n",
       "      <td>254.000000</td>\n",
       "      <td>3232.760000</td>\n",
       "    </tr>\n",
       "    <tr>\n",
       "      <th>75%</th>\n",
       "      <td>1.400000e+06</td>\n",
       "      <td>546.000000</td>\n",
       "      <td>4828.800000</td>\n",
       "    </tr>\n",
       "    <tr>\n",
       "      <th>max</th>\n",
       "      <td>1.500000e+07</td>\n",
       "      <td>13152.000000</td>\n",
       "      <td>350000.000000</td>\n",
       "    </tr>\n",
       "  </tbody>\n",
       "</table>\n",
       "</div>"
      ],
      "text/plain": [
       "              Price     sq metres  Price per sq metres\n",
       "count  1.730000e+02    173.000000           173.000000\n",
       "mean   1.373641e+06    585.901734          5624.466243\n",
       "std    2.076866e+06   1206.434887         26487.273172\n",
       "min    1.000000e+00      4.000000             0.010000\n",
       "25%    3.950000e+05    154.000000          1325.300000\n",
       "50%    6.500000e+05    254.000000          3232.760000\n",
       "75%    1.400000e+06    546.000000          4828.800000\n",
       "max    1.500000e+07  13152.000000        350000.000000"
      ]
     },
     "execution_count": 15,
     "metadata": {},
     "output_type": "execute_result"
    }
   ],
   "source": [
    "dub_commercials_clean_int.describe()"
   ]
  },
  {
   "cell_type": "markdown",
   "metadata": {},
   "source": [
    "Grouping rows by neighborhood and by taking the mean"
   ]
  },
  {
   "cell_type": "code",
   "execution_count": 16,
   "metadata": {},
   "outputs": [
    {
     "data": {
      "text/html": [
       "<div>\n",
       "<style scoped>\n",
       "    .dataframe tbody tr th:only-of-type {\n",
       "        vertical-align: middle;\n",
       "    }\n",
       "\n",
       "    .dataframe tbody tr th {\n",
       "        vertical-align: top;\n",
       "    }\n",
       "\n",
       "    .dataframe thead th {\n",
       "        text-align: right;\n",
       "    }\n",
       "</style>\n",
       "<table border=\"1\" class=\"dataframe\">\n",
       "  <thead>\n",
       "    <tr style=\"text-align: right;\">\n",
       "      <th></th>\n",
       "      <th>Neighbourhood</th>\n",
       "      <th>Price</th>\n",
       "      <th>sq metres</th>\n",
       "      <th>Price per sq metres</th>\n",
       "    </tr>\n",
       "  </thead>\n",
       "  <tbody>\n",
       "    <tr>\n",
       "      <th>0</th>\n",
       "      <td>Dublin 1</td>\n",
       "      <td>1.233929e+06</td>\n",
       "      <td>364.142857</td>\n",
       "      <td>17152.212500</td>\n",
       "    </tr>\n",
       "    <tr>\n",
       "      <th>1</th>\n",
       "      <td>Dublin 10</td>\n",
       "      <td>2.375000e+06</td>\n",
       "      <td>2613.000000</td>\n",
       "      <td>1733.895000</td>\n",
       "    </tr>\n",
       "    <tr>\n",
       "      <th>2</th>\n",
       "      <td>Dublin 11</td>\n",
       "      <td>6.515385e+05</td>\n",
       "      <td>726.615385</td>\n",
       "      <td>2092.941538</td>\n",
       "    </tr>\n",
       "    <tr>\n",
       "      <th>3</th>\n",
       "      <td>Dublin 12</td>\n",
       "      <td>7.605952e+05</td>\n",
       "      <td>932.023810</td>\n",
       "      <td>1293.922619</td>\n",
       "    </tr>\n",
       "    <tr>\n",
       "      <th>4</th>\n",
       "      <td>Dublin 2</td>\n",
       "      <td>2.946458e+06</td>\n",
       "      <td>506.000000</td>\n",
       "      <td>5930.527083</td>\n",
       "    </tr>\n",
       "    <tr>\n",
       "      <th>5</th>\n",
       "      <td>Dublin 3</td>\n",
       "      <td>4.880000e+05</td>\n",
       "      <td>191.000000</td>\n",
       "      <td>2765.600000</td>\n",
       "    </tr>\n",
       "    <tr>\n",
       "      <th>6</th>\n",
       "      <td>Dublin 4</td>\n",
       "      <td>2.197222e+06</td>\n",
       "      <td>484.444444</td>\n",
       "      <td>5142.671111</td>\n",
       "    </tr>\n",
       "    <tr>\n",
       "      <th>7</th>\n",
       "      <td>Dublin 5</td>\n",
       "      <td>8.250000e+05</td>\n",
       "      <td>193.600000</td>\n",
       "      <td>3711.502000</td>\n",
       "    </tr>\n",
       "    <tr>\n",
       "      <th>8</th>\n",
       "      <td>Dublin 6</td>\n",
       "      <td>2.620000e+06</td>\n",
       "      <td>1083.200000</td>\n",
       "      <td>4266.988000</td>\n",
       "    </tr>\n",
       "    <tr>\n",
       "      <th>9</th>\n",
       "      <td>Dublin 6w</td>\n",
       "      <td>9.125000e+05</td>\n",
       "      <td>318.500000</td>\n",
       "      <td>2806.250000</td>\n",
       "    </tr>\n",
       "    <tr>\n",
       "      <th>10</th>\n",
       "      <td>Dublin 7</td>\n",
       "      <td>1.159688e+06</td>\n",
       "      <td>321.562500</td>\n",
       "      <td>4591.127500</td>\n",
       "    </tr>\n",
       "    <tr>\n",
       "      <th>11</th>\n",
       "      <td>Dublin 8</td>\n",
       "      <td>1.375291e+06</td>\n",
       "      <td>394.529412</td>\n",
       "      <td>3998.321176</td>\n",
       "    </tr>\n",
       "    <tr>\n",
       "      <th>12</th>\n",
       "      <td>Dublin 9</td>\n",
       "      <td>8.020000e+05</td>\n",
       "      <td>203.200000</td>\n",
       "      <td>3674.158000</td>\n",
       "    </tr>\n",
       "  </tbody>\n",
       "</table>\n",
       "</div>"
      ],
      "text/plain": [
       "   Neighbourhood         Price    sq metres  Price per sq metres\n",
       "0       Dublin 1  1.233929e+06   364.142857         17152.212500\n",
       "1      Dublin 10  2.375000e+06  2613.000000          1733.895000\n",
       "2      Dublin 11  6.515385e+05   726.615385          2092.941538\n",
       "3      Dublin 12  7.605952e+05   932.023810          1293.922619\n",
       "4       Dublin 2  2.946458e+06   506.000000          5930.527083\n",
       "5       Dublin 3  4.880000e+05   191.000000          2765.600000\n",
       "6       Dublin 4  2.197222e+06   484.444444          5142.671111\n",
       "7       Dublin 5  8.250000e+05   193.600000          3711.502000\n",
       "8       Dublin 6  2.620000e+06  1083.200000          4266.988000\n",
       "9      Dublin 6w  9.125000e+05   318.500000          2806.250000\n",
       "10      Dublin 7  1.159688e+06   321.562500          4591.127500\n",
       "11      Dublin 8  1.375291e+06   394.529412          3998.321176\n",
       "12      Dublin 9  8.020000e+05   203.200000          3674.158000"
      ]
     },
     "execution_count": 16,
     "metadata": {},
     "output_type": "execute_result"
    }
   ],
   "source": [
    "dub_commercials_clean_int_grouped = dub_commercials_clean_int.groupby('Neighbourhood').mean().reset_index()\n",
    "dub_commercials_clean_int_grouped"
   ]
  },
  {
   "cell_type": "code",
   "execution_count": 40,
   "metadata": {},
   "outputs": [],
   "source": [
    "dub_commercials_clean_int.to_csv('Features_csv/dub_commercials_clean_int_mod1.csv', index=False)"
   ]
  },
  {
   "cell_type": "code",
   "execution_count": 5,
   "metadata": {},
   "outputs": [],
   "source": [
    "dub_commercials_clean_int = pd.read_csv('Features_csv/dub_commercials_clean_int_mod1.csv')"
   ]
  },
  {
   "cell_type": "code",
   "execution_count": 18,
   "metadata": {},
   "outputs": [
    {
     "data": {
      "text/plain": [
       "(0, 176600646.97525626)"
      ]
     },
     "execution_count": 18,
     "metadata": {},
     "output_type": "execute_result"
    },
    {
     "data": {
      "image/png": "[encoded data removed]",
      "text/plain": [
       "<Figure size 432x288 with 1 Axes>"
      ]
     },
     "metadata": {
      "needs_background": "light"
     },
     "output_type": "display_data"
    }
   ],
   "source": [
    "sns.regplot(x = 'sq metres',  y= 'Price', data = dub_commercials_clean_int)\n",
    "plt.ylim(0,)"
   ]
  },
  {
   "cell_type": "markdown",
   "metadata": {},
   "source": [
    "There's a clear outlier"
   ]
  },
  {
   "cell_type": "code",
   "execution_count": 20,
   "metadata": {},
   "outputs": [
    {
     "data": {
      "text/plain": [
       "<matplotlib.axes._subplots.AxesSubplot at 0x23f45afcd88>"
      ]
     },
     "execution_count": 20,
     "metadata": {},
     "output_type": "execute_result"
    },
    {
     "data": {
      "image/png": "[encoded data removed]",
      "text/plain": [
       "<Figure size 432x288 with 1 Axes>"
      ]
     },
     "metadata": {
      "needs_background": "light"
     },
     "output_type": "display_data"
    }
   ],
   "source": [
    "sns.boxplot(x=dub_commercials_clean_int['Price per sq metres'])"
   ]
  },
  {
   "cell_type": "code",
   "execution_count": 21,
   "metadata": {},
   "outputs": [
    {
     "data": {
      "text/plain": [
       "350000.0"
      ]
     },
     "execution_count": 21,
     "metadata": {},
     "output_type": "execute_result"
    }
   ],
   "source": [
    "dub_commercials_clean_int['Price per sq metres'].max()"
   ]
  },
  {
   "cell_type": "code",
   "execution_count": 6,
   "metadata": {},
   "outputs": [],
   "source": [
    "dub_c = dub_commercials_clean_int.copy()"
   ]
  },
  {
   "cell_type": "code",
   "execution_count": 7,
   "metadata": {},
   "outputs": [],
   "source": [
    "dub_c.reset_index(drop=True, inplace=True)"
   ]
  },
  {
   "cell_type": "markdown",
   "metadata": {},
   "source": [
    "Finding the outlier index"
   ]
  },
  {
   "cell_type": "code",
   "execution_count": 24,
   "metadata": {},
   "outputs": [
    {
     "data": {
      "text/html": [
       "<div>\n",
       "<style scoped>\n",
       "    .dataframe tbody tr th:only-of-type {\n",
       "        vertical-align: middle;\n",
       "    }\n",
       "\n",
       "    .dataframe tbody tr th {\n",
       "        vertical-align: top;\n",
       "    }\n",
       "\n",
       "    .dataframe thead th {\n",
       "        text-align: right;\n",
       "    }\n",
       "</style>\n",
       "<table border=\"1\" class=\"dataframe\">\n",
       "  <thead>\n",
       "    <tr style=\"text-align: right;\">\n",
       "      <th></th>\n",
       "      <th>Name</th>\n",
       "      <th>Commercial Type</th>\n",
       "      <th>Price</th>\n",
       "      <th>sq metres</th>\n",
       "      <th>Neighbourhood</th>\n",
       "      <th>Price per sq metres</th>\n",
       "    </tr>\n",
       "  </thead>\n",
       "  <tbody>\n",
       "    <tr>\n",
       "      <th>5</th>\n",
       "      <td>31 Liffey Street Upper, Dublin 1</td>\n",
       "      <td>Investment Property For Sale</td>\n",
       "      <td>1400000.0</td>\n",
       "      <td>4.0</td>\n",
       "      <td>Dublin 1</td>\n",
       "      <td>350000.0</td>\n",
       "    </tr>\n",
       "  </tbody>\n",
       "</table>\n",
       "</div>"
      ],
      "text/plain": [
       "                               Name               Commercial Type      Price  \\\n",
       "5  31 Liffey Street Upper, Dublin 1  Investment Property For Sale  1400000.0   \n",
       "\n",
       "   sq metres Neighbourhood  Price per sq metres  \n",
       "5        4.0      Dublin 1             350000.0  "
      ]
     },
     "execution_count": 24,
     "metadata": {},
     "output_type": "execute_result"
    }
   ],
   "source": [
    "dub_c[dub_c['Price per sq metres'] == dub_c['Price per sq metres'].max()]"
   ]
  },
  {
   "cell_type": "markdown",
   "metadata": {},
   "source": [
    "Having a look of the others commercials, this seems to be a typo. After checking the data source, the sq. metres is corrected from 4 to 163"
   ]
  },
  {
   "cell_type": "code",
   "execution_count": 8,
   "metadata": {},
   "outputs": [],
   "source": [
    "dub_c.loc[5,'sq metres'] = 163"
   ]
  },
  {
   "cell_type": "code",
   "execution_count": 26,
   "metadata": {},
   "outputs": [
    {
     "data": {
      "text/plain": [
       "Name                   31 Liffey Street Upper, Dublin 1\n",
       "Commercial Type            Investment Property For Sale\n",
       "Price                                           1.4e+06\n",
       "sq metres                                           163\n",
       "Neighbourhood                                  Dublin 1\n",
       "Price per sq metres                              350000\n",
       "Name: 5, dtype: object"
      ]
     },
     "execution_count": 26,
     "metadata": {},
     "output_type": "execute_result"
    }
   ],
   "source": [
    "dub_c.iloc[5,:]"
   ]
  },
  {
   "cell_type": "markdown",
   "metadata": {},
   "source": [
    "Now we need to recalculate 'Price per sq metres' column"
   ]
  },
  {
   "cell_type": "code",
   "execution_count": 9,
   "metadata": {},
   "outputs": [],
   "source": [
    "dub_c.drop(columns=['Price per sq metres'], inplace=True)\n",
    "dub_c['Price per sq metres'] = dub_c['Price']/dub_c['sq metres']\n",
    "dub_c['Price per sq metres'] = dub_c['Price per sq metres'].round(2)"
   ]
  },
  {
   "cell_type": "code",
   "execution_count": 28,
   "metadata": {},
   "outputs": [
    {
     "data": {
      "text/plain": [
       "(0, 176595317.28082404)"
      ]
     },
     "execution_count": 28,
     "metadata": {},
     "output_type": "execute_result"
    },
    {
     "data": {
      "image/png": "[encoded data removed]",
      "text/plain": [
       "<Figure size 432x288 with 1 Axes>"
      ]
     },
     "metadata": {
      "needs_background": "light"
     },
     "output_type": "display_data"
    }
   ],
   "source": [
    "sns.regplot(x = 'sq metres',  y= 'Price', data = dub_c)\n",
    "plt.ylim(0,)"
   ]
  },
  {
   "cell_type": "markdown",
   "metadata": {},
   "source": [
    "We've got another outlier. Let's have a closer look"
   ]
  },
  {
   "cell_type": "code",
   "execution_count": 29,
   "metadata": {
    "scrolled": false
   },
   "outputs": [
    {
     "data": {
      "text/html": [
       "<div>\n",
       "<style scoped>\n",
       "    .dataframe tbody tr th:only-of-type {\n",
       "        vertical-align: middle;\n",
       "    }\n",
       "\n",
       "    .dataframe tbody tr th {\n",
       "        vertical-align: top;\n",
       "    }\n",
       "\n",
       "    .dataframe thead th {\n",
       "        text-align: right;\n",
       "    }\n",
       "</style>\n",
       "<table border=\"1\" class=\"dataframe\">\n",
       "  <thead>\n",
       "    <tr style=\"text-align: right;\">\n",
       "      <th></th>\n",
       "      <th>Name</th>\n",
       "      <th>Commercial Type</th>\n",
       "      <th>Price</th>\n",
       "      <th>sq metres</th>\n",
       "      <th>Neighbourhood</th>\n",
       "      <th>Price per sq metres</th>\n",
       "    </tr>\n",
       "  </thead>\n",
       "  <tbody>\n",
       "    <tr>\n",
       "      <th>49</th>\n",
       "      <td>Fitzwilliam 28, Fitzwilliam Street Lower, Dubl...</td>\n",
       "      <td>Investment Property For Sale</td>\n",
       "      <td>168000000.0</td>\n",
       "      <td>12599.0</td>\n",
       "      <td>Dublin 2</td>\n",
       "      <td>13334.39</td>\n",
       "    </tr>\n",
       "  </tbody>\n",
       "</table>\n",
       "</div>"
      ],
      "text/plain": [
       "                                                 Name  \\\n",
       "49  Fitzwilliam 28, Fitzwilliam Street Lower, Dubl...   \n",
       "\n",
       "                 Commercial Type        Price  sq metres Neighbourhood  \\\n",
       "49  Investment Property For Sale  168000000.0    12599.0      Dublin 2   \n",
       "\n",
       "    Price per sq metres  \n",
       "49             13334.39  "
      ]
     },
     "execution_count": 29,
     "metadata": {},
     "output_type": "execute_result"
    }
   ],
   "source": [
    "dub_c[dub_c['sq metres'] == dub_c['sq metres'].max()]"
   ]
  },
  {
   "cell_type": "markdown",
   "metadata": {},
   "source": [
    "Data is correct. It's an Industrial Site with a huge area. Removed from the dataset due to this type of commercial is not relevant for this project "
   ]
  },
  {
   "cell_type": "code",
   "execution_count": 10,
   "metadata": {},
   "outputs": [],
   "source": [
    "dub_c.drop(dub_c.index[49], inplace=True)"
   ]
  },
  {
   "cell_type": "code",
   "execution_count": 31,
   "metadata": {},
   "outputs": [
    {
     "data": {
      "text/plain": [
       "<matplotlib.axes._subplots.AxesSubplot at 0x23f46197788>"
      ]
     },
     "execution_count": 31,
     "metadata": {},
     "output_type": "execute_result"
    },
    {
     "data": {
      "image/png": "[encoded data removed]",
      "text/plain": [
       "<Figure size 432x288 with 1 Axes>"
      ]
     },
     "metadata": {
      "needs_background": "light"
     },
     "output_type": "display_data"
    }
   ],
   "source": [
    "sns.boxplot(x=dub_c['Price per sq metres'])"
   ]
  },
  {
   "cell_type": "code",
   "execution_count": 32,
   "metadata": {
    "scrolled": false
   },
   "outputs": [
    {
     "data": {
      "text/html": [
       "<div>\n",
       "<style scoped>\n",
       "    .dataframe tbody tr th:only-of-type {\n",
       "        vertical-align: middle;\n",
       "    }\n",
       "\n",
       "    .dataframe tbody tr th {\n",
       "        vertical-align: top;\n",
       "    }\n",
       "\n",
       "    .dataframe thead th {\n",
       "        text-align: right;\n",
       "    }\n",
       "</style>\n",
       "<table border=\"1\" class=\"dataframe\">\n",
       "  <thead>\n",
       "    <tr style=\"text-align: right;\">\n",
       "      <th></th>\n",
       "      <th>sq metres</th>\n",
       "      <th>Price</th>\n",
       "    </tr>\n",
       "  </thead>\n",
       "  <tbody>\n",
       "    <tr>\n",
       "      <th>sq metres</th>\n",
       "      <td>1.000000</td>\n",
       "      <td>0.661345</td>\n",
       "    </tr>\n",
       "    <tr>\n",
       "      <th>Price</th>\n",
       "      <td>0.661345</td>\n",
       "      <td>1.000000</td>\n",
       "    </tr>\n",
       "  </tbody>\n",
       "</table>\n",
       "</div>"
      ],
      "text/plain": [
       "           sq metres     Price\n",
       "sq metres   1.000000  0.661345\n",
       "Price       0.661345  1.000000"
      ]
     },
     "execution_count": 32,
     "metadata": {},
     "output_type": "execute_result"
    }
   ],
   "source": [
    "dub_c[['sq metres', 'Price']].corr()"
   ]
  },
  {
   "cell_type": "code",
   "execution_count": 33,
   "metadata": {},
   "outputs": [
    {
     "data": {
      "text/html": [
       "<div>\n",
       "<style scoped>\n",
       "    .dataframe tbody tr th:only-of-type {\n",
       "        vertical-align: middle;\n",
       "    }\n",
       "\n",
       "    .dataframe tbody tr th {\n",
       "        vertical-align: top;\n",
       "    }\n",
       "\n",
       "    .dataframe thead th {\n",
       "        text-align: right;\n",
       "    }\n",
       "</style>\n",
       "<table border=\"1\" class=\"dataframe\">\n",
       "  <thead>\n",
       "    <tr style=\"text-align: right;\">\n",
       "      <th></th>\n",
       "      <th>Name</th>\n",
       "      <th>Commercial Type</th>\n",
       "      <th>Price</th>\n",
       "      <th>sq metres</th>\n",
       "      <th>Neighbourhood</th>\n",
       "      <th>Price per sq metres</th>\n",
       "    </tr>\n",
       "  </thead>\n",
       "  <tbody>\n",
       "    <tr>\n",
       "      <th>6</th>\n",
       "      <td>34 Liffey Street Lower, Dublin 1</td>\n",
       "      <td>Retail Unit For Sale</td>\n",
       "      <td>850000.0</td>\n",
       "      <td>50.0</td>\n",
       "      <td>Dublin 1</td>\n",
       "      <td>17000.00</td>\n",
       "    </tr>\n",
       "    <tr>\n",
       "      <th>7</th>\n",
       "      <td>32 Liffey Street Lower, Dublin 1</td>\n",
       "      <td>Retail Unit For Sale</td>\n",
       "      <td>850000.0</td>\n",
       "      <td>55.0</td>\n",
       "      <td>Dublin 1</td>\n",
       "      <td>15454.55</td>\n",
       "    </tr>\n",
       "    <tr>\n",
       "      <th>131</th>\n",
       "      <td>80 Thomas Street, Dublin 8</td>\n",
       "      <td>Commercial Site For Sale</td>\n",
       "      <td>650000.0</td>\n",
       "      <td>43.0</td>\n",
       "      <td>Dublin 8</td>\n",
       "      <td>15116.28</td>\n",
       "    </tr>\n",
       "    <tr>\n",
       "      <th>50</th>\n",
       "      <td>33-34 Essex Street, Temple Bar, Dublin 2, Dubl...</td>\n",
       "      <td>Investment Property For Sale</td>\n",
       "      <td>2500000.0</td>\n",
       "      <td>166.0</td>\n",
       "      <td>Dublin 2</td>\n",
       "      <td>15060.24</td>\n",
       "    </tr>\n",
       "    <tr>\n",
       "      <th>47</th>\n",
       "      <td>4 St Stephen's Green, Dublin 2</td>\n",
       "      <td>Investment Property For Sale</td>\n",
       "      <td>4250000.0</td>\n",
       "      <td>297.0</td>\n",
       "      <td>Dublin 2</td>\n",
       "      <td>14309.76</td>\n",
       "    </tr>\n",
       "    <tr>\n",
       "      <th>53</th>\n",
       "      <td>Dame Street, Dublin 2</td>\n",
       "      <td>Restaurant / Bar / Hotel For Sale</td>\n",
       "      <td>500000.0</td>\n",
       "      <td>35.0</td>\n",
       "      <td>Dublin 2</td>\n",
       "      <td>14285.71</td>\n",
       "    </tr>\n",
       "  </tbody>\n",
       "</table>\n",
       "</div>"
      ],
      "text/plain": [
       "                                                  Name  \\\n",
       "6                     34 Liffey Street Lower, Dublin 1   \n",
       "7                     32 Liffey Street Lower, Dublin 1   \n",
       "131                         80 Thomas Street, Dublin 8   \n",
       "50   33-34 Essex Street, Temple Bar, Dublin 2, Dubl...   \n",
       "47                      4 St Stephen's Green, Dublin 2   \n",
       "53                               Dame Street, Dublin 2   \n",
       "\n",
       "                       Commercial Type      Price  sq metres Neighbourhood  \\\n",
       "6                 Retail Unit For Sale   850000.0       50.0      Dublin 1   \n",
       "7                 Retail Unit For Sale   850000.0       55.0      Dublin 1   \n",
       "131           Commercial Site For Sale   650000.0       43.0      Dublin 8   \n",
       "50        Investment Property For Sale  2500000.0      166.0      Dublin 2   \n",
       "47        Investment Property For Sale  4250000.0      297.0      Dublin 2   \n",
       "53   Restaurant / Bar / Hotel For Sale   500000.0       35.0      Dublin 2   \n",
       "\n",
       "     Price per sq metres  \n",
       "6               17000.00  \n",
       "7               15454.55  \n",
       "131             15116.28  \n",
       "50              15060.24  \n",
       "47              14309.76  \n",
       "53              14285.71  "
      ]
     },
     "execution_count": 33,
     "metadata": {},
     "output_type": "execute_result"
    }
   ],
   "source": [
    "dub_c.sort_values(by=['Price per sq metres'], ascending=False).head(6)"
   ]
  },
  {
   "cell_type": "code",
   "execution_count": 37,
   "metadata": {},
   "outputs": [
    {
     "data": {
      "text/html": [
       "<div>\n",
       "<style scoped>\n",
       "    .dataframe tbody tr th:only-of-type {\n",
       "        vertical-align: middle;\n",
       "    }\n",
       "\n",
       "    .dataframe tbody tr th {\n",
       "        vertical-align: top;\n",
       "    }\n",
       "\n",
       "    .dataframe thead th {\n",
       "        text-align: right;\n",
       "    }\n",
       "</style>\n",
       "<table border=\"1\" class=\"dataframe\">\n",
       "  <thead>\n",
       "    <tr style=\"text-align: right;\">\n",
       "      <th></th>\n",
       "      <th>Name</th>\n",
       "      <th>Commercial Type</th>\n",
       "      <th>Price</th>\n",
       "      <th>sq metres</th>\n",
       "      <th>Neighbourhood</th>\n",
       "      <th>Price per sq metres</th>\n",
       "    </tr>\n",
       "  </thead>\n",
       "  <tbody>\n",
       "    <tr>\n",
       "      <th>137</th>\n",
       "      <td>Units 26, 42 &amp; 43 Cherry Orchard Industrial Es...</td>\n",
       "      <td>Industrial Unit To Let or For Sale</td>\n",
       "      <td>1950000.0</td>\n",
       "      <td>4297.0</td>\n",
       "      <td>Dublin 10</td>\n",
       "      <td>453.80</td>\n",
       "    </tr>\n",
       "    <tr>\n",
       "      <th>182</th>\n",
       "      <td>3 Ballymount Cottages, Turnpike road, Ballymou...</td>\n",
       "      <td>Commercial Site For Sale</td>\n",
       "      <td>595000.0</td>\n",
       "      <td>1100.0</td>\n",
       "      <td>Dublin 12</td>\n",
       "      <td>540.91</td>\n",
       "    </tr>\n",
       "    <tr>\n",
       "      <th>141</th>\n",
       "      <td>Unit 94B Lagan Road, Dublin Industrial Estate,...</td>\n",
       "      <td>Industrial Unit For Sale</td>\n",
       "      <td>380000.0</td>\n",
       "      <td>641.0</td>\n",
       "      <td>Dublin 11</td>\n",
       "      <td>592.82</td>\n",
       "    </tr>\n",
       "    <tr>\n",
       "      <th>184</th>\n",
       "      <td>122a Cromwellsfort Road and 2 Cherry Grove Roa...</td>\n",
       "      <td>Commercial Site For Sale</td>\n",
       "      <td>850000.0</td>\n",
       "      <td>1376.0</td>\n",
       "      <td>Dublin 12</td>\n",
       "      <td>617.73</td>\n",
       "    </tr>\n",
       "    <tr>\n",
       "      <th>163</th>\n",
       "      <td>Centro House, Bluebell Avenue, Bluebell Indust...</td>\n",
       "      <td>Industrial Unit For Sale</td>\n",
       "      <td>995000.0</td>\n",
       "      <td>1596.0</td>\n",
       "      <td>Dublin 12</td>\n",
       "      <td>623.43</td>\n",
       "    </tr>\n",
       "  </tbody>\n",
       "</table>\n",
       "</div>"
      ],
      "text/plain": [
       "                                                  Name  \\\n",
       "137  Units 26, 42 & 43 Cherry Orchard Industrial Es...   \n",
       "182  3 Ballymount Cottages, Turnpike road, Ballymou...   \n",
       "141  Unit 94B Lagan Road, Dublin Industrial Estate,...   \n",
       "184  122a Cromwellsfort Road and 2 Cherry Grove Roa...   \n",
       "163  Centro House, Bluebell Avenue, Bluebell Indust...   \n",
       "\n",
       "                        Commercial Type      Price  sq metres Neighbourhood  \\\n",
       "137  Industrial Unit To Let or For Sale  1950000.0     4297.0     Dublin 10   \n",
       "182            Commercial Site For Sale   595000.0     1100.0     Dublin 12   \n",
       "141            Industrial Unit For Sale   380000.0      641.0     Dublin 11   \n",
       "184            Commercial Site For Sale   850000.0     1376.0     Dublin 12   \n",
       "163            Industrial Unit For Sale   995000.0     1596.0     Dublin 12   \n",
       "\n",
       "     Price per sq metres  \n",
       "137               453.80  \n",
       "182               540.91  \n",
       "141               592.82  \n",
       "184               617.73  \n",
       "163               623.43  "
      ]
     },
     "execution_count": 37,
     "metadata": {},
     "output_type": "execute_result"
    }
   ],
   "source": [
    "dub_c.sort_values(by=['Price per sq metres']).head()"
   ]
  },
  {
   "cell_type": "markdown",
   "metadata": {},
   "source": [
    "Removing the outlier"
   ]
  },
  {
   "cell_type": "code",
   "execution_count": 11,
   "metadata": {},
   "outputs": [],
   "source": [
    "dub_c.drop(dub_c.index[67], inplace=True)"
   ]
  },
  {
   "cell_type": "markdown",
   "metadata": {},
   "source": [
    "Reindexing the dataframe"
   ]
  },
  {
   "cell_type": "code",
   "execution_count": 12,
   "metadata": {},
   "outputs": [],
   "source": [
    "dub_c.reset_index(drop=True, inplace=True)"
   ]
  },
  {
   "cell_type": "code",
   "execution_count": 40,
   "metadata": {},
   "outputs": [
    {
     "data": {
      "text/html": [
       "<div>\n",
       "<style scoped>\n",
       "    .dataframe tbody tr th:only-of-type {\n",
       "        vertical-align: middle;\n",
       "    }\n",
       "\n",
       "    .dataframe tbody tr th {\n",
       "        vertical-align: top;\n",
       "    }\n",
       "\n",
       "    .dataframe thead th {\n",
       "        text-align: right;\n",
       "    }\n",
       "</style>\n",
       "<table border=\"1\" class=\"dataframe\">\n",
       "  <thead>\n",
       "    <tr style=\"text-align: right;\">\n",
       "      <th></th>\n",
       "      <th>Name</th>\n",
       "      <th>Commercial Type</th>\n",
       "      <th>Price</th>\n",
       "      <th>sq metres</th>\n",
       "      <th>Neighbourhood</th>\n",
       "      <th>Price per sq metres</th>\n",
       "    </tr>\n",
       "  </thead>\n",
       "  <tbody>\n",
       "    <tr>\n",
       "      <th>0</th>\n",
       "      <td>Cleary's Bar, Lounge &amp; Adjacent Barbers Shop, ...</td>\n",
       "      <td>Restaurant / Bar / Hotel For Sale</td>\n",
       "      <td>1500000.0</td>\n",
       "      <td>301.0</td>\n",
       "      <td>Dublin 1</td>\n",
       "      <td>4983.39</td>\n",
       "    </tr>\n",
       "    <tr>\n",
       "      <th>1</th>\n",
       "      <td>21 Ormond Quay Upper, Dublin 1</td>\n",
       "      <td>Restaurant / Bar / Hotel For Sale</td>\n",
       "      <td>2250000.0</td>\n",
       "      <td>570.0</td>\n",
       "      <td>Dublin 1</td>\n",
       "      <td>3947.37</td>\n",
       "    </tr>\n",
       "  </tbody>\n",
       "</table>\n",
       "</div>"
      ],
      "text/plain": [
       "                                                Name  \\\n",
       "0  Cleary's Bar, Lounge & Adjacent Barbers Shop, ...   \n",
       "1                     21 Ormond Quay Upper, Dublin 1   \n",
       "\n",
       "                     Commercial Type      Price  sq metres Neighbourhood  \\\n",
       "0  Restaurant / Bar / Hotel For Sale  1500000.0      301.0      Dublin 1   \n",
       "1  Restaurant / Bar / Hotel For Sale  2250000.0      570.0      Dublin 1   \n",
       "\n",
       "   Price per sq metres  \n",
       "0              4983.39  \n",
       "1              3947.37  "
      ]
     },
     "execution_count": 40,
     "metadata": {},
     "output_type": "execute_result"
    }
   ],
   "source": [
    "dub_c.head(2)"
   ]
  },
  {
   "cell_type": "code",
   "execution_count": 41,
   "metadata": {},
   "outputs": [
    {
     "data": {
      "text/html": [
       "<div>\n",
       "<style scoped>\n",
       "    .dataframe tbody tr th:only-of-type {\n",
       "        vertical-align: middle;\n",
       "    }\n",
       "\n",
       "    .dataframe tbody tr th {\n",
       "        vertical-align: top;\n",
       "    }\n",
       "\n",
       "    .dataframe thead th {\n",
       "        text-align: right;\n",
       "    }\n",
       "</style>\n",
       "<table border=\"1\" class=\"dataframe\">\n",
       "  <thead>\n",
       "    <tr style=\"text-align: right;\">\n",
       "      <th></th>\n",
       "      <th>Name</th>\n",
       "      <th>Commercial Type</th>\n",
       "      <th>Price</th>\n",
       "      <th>sq metres</th>\n",
       "      <th>Neighbourhood</th>\n",
       "      <th>Price per sq metres</th>\n",
       "    </tr>\n",
       "  </thead>\n",
       "  <tbody>\n",
       "    <tr>\n",
       "      <th>135</th>\n",
       "      <td>Units 26, 42 &amp; 43 Cherry Orchard Industrial Es...</td>\n",
       "      <td>Industrial Unit To Let or For Sale</td>\n",
       "      <td>1950000.0</td>\n",
       "      <td>4297.0</td>\n",
       "      <td>Dublin 10</td>\n",
       "      <td>453.80</td>\n",
       "    </tr>\n",
       "    <tr>\n",
       "      <th>180</th>\n",
       "      <td>3 Ballymount Cottages, Turnpike road, Ballymou...</td>\n",
       "      <td>Commercial Site For Sale</td>\n",
       "      <td>595000.0</td>\n",
       "      <td>1100.0</td>\n",
       "      <td>Dublin 12</td>\n",
       "      <td>540.91</td>\n",
       "    </tr>\n",
       "  </tbody>\n",
       "</table>\n",
       "</div>"
      ],
      "text/plain": [
       "                                                  Name  \\\n",
       "135  Units 26, 42 & 43 Cherry Orchard Industrial Es...   \n",
       "180  3 Ballymount Cottages, Turnpike road, Ballymou...   \n",
       "\n",
       "                        Commercial Type      Price  sq metres Neighbourhood  \\\n",
       "135  Industrial Unit To Let or For Sale  1950000.0     4297.0     Dublin 10   \n",
       "180            Commercial Site For Sale   595000.0     1100.0     Dublin 12   \n",
       "\n",
       "     Price per sq metres  \n",
       "135               453.80  \n",
       "180               540.91  "
      ]
     },
     "execution_count": 41,
     "metadata": {},
     "output_type": "execute_result"
    }
   ],
   "source": [
    "dub_c.sort_values(by=['Price per sq metres']).head(2)"
   ]
  },
  {
   "cell_type": "markdown",
   "metadata": {},
   "source": [
    "Grouping rows in order to visualize the Distribution Price per sq. metre by Districts using Matplotlib"
   ]
  },
  {
   "cell_type": "code",
   "execution_count": 13,
   "metadata": {},
   "outputs": [],
   "source": [
    "dub_c_grouped = dub_c.groupby('Neighbourhood').mean().reset_index()\n",
    "dub_c_grouped = dub_c_grouped.round(2)\n",
    "dub_c_grouped.sort_values(by=['Price per sq metres'], ascending=False, inplace=True)\n",
    "dub_c_grouped.drop(columns=['Price', 'sq metres'], inplace=True)\n",
    "dub_c_grouped.set_index('Neighbourhood', inplace=True)"
   ]
  },
  {
   "cell_type": "code",
   "execution_count": 43,
   "metadata": {
    "scrolled": false
   },
   "outputs": [
    {
     "data": {
      "image/png": "[encoded data removed]",
      "text/plain": [
       "<Figure size 720x432 with 1 Axes>"
      ]
     },
     "metadata": {},
     "output_type": "display_data"
    }
   ],
   "source": [
    "plt.style.use('ggplot') # optional: for ggplot-like style\n",
    "ax = dub_c_grouped.plot(kind='bar', figsize=(10, 6))\n",
    "ax.set_facecolor('white') # remove background\n",
    "ax.get_legend().remove() # remove legend\n",
    "plt.xlabel('District') # add to x-label to the plot\n",
    "plt.ylabel('Price per sq. metre') # add y-label to the plot\n",
    "plt.title('Distribution Price per sq. metre by Districts - Dublin City Center') # add title to the plot\n",
    "\n",
    "plt.show()"
   ]
  },
  {
   "cell_type": "code",
   "execution_count": 44,
   "metadata": {},
   "outputs": [
    {
     "data": {
      "text/html": [
       "<div>\n",
       "<style scoped>\n",
       "    .dataframe tbody tr th:only-of-type {\n",
       "        vertical-align: middle;\n",
       "    }\n",
       "\n",
       "    .dataframe tbody tr th {\n",
       "        vertical-align: top;\n",
       "    }\n",
       "\n",
       "    .dataframe thead th {\n",
       "        text-align: right;\n",
       "    }\n",
       "</style>\n",
       "<table border=\"1\" class=\"dataframe\">\n",
       "  <thead>\n",
       "    <tr style=\"text-align: right;\">\n",
       "      <th></th>\n",
       "      <th>Price per sq metres</th>\n",
       "    </tr>\n",
       "    <tr>\n",
       "      <th>Neighbourhood</th>\n",
       "      <th></th>\n",
       "    </tr>\n",
       "  </thead>\n",
       "  <tbody>\n",
       "    <tr>\n",
       "      <th>Dublin 2</th>\n",
       "      <td>6560.94</td>\n",
       "    </tr>\n",
       "    <tr>\n",
       "      <th>Dublin 4</th>\n",
       "      <td>5606.02</td>\n",
       "    </tr>\n",
       "    <tr>\n",
       "      <th>Dublin 1</th>\n",
       "      <td>4820.62</td>\n",
       "    </tr>\n",
       "    <tr>\n",
       "      <th>Dublin 7</th>\n",
       "      <td>4531.15</td>\n",
       "    </tr>\n",
       "    <tr>\n",
       "      <th>Dublin 6</th>\n",
       "      <td>4266.99</td>\n",
       "    </tr>\n",
       "    <tr>\n",
       "      <th>Dublin 8</th>\n",
       "      <td>3917.16</td>\n",
       "    </tr>\n",
       "    <tr>\n",
       "      <th>Dublin 5</th>\n",
       "      <td>3711.50</td>\n",
       "    </tr>\n",
       "    <tr>\n",
       "      <th>Dublin 9</th>\n",
       "      <td>3674.16</td>\n",
       "    </tr>\n",
       "    <tr>\n",
       "      <th>Dublin 3</th>\n",
       "      <td>3261.93</td>\n",
       "    </tr>\n",
       "    <tr>\n",
       "      <th>Dublin 11</th>\n",
       "      <td>2238.17</td>\n",
       "    </tr>\n",
       "    <tr>\n",
       "      <th>Dublin 6w</th>\n",
       "      <td>2229.39</td>\n",
       "    </tr>\n",
       "    <tr>\n",
       "      <th>Dublin 10</th>\n",
       "      <td>1733.90</td>\n",
       "    </tr>\n",
       "    <tr>\n",
       "      <th>Dublin 12</th>\n",
       "      <td>1315.25</td>\n",
       "    </tr>\n",
       "  </tbody>\n",
       "</table>\n",
       "</div>"
      ],
      "text/plain": [
       "               Price per sq metres\n",
       "Neighbourhood                     \n",
       "Dublin 2                   6560.94\n",
       "Dublin 4                   5606.02\n",
       "Dublin 1                   4820.62\n",
       "Dublin 7                   4531.15\n",
       "Dublin 6                   4266.99\n",
       "Dublin 8                   3917.16\n",
       "Dublin 5                   3711.50\n",
       "Dublin 9                   3674.16\n",
       "Dublin 3                   3261.93\n",
       "Dublin 11                  2238.17\n",
       "Dublin 6w                  2229.39\n",
       "Dublin 10                  1733.90\n",
       "Dublin 12                  1315.25"
      ]
     },
     "execution_count": 44,
     "metadata": {},
     "output_type": "execute_result"
    }
   ],
   "source": [
    "dub_c_grouped"
   ]
  },
  {
   "cell_type": "code",
   "execution_count": 45,
   "metadata": {},
   "outputs": [
    {
     "data": {
      "text/plain": [
       "(191, 6)"
      ]
     },
     "execution_count": 45,
     "metadata": {},
     "output_type": "execute_result"
    }
   ],
   "source": [
    "dub_c.shape"
   ]
  },
  {
   "cell_type": "markdown",
   "metadata": {},
   "source": [
    "Adding coordinates to represent data on map"
   ]
  },
  {
   "cell_type": "code",
   "execution_count": 46,
   "metadata": {},
   "outputs": [],
   "source": [
    "def getCoordinates(names):\n",
    "    \n",
    "    Coordinates_list=[]\n",
    "    for name in zip(names):\n",
    "        space = '     '\n",
    "        print(name[0] +'{}'.format(10*space), end=\"\\r\", flush=True)\n",
    "        query = gmaps.geocode(name)\n",
    "\n",
    "        Coordinates_list.append([(\n",
    "            name[0],\n",
    "            v['geometry']['location']['lat'], \n",
    "            v['geometry']['location']['lng']) for v in query])\n",
    "\n",
    "    Coordinates = pd.DataFrame([item for Coordinate_list in Coordinates_list for item in Coordinate_list])\n",
    "    Coordinates.columns = ['Name',\n",
    "                  'Latitude', \n",
    "                  'Longitude']\n",
    "\n",
    "    return(Coordinates)"
   ]
  },
  {
   "cell_type": "code",
   "execution_count": 71,
   "metadata": {},
   "outputs": [
    {
     "name": "stdout",
     "output_type": "stream",
     "text": [
      "Unit 7 A, Riverview Business Park, New Nangor Road, Park West, Dublin 12                                                                                          \r"
     ]
    }
   ],
   "source": [
    "dub_c_coordinates = getCoordinates(names = dub_c['Name'])"
   ]
  },
  {
   "cell_type": "markdown",
   "metadata": {},
   "source": [
    "Finding some duplicates due to Gmap API drop a couple of coordinates on some locations"
   ]
  },
  {
   "cell_type": "code",
   "execution_count": 86,
   "metadata": {},
   "outputs": [
    {
     "name": "stdout",
     "output_type": "stream",
     "text": [
      "There're 46 duplicates rows\n"
     ]
    }
   ],
   "source": [
    "print ('There\\'re {} duplicates rows'.format (dub_c_coordinates['Name'].duplicated().sum()))"
   ]
  },
  {
   "cell_type": "code",
   "execution_count": 2,
   "metadata": {},
   "outputs": [],
   "source": [
    "dub_c_coordinates = pd.read_csv('Features_csv/duc_c_coordinates_new_t.csv')"
   ]
  },
  {
   "cell_type": "code",
   "execution_count": 3,
   "metadata": {},
   "outputs": [],
   "source": [
    "dub_c_coor_clean = dub_c_coordinates.drop_duplicates(['Name'], keep='first')"
   ]
  },
  {
   "cell_type": "markdown",
   "metadata": {},
   "source": [
    "Checking all rows are unique"
   ]
  },
  {
   "cell_type": "code",
   "execution_count": 51,
   "metadata": {},
   "outputs": [
    {
     "data": {
      "text/plain": [
       "True"
      ]
     },
     "execution_count": 51,
     "metadata": {},
     "output_type": "execute_result"
    }
   ],
   "source": [
    "dub_c_coor_clean['Name'].is_unique"
   ]
  },
  {
   "cell_type": "markdown",
   "metadata": {},
   "source": [
    "#### dub_c_coordinates.to_csv('dub_c_coordinates_new_mod.csv', index=False)"
   ]
  },
  {
   "cell_type": "code",
   "execution_count": 52,
   "metadata": {},
   "outputs": [
    {
     "data": {
      "text/plain": [
       "(187, 3)"
      ]
     },
     "execution_count": 52,
     "metadata": {},
     "output_type": "execute_result"
    }
   ],
   "source": [
    "dub_c_coor_clean.shape"
   ]
  },
  {
   "cell_type": "code",
   "execution_count": 14,
   "metadata": {},
   "outputs": [],
   "source": [
    "dub_c = dub_c.drop_duplicates(['Name'], keep='first')"
   ]
  },
  {
   "cell_type": "code",
   "execution_count": 54,
   "metadata": {},
   "outputs": [
    {
     "data": {
      "text/plain": [
       "(186, 6)"
      ]
     },
     "execution_count": 54,
     "metadata": {},
     "output_type": "execute_result"
    }
   ],
   "source": [
    "dub_c.shape"
   ]
  },
  {
   "cell_type": "markdown",
   "metadata": {},
   "source": [
    "Merging dataframes in order to keep the rest of the columns"
   ]
  },
  {
   "cell_type": "code",
   "execution_count": 15,
   "metadata": {},
   "outputs": [],
   "source": [
    "dub_result = pd.merge(dub_c, dub_c_coor_clean, how='left', on=['Name'])"
   ]
  },
  {
   "cell_type": "code",
   "execution_count": 56,
   "metadata": {},
   "outputs": [
    {
     "data": {
      "text/html": [
       "<div>\n",
       "<style scoped>\n",
       "    .dataframe tbody tr th:only-of-type {\n",
       "        vertical-align: middle;\n",
       "    }\n",
       "\n",
       "    .dataframe tbody tr th {\n",
       "        vertical-align: top;\n",
       "    }\n",
       "\n",
       "    .dataframe thead th {\n",
       "        text-align: right;\n",
       "    }\n",
       "</style>\n",
       "<table border=\"1\" class=\"dataframe\">\n",
       "  <thead>\n",
       "    <tr style=\"text-align: right;\">\n",
       "      <th></th>\n",
       "      <th>Name</th>\n",
       "      <th>Commercial Type</th>\n",
       "      <th>Price</th>\n",
       "      <th>sq metres</th>\n",
       "      <th>Neighbourhood</th>\n",
       "      <th>Price per sq metres</th>\n",
       "      <th>Latitude</th>\n",
       "      <th>Longitude</th>\n",
       "    </tr>\n",
       "  </thead>\n",
       "  <tbody>\n",
       "    <tr>\n",
       "      <th>0</th>\n",
       "      <td>Cleary's Bar, Lounge &amp; Adjacent Barbers Shop, ...</td>\n",
       "      <td>Restaurant / Bar / Hotel For Sale</td>\n",
       "      <td>1500000.0</td>\n",
       "      <td>301.0</td>\n",
       "      <td>Dublin 1</td>\n",
       "      <td>4983.39</td>\n",
       "      <td>53.352145</td>\n",
       "      <td>-6.249610</td>\n",
       "    </tr>\n",
       "    <tr>\n",
       "      <th>1</th>\n",
       "      <td>21 Ormond Quay Upper, Dublin 1</td>\n",
       "      <td>Restaurant / Bar / Hotel For Sale</td>\n",
       "      <td>2250000.0</td>\n",
       "      <td>570.0</td>\n",
       "      <td>Dublin 1</td>\n",
       "      <td>3947.37</td>\n",
       "      <td>53.345893</td>\n",
       "      <td>-6.270229</td>\n",
       "    </tr>\n",
       "  </tbody>\n",
       "</table>\n",
       "</div>"
      ],
      "text/plain": [
       "                                                Name  \\\n",
       "0  Cleary's Bar, Lounge & Adjacent Barbers Shop, ...   \n",
       "1                     21 Ormond Quay Upper, Dublin 1   \n",
       "\n",
       "                     Commercial Type      Price  sq metres Neighbourhood  \\\n",
       "0  Restaurant / Bar / Hotel For Sale  1500000.0      301.0      Dublin 1   \n",
       "1  Restaurant / Bar / Hotel For Sale  2250000.0      570.0      Dublin 1   \n",
       "\n",
       "   Price per sq metres   Latitude  Longitude  \n",
       "0              4983.39  53.352145  -6.249610  \n",
       "1              3947.37  53.345893  -6.270229  "
      ]
     },
     "execution_count": 56,
     "metadata": {},
     "output_type": "execute_result"
    }
   ],
   "source": [
    "dub_result.head(2)"
   ]
  },
  {
   "cell_type": "markdown",
   "metadata": {},
   "source": [
    "Creating an array with 'Latitude', 'Longitude', 'Price per sq metres' columns in order to input to the HeatMap"
   ]
  },
  {
   "cell_type": "code",
   "execution_count": 16,
   "metadata": {},
   "outputs": [],
   "source": [
    "dub_data = dub_result[['Latitude', 'Longitude', 'Price per sq metres']].values"
   ]
  },
  {
   "cell_type": "markdown",
   "metadata": {},
   "source": [
    "Representation of the areas with higher price per sq. metre in Dublin City"
   ]
  },
  {
   "cell_type": "code",
   "execution_count": 17,
   "metadata": {},
   "outputs": [
    {
     "data": {
      "text/html": [
       "<div style=\"width:100%;\"><div style=\"position:relative;width:100%;height:0;padding-bottom:60%;\"><iframe src=\"about:blank\" style=\"position:absolute;width:100%;height:100%;left:0;top:0;border:none !important;\" data-html=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 onload=\"this.contentDocument.open();this.contentDocument.write(atob(this.getAttribute('data-html')));this.contentDocument.close();\" allowfullscreen webkitallowfullscreen mozallowfullscreen></iframe></div></div>"
      ],
      "text/plain": [
       "<folium.folium.Map at 0x220a8656c88>"
      ]
     },
     "execution_count": 17,
     "metadata": {},
     "output_type": "execute_result"
    }
   ],
   "source": [
    "max_price = float(dub_result['Price per sq metres'].max())\n",
    "dub_latitude = '53.341785'\n",
    "dub_longitude = '-6.265288'\n",
    "# create map of Dublin using latitude and longitude values\n",
    "map_dublin = folium.Map(location=[dub_latitude, dub_longitude], zoom_start=14)\n",
    "\n",
    "HeatMap(list(zip(dub_result.Latitude.values, dub_result.Longitude.values, dub_result['Price per sq metres'].values)), \n",
    "        radius = 50, blur=50, max_val=max_price).add_to(folium.FeatureGroup(name='Heat Map').add_to(map_dublin))\n",
    "folium.LayerControl().add_to(map_dublin)\n",
    "    \n",
    "map_dublin"
   ]
  },
  {
   "cell_type": "markdown",
   "metadata": {},
   "source": [
    "As we can see, there are spots with no data, so in order to have a more consistent price on the map:\n",
    "\n",
    "Mesh points created to set the scope boundaries for this project will be used.\n",
    "- Getting the correspondent District for each point of the mesh\n",
    "- Assigning the median value obtained from the Groupby Districts which has been calculated\n",
    "- Adding this new data to the HeatMap"
   ]
  },
  {
   "cell_type": "code",
   "execution_count": 21,
   "metadata": {},
   "outputs": [],
   "source": [
    "dub_mesh = pd.read_csv('Features_csv/Dublin_mesh_76.csv')"
   ]
  },
  {
   "cell_type": "code",
   "execution_count": 60,
   "metadata": {
    "scrolled": true
   },
   "outputs": [
    {
     "data": {
      "text/html": [
       "<div>\n",
       "<style scoped>\n",
       "    .dataframe tbody tr th:only-of-type {\n",
       "        vertical-align: middle;\n",
       "    }\n",
       "\n",
       "    .dataframe tbody tr th {\n",
       "        vertical-align: top;\n",
       "    }\n",
       "\n",
       "    .dataframe thead th {\n",
       "        text-align: right;\n",
       "    }\n",
       "</style>\n",
       "<table border=\"1\" class=\"dataframe\">\n",
       "  <thead>\n",
       "    <tr style=\"text-align: right;\">\n",
       "      <th></th>\n",
       "      <th>Unnamed: 0</th>\n",
       "      <th>Latitude</th>\n",
       "      <th>Longitude</th>\n",
       "      <th>Coordinates</th>\n",
       "      <th>District</th>\n",
       "      <th>PostCode</th>\n",
       "    </tr>\n",
       "  </thead>\n",
       "  <tbody>\n",
       "    <tr>\n",
       "      <th>0</th>\n",
       "      <td>0</td>\n",
       "      <td>53.322556</td>\n",
       "      <td>-6.287982</td>\n",
       "      <td>53.322556, -6.287982</td>\n",
       "      <td>Kimmage C ED</td>\n",
       "      <td>Dublin 6</td>\n",
       "    </tr>\n",
       "  </tbody>\n",
       "</table>\n",
       "</div>"
      ],
      "text/plain": [
       "   Unnamed: 0   Latitude  Longitude           Coordinates      District  \\\n",
       "0           0  53.322556  -6.287982  53.322556, -6.287982  Kimmage C ED   \n",
       "\n",
       "   PostCode  \n",
       "0  Dublin 6  "
      ]
     },
     "execution_count": 60,
     "metadata": {},
     "output_type": "execute_result"
    }
   ],
   "source": [
    "dub_mesh.head(1)"
   ]
  },
  {
   "cell_type": "code",
   "execution_count": 22,
   "metadata": {},
   "outputs": [
    {
     "data": {
      "text/html": [
       "<div>\n",
       "<style scoped>\n",
       "    .dataframe tbody tr th:only-of-type {\n",
       "        vertical-align: middle;\n",
       "    }\n",
       "\n",
       "    .dataframe tbody tr th {\n",
       "        vertical-align: top;\n",
       "    }\n",
       "\n",
       "    .dataframe thead th {\n",
       "        text-align: right;\n",
       "    }\n",
       "</style>\n",
       "<table border=\"1\" class=\"dataframe\">\n",
       "  <thead>\n",
       "    <tr style=\"text-align: right;\">\n",
       "      <th></th>\n",
       "      <th>Latitude</th>\n",
       "      <th>Longitude</th>\n",
       "      <th>PostCode</th>\n",
       "    </tr>\n",
       "  </thead>\n",
       "  <tbody>\n",
       "    <tr>\n",
       "      <th>0</th>\n",
       "      <td>53.322556</td>\n",
       "      <td>-6.287982</td>\n",
       "      <td>Dublin 6</td>\n",
       "    </tr>\n",
       "    <tr>\n",
       "      <th>1</th>\n",
       "      <td>53.322556</td>\n",
       "      <td>-6.280417</td>\n",
       "      <td>Dublin 6</td>\n",
       "    </tr>\n",
       "  </tbody>\n",
       "</table>\n",
       "</div>"
      ],
      "text/plain": [
       "    Latitude  Longitude  PostCode\n",
       "0  53.322556  -6.287982  Dublin 6\n",
       "1  53.322556  -6.280417  Dublin 6"
      ]
     },
     "execution_count": 22,
     "metadata": {},
     "output_type": "execute_result"
    }
   ],
   "source": [
    "dub_mesh_clean = dub_mesh[['Latitude', 'Longitude', 'PostCode']].copy()\n",
    "dub_mesh_clean.head(2)"
   ]
  },
  {
   "cell_type": "markdown",
   "metadata": {},
   "source": [
    "Using Groupby data"
   ]
  },
  {
   "cell_type": "code",
   "execution_count": 63,
   "metadata": {
    "scrolled": false
   },
   "outputs": [
    {
     "data": {
      "text/html": [
       "<div>\n",
       "<style scoped>\n",
       "    .dataframe tbody tr th:only-of-type {\n",
       "        vertical-align: middle;\n",
       "    }\n",
       "\n",
       "    .dataframe tbody tr th {\n",
       "        vertical-align: top;\n",
       "    }\n",
       "\n",
       "    .dataframe thead th {\n",
       "        text-align: right;\n",
       "    }\n",
       "</style>\n",
       "<table border=\"1\" class=\"dataframe\">\n",
       "  <thead>\n",
       "    <tr style=\"text-align: right;\">\n",
       "      <th></th>\n",
       "      <th>Price per sq metres</th>\n",
       "    </tr>\n",
       "    <tr>\n",
       "      <th>Neighbourhood</th>\n",
       "      <th></th>\n",
       "    </tr>\n",
       "  </thead>\n",
       "  <tbody>\n",
       "    <tr>\n",
       "      <th>Dublin 2</th>\n",
       "      <td>6560.94</td>\n",
       "    </tr>\n",
       "    <tr>\n",
       "      <th>Dublin 4</th>\n",
       "      <td>5606.02</td>\n",
       "    </tr>\n",
       "    <tr>\n",
       "      <th>Dublin 1</th>\n",
       "      <td>4820.62</td>\n",
       "    </tr>\n",
       "    <tr>\n",
       "      <th>Dublin 7</th>\n",
       "      <td>4531.15</td>\n",
       "    </tr>\n",
       "    <tr>\n",
       "      <th>Dublin 6</th>\n",
       "      <td>4266.99</td>\n",
       "    </tr>\n",
       "  </tbody>\n",
       "</table>\n",
       "</div>"
      ],
      "text/plain": [
       "               Price per sq metres\n",
       "Neighbourhood                     \n",
       "Dublin 2                   6560.94\n",
       "Dublin 4                   5606.02\n",
       "Dublin 1                   4820.62\n",
       "Dublin 7                   4531.15\n",
       "Dublin 6                   4266.99"
      ]
     },
     "execution_count": 63,
     "metadata": {},
     "output_type": "execute_result"
    }
   ],
   "source": [
    "dub_c_grouped.head()"
   ]
  },
  {
   "cell_type": "code",
   "execution_count": 163,
   "metadata": {},
   "outputs": [],
   "source": [
    "# dub_c_grouped.to_csv('Dublin_median_price_by_Districts.csv')"
   ]
  },
  {
   "cell_type": "code",
   "execution_count": null,
   "metadata": {
    "scrolled": true
   },
   "outputs": [],
   "source": [
    "i=0\n",
    "for i in range(0, len(dub_mesh_clean)):\n",
    "    dub_mesh_clean.loc[i, 'Price per sq metres'] = dub_c_grouped.loc[dub_mesh_clean.loc[i, 'PostCode'], 'Price per sq metres']"
   ]
  },
  {
   "cell_type": "code",
   "execution_count": 67,
   "metadata": {
    "scrolled": true
   },
   "outputs": [
    {
     "data": {
      "text/html": [
       "<div>\n",
       "<style scoped>\n",
       "    .dataframe tbody tr th:only-of-type {\n",
       "        vertical-align: middle;\n",
       "    }\n",
       "\n",
       "    .dataframe tbody tr th {\n",
       "        vertical-align: top;\n",
       "    }\n",
       "\n",
       "    .dataframe thead th {\n",
       "        text-align: right;\n",
       "    }\n",
       "</style>\n",
       "<table border=\"1\" class=\"dataframe\">\n",
       "  <thead>\n",
       "    <tr style=\"text-align: right;\">\n",
       "      <th></th>\n",
       "      <th>Latitude</th>\n",
       "      <th>Longitude</th>\n",
       "      <th>PostCode</th>\n",
       "      <th>Price per sq metres</th>\n",
       "    </tr>\n",
       "  </thead>\n",
       "  <tbody>\n",
       "    <tr>\n",
       "      <th>55</th>\n",
       "      <td>53.346592</td>\n",
       "      <td>-6.242594</td>\n",
       "      <td>Dublin 2</td>\n",
       "      <td>6560.94</td>\n",
       "    </tr>\n",
       "    <tr>\n",
       "      <th>3</th>\n",
       "      <td>53.322556</td>\n",
       "      <td>-6.265288</td>\n",
       "      <td>Dublin 6</td>\n",
       "      <td>4266.99</td>\n",
       "    </tr>\n",
       "    <tr>\n",
       "      <th>18</th>\n",
       "      <td>53.332171</td>\n",
       "      <td>-6.295547</td>\n",
       "      <td>Dublin 12</td>\n",
       "      <td>1315.25</td>\n",
       "    </tr>\n",
       "    <tr>\n",
       "      <th>4</th>\n",
       "      <td>53.322556</td>\n",
       "      <td>-6.257723</td>\n",
       "      <td>Dublin 6</td>\n",
       "      <td>4266.99</td>\n",
       "    </tr>\n",
       "    <tr>\n",
       "      <th>64</th>\n",
       "      <td>53.351400</td>\n",
       "      <td>-6.250158</td>\n",
       "      <td>Dublin 1</td>\n",
       "      <td>4820.62</td>\n",
       "    </tr>\n",
       "  </tbody>\n",
       "</table>\n",
       "</div>"
      ],
      "text/plain": [
       "     Latitude  Longitude   PostCode  Price per sq metres\n",
       "55  53.346592  -6.242594   Dublin 2              6560.94\n",
       "3   53.322556  -6.265288   Dublin 6              4266.99\n",
       "18  53.332171  -6.295547  Dublin 12              1315.25\n",
       "4   53.322556  -6.257723   Dublin 6              4266.99\n",
       "64  53.351400  -6.250158   Dublin 1              4820.62"
      ]
     },
     "execution_count": 67,
     "metadata": {},
     "output_type": "execute_result"
    }
   ],
   "source": [
    "dub_mesh_clean.sample(5)"
   ]
  },
  {
   "cell_type": "code",
   "execution_count": 26,
   "metadata": {},
   "outputs": [],
   "source": [
    "dub_mesh_clean.drop(columns=['PostCode'], inplace=True)"
   ]
  },
  {
   "cell_type": "markdown",
   "metadata": {},
   "source": [
    "Merging previous commercials' data with new mesh points dataframe "
   ]
  },
  {
   "cell_type": "code",
   "execution_count": 19,
   "metadata": {
    "scrolled": true
   },
   "outputs": [
    {
     "name": "stdout",
     "output_type": "stream",
     "text": [
      "    Latitude  Longitude  Price per sq metres\n",
      "0  53.352145  -6.249610              4983.39\n",
      "1  53.345893  -6.270229              3947.37\n",
      "2  53.346655  -6.269338              4736.84\n",
      "3  53.351250  -6.252907              6949.44\n",
      "4  53.357633  -6.263205              1444.72\n",
      "Commercials' data: 186 rows\n"
     ]
    }
   ],
   "source": [
    "dub_result_data = dub_result[['Latitude', 'Longitude', 'Price per sq metres']].copy()\n",
    "print (dub_result_data.head())\n",
    "print ('Commercials\\' data: {} rows'.format (dub_result_data.shape[0]))\n"
   ]
  },
  {
   "cell_type": "code",
   "execution_count": 23,
   "metadata": {},
   "outputs": [
    {
     "name": "stdout",
     "output_type": "stream",
     "text": [
      "New data merged: 262 rows\n"
     ]
    }
   ],
   "source": [
    "dub_data_df = dub_result_data.append(dub_mesh_clean)\n",
    "dub_data_df.reset_index(drop=True, inplace=True)\n",
    "print ('New data merged: {} rows'.format (dub_data_df.shape[0]))"
   ]
  },
  {
   "cell_type": "code",
   "execution_count": 24,
   "metadata": {},
   "outputs": [],
   "source": [
    "dub_data_merged = dub_data_df[['Latitude', 'Longitude', 'Price per sq metres']].values"
   ]
  },
  {
   "cell_type": "code",
   "execution_count": null,
   "metadata": {
    "scrolled": true
   },
   "outputs": [],
   "source": [
    "max_price = float(dub_data_df['Price per sq metres'].max())\n",
    "dub_latitude = '53.341785'\n",
    "dub_longitude = '-6.265288'\n",
    "# create map of Dublin using latitude and longitude values\n",
    "map_dublin = folium.Map(location=[dub_latitude, dub_longitude], zoom_start=14)\n",
    "# add markers to map\n",
    "HeatMap(list(zip(dub_data_df.Latitude.values, dub_data_df.Longitude.values, dub_data_df['Price per sq metres'].values)), \n",
    "        radius = 50, blur=50, max_val=max_price).add_to(folium.FeatureGroup(name='Heat Map').add_to(map_dublin))\n",
    "folium.LayerControl().add_to(map_dublin)\n",
    "    \n",
    "map_dublin"
   ]
  },
  {
   "cell_type": "code",
   "execution_count": 73,
   "metadata": {
    "scrolled": true
   },
   "outputs": [
    {
     "data": {
      "text/html": [
       "<div>\n",
       "<style scoped>\n",
       "    .dataframe tbody tr th:only-of-type {\n",
       "        vertical-align: middle;\n",
       "    }\n",
       "\n",
       "    .dataframe tbody tr th {\n",
       "        vertical-align: top;\n",
       "    }\n",
       "\n",
       "    .dataframe thead th {\n",
       "        text-align: right;\n",
       "    }\n",
       "</style>\n",
       "<table border=\"1\" class=\"dataframe\">\n",
       "  <thead>\n",
       "    <tr style=\"text-align: right;\">\n",
       "      <th></th>\n",
       "      <th>Latitude</th>\n",
       "      <th>Longitude</th>\n",
       "      <th>Price per sq metres</th>\n",
       "    </tr>\n",
       "  </thead>\n",
       "  <tbody>\n",
       "    <tr>\n",
       "      <th>40</th>\n",
       "      <td>53.341785</td>\n",
       "      <td>-6.280417</td>\n",
       "      <td>3917.16</td>\n",
       "    </tr>\n",
       "    <tr>\n",
       "      <th>60</th>\n",
       "      <td>53.351400</td>\n",
       "      <td>-6.280417</td>\n",
       "      <td>4531.15</td>\n",
       "    </tr>\n",
       "    <tr>\n",
       "      <th>8</th>\n",
       "      <td>53.327363</td>\n",
       "      <td>-6.295547</td>\n",
       "      <td>1315.25</td>\n",
       "    </tr>\n",
       "  </tbody>\n",
       "</table>\n",
       "</div>"
      ],
      "text/plain": [
       "     Latitude  Longitude  Price per sq metres\n",
       "40  53.341785  -6.280417              3917.16\n",
       "60  53.351400  -6.280417              4531.15\n",
       "8   53.327363  -6.295547              1315.25"
      ]
     },
     "execution_count": 73,
     "metadata": {},
     "output_type": "execute_result"
    }
   ],
   "source": [
    "dub_mesh_clean.sample(3)"
   ]
  },
  {
   "cell_type": "markdown",
   "metadata": {},
   "source": [
    "Normalizing the grouped data by districts and modifying values in order increase the differencial between districts for visual purposes"
   ]
  },
  {
   "cell_type": "code",
   "execution_count": 74,
   "metadata": {},
   "outputs": [],
   "source": [
    "dub_grouped_nor = dub_c_grouped.copy()"
   ]
  },
  {
   "cell_type": "code",
   "execution_count": 75,
   "metadata": {},
   "outputs": [],
   "source": [
    "dub_grouped_nor['Price per sq metres'] = dub_grouped_nor['Price per sq metres']/dub_grouped_nor['Price per sq metres'].min()"
   ]
  },
  {
   "cell_type": "code",
   "execution_count": 76,
   "metadata": {
    "scrolled": true
   },
   "outputs": [
    {
     "data": {
      "text/html": [
       "<div>\n",
       "<style scoped>\n",
       "    .dataframe tbody tr th:only-of-type {\n",
       "        vertical-align: middle;\n",
       "    }\n",
       "\n",
       "    .dataframe tbody tr th {\n",
       "        vertical-align: top;\n",
       "    }\n",
       "\n",
       "    .dataframe thead th {\n",
       "        text-align: right;\n",
       "    }\n",
       "</style>\n",
       "<table border=\"1\" class=\"dataframe\">\n",
       "  <thead>\n",
       "    <tr style=\"text-align: right;\">\n",
       "      <th></th>\n",
       "      <th>Price per sq metres</th>\n",
       "    </tr>\n",
       "    <tr>\n",
       "      <th>Neighbourhood</th>\n",
       "      <th></th>\n",
       "    </tr>\n",
       "  </thead>\n",
       "  <tbody>\n",
       "    <tr>\n",
       "      <th>Dublin 2</th>\n",
       "      <td>4.988360</td>\n",
       "    </tr>\n",
       "    <tr>\n",
       "      <th>Dublin 4</th>\n",
       "      <td>4.262323</td>\n",
       "    </tr>\n",
       "    <tr>\n",
       "      <th>Dublin 1</th>\n",
       "      <td>3.665174</td>\n",
       "    </tr>\n",
       "    <tr>\n",
       "      <th>Dublin 7</th>\n",
       "      <td>3.445086</td>\n",
       "    </tr>\n",
       "    <tr>\n",
       "      <th>Dublin 6</th>\n",
       "      <td>3.244243</td>\n",
       "    </tr>\n",
       "  </tbody>\n",
       "</table>\n",
       "</div>"
      ],
      "text/plain": [
       "               Price per sq metres\n",
       "Neighbourhood                     \n",
       "Dublin 2                  4.988360\n",
       "Dublin 4                  4.262323\n",
       "Dublin 1                  3.665174\n",
       "Dublin 7                  3.445086\n",
       "Dublin 6                  3.244243"
      ]
     },
     "execution_count": 76,
     "metadata": {},
     "output_type": "execute_result"
    }
   ],
   "source": [
    "dub_grouped_nor.head()"
   ]
  },
  {
   "cell_type": "code",
   "execution_count": 77,
   "metadata": {},
   "outputs": [],
   "source": [
    "dub_grouped_nor.to_csv('Features_csv/Dublin_median_price_by_Districts_NOR.csv')"
   ]
  },
  {
   "cell_type": "markdown",
   "metadata": {},
   "source": [
    "### <center><a href=\"./../C.Feature%20Selection.ipynb#code0\">NEXT CHAPTER</a></center>"
   ]
  },
  {
   "cell_type": "markdown",
   "metadata": {},
   "source": [
    "#### <center> <a href=\"./../0.Table_of_Contents_Code.ipynb\">Table of Contents</a><br></center>"
   ]
  }
 ],
 "metadata": {
  "kernelspec": {
   "display_name": "Python 3",
   "language": "python",
   "name": "python3"
  },
  "language_info": {
   "codemirror_mode": {
    "name": "ipython",
    "version": 3
   },
   "file_extension": ".py",
   "mimetype": "text/x-python",
   "name": "python",
   "nbconvert_exporter": "python",
   "pygments_lexer": "ipython3",
   "version": "3.7.7"
  }
 },
 "nbformat": 4,
 "nbformat_minor": 4
}
