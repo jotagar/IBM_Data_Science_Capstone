{
 "cells": [
  {
   "cell_type": "code",
   "execution_count": 1,
   "metadata": {},
   "outputs": [],
   "source": [
    "import pandas as pd\n",
    "import matplotlib.pyplot as plt"
   ]
  },
  {
   "cell_type": "code",
   "execution_count": 2,
   "metadata": {},
   "outputs": [],
   "source": [
    "df = pd.read_csv('Features_csv/restaurants_full.csv')"
   ]
  },
  {
   "cell_type": "code",
   "execution_count": 3,
   "metadata": {
    "scrolled": true
   },
   "outputs": [
    {
     "data": {
      "text/plain": [
       "0                    ['Cafe', 'European', 'Healthy']\n",
       "1       ['Irish', 'European', 'Vegetarian Friendly']\n",
       "2                       ['Irish', 'Bar', 'European']\n",
       "3              ['Irish', 'European', 'Contemporary']\n",
       "4                       ['Irish', 'Bar', 'European']\n",
       "                            ...                     \n",
       "1183                                  ['Bar', 'Pub']\n",
       "1184                                             NaN\n",
       "1185                                       ['Pizza']\n",
       "1186                           ['Japanese', 'Sushi']\n",
       "1187                                             NaN\n",
       "Name: Cuisines, Length: 1188, dtype: object"
      ]
     },
     "execution_count": 3,
     "metadata": {},
     "output_type": "execute_result"
    }
   ],
   "source": [
    "df['Cuisines']"
   ]
  },
  {
   "cell_type": "markdown",
   "metadata": {},
   "source": [
    "Grouping cuisines by main cuisine style"
   ]
  },
  {
   "cell_type": "code",
   "execution_count": 4,
   "metadata": {},
   "outputs": [],
   "source": [
    "df.loc[(df['Cuisines'].str.contains('Seafood') == True), 'Style'] = 'Seafood'\n",
    "df.loc[(df['Cuisines'].str.contains('Asian|Thai|Chinese|Sushi|Japanese') == True), 'Style'] = 'Asian'\n",
    "df.loc[(df['Cuisines'].str.contains('Italian|Pizza') == True), 'Style'] = 'Italian'\n",
    "df.loc[(df['Cuisines'].str.contains('American') == True), 'Style'] = 'American'\n",
    "df.loc[(df['Cuisines'].str.contains('Mexican') == True), 'Style'] = 'Mexican'\n",
    "df.loc[(df['Cuisines'].str.contains('Steakhouse') == True), 'Style'] = 'Steakhouse'\n",
    "df.loc[(df['Cuisines'].str.contains('Indian') == True), 'Style'] = 'Indian'\n",
    "\n",
    "df.loc[(df['Cuisines'].str.contains('European') == True) & (df['Cuisines'].str.contains\n",
    "        ('Italian|Pizza|American|Asian|Thai|Chinese|Sushi|Japanese|Indian|Steakhouse|Irish|Seafood')\n",
    "        == False), 'Style'] = 'European'\n",
    "df.loc[(df['Cuisines'].str.contains('International') == True) & (df['Cuisines'].str.contains\n",
    "        ('Italian|Pizza|American|Asian|Thai|Chinese|Sushi|Japanese|Indian|Steakhouse|Irish|Seafood|European')\n",
    "        == False), 'Style'] = 'International'\n",
    "df.loc[(df['Cuisines'].str.contains('Lebanese|Moroccan|African|Middle Eastern|Ethiopian|Turkish') == True) & (df['Cuisines'].str.contains\n",
    "        ('Italian|Pizza|American|Asian|Thai|Chinese|Sushi|Japanese|Indian|Steakhouse|Irish')\n",
    "        == False), 'Style'] = 'Middle Eastern'\n",
    "df.loc[(df['Cuisines'].str.contains('Irish') == True) & (df['Cuisines'].str.contains\n",
    "        ('Italian|Pizza|American|Asian|Thai|Chinese|Sushi|Japanese|Indian|Steakhouse|Seafood|Mexican|Middle Eastern|European|International')\n",
    "        == False), 'Style'] = 'Irish'"
   ]
  },
  {
   "cell_type": "code",
   "execution_count": 5,
   "metadata": {},
   "outputs": [],
   "source": [
    "cuisines_df = df.groupby('Style').count()"
   ]
  },
  {
   "cell_type": "code",
   "execution_count": 6,
   "metadata": {
    "scrolled": true
   },
   "outputs": [
    {
     "data": {
      "text/html": [
       "<div>\n",
       "<style scoped>\n",
       "    .dataframe tbody tr th:only-of-type {\n",
       "        vertical-align: middle;\n",
       "    }\n",
       "\n",
       "    .dataframe tbody tr th {\n",
       "        vertical-align: top;\n",
       "    }\n",
       "\n",
       "    .dataframe thead th {\n",
       "        text-align: right;\n",
       "    }\n",
       "</style>\n",
       "<table border=\"1\" class=\"dataframe\">\n",
       "  <thead>\n",
       "    <tr style=\"text-align: right;\">\n",
       "      <th></th>\n",
       "      <th>Name</th>\n",
       "      <th>Reviews</th>\n",
       "      <th>Price</th>\n",
       "      <th>Cuisines</th>\n",
       "      <th>Link</th>\n",
       "      <th>RankingN</th>\n",
       "      <th>Ranking</th>\n",
       "      <th>Rating</th>\n",
       "      <th>Hotel</th>\n",
       "      <th>Tourism</th>\n",
       "      <th>...</th>\n",
       "      <th>Cafe</th>\n",
       "      <th>Pub</th>\n",
       "      <th>Luas</th>\n",
       "      <th>Museum</th>\n",
       "      <th>Restaurant</th>\n",
       "      <th>Company</th>\n",
       "      <th>Company KNN</th>\n",
       "      <th>Liffey</th>\n",
       "      <th>District</th>\n",
       "      <th>Price Area</th>\n",
       "    </tr>\n",
       "    <tr>\n",
       "      <th>Style</th>\n",
       "      <th></th>\n",
       "      <th></th>\n",
       "      <th></th>\n",
       "      <th></th>\n",
       "      <th></th>\n",
       "      <th></th>\n",
       "      <th></th>\n",
       "      <th></th>\n",
       "      <th></th>\n",
       "      <th></th>\n",
       "      <th></th>\n",
       "      <th></th>\n",
       "      <th></th>\n",
       "      <th></th>\n",
       "      <th></th>\n",
       "      <th></th>\n",
       "      <th></th>\n",
       "      <th></th>\n",
       "      <th></th>\n",
       "      <th></th>\n",
       "      <th></th>\n",
       "    </tr>\n",
       "  </thead>\n",
       "  <tbody>\n",
       "    <tr>\n",
       "      <th>Irish</th>\n",
       "      <td>150</td>\n",
       "      <td>150</td>\n",
       "      <td>138</td>\n",
       "      <td>150</td>\n",
       "      <td>150</td>\n",
       "      <td>150</td>\n",
       "      <td>150</td>\n",
       "      <td>150</td>\n",
       "      <td>150</td>\n",
       "      <td>150</td>\n",
       "      <td>...</td>\n",
       "      <td>150</td>\n",
       "      <td>150</td>\n",
       "      <td>150</td>\n",
       "      <td>150</td>\n",
       "      <td>150</td>\n",
       "      <td>150</td>\n",
       "      <td>150</td>\n",
       "      <td>150</td>\n",
       "      <td>150</td>\n",
       "      <td>150</td>\n",
       "    </tr>\n",
       "    <tr>\n",
       "      <th>Italian</th>\n",
       "      <td>141</td>\n",
       "      <td>141</td>\n",
       "      <td>122</td>\n",
       "      <td>141</td>\n",
       "      <td>141</td>\n",
       "      <td>141</td>\n",
       "      <td>141</td>\n",
       "      <td>141</td>\n",
       "      <td>141</td>\n",
       "      <td>141</td>\n",
       "      <td>...</td>\n",
       "      <td>141</td>\n",
       "      <td>141</td>\n",
       "      <td>141</td>\n",
       "      <td>141</td>\n",
       "      <td>141</td>\n",
       "      <td>141</td>\n",
       "      <td>141</td>\n",
       "      <td>141</td>\n",
       "      <td>141</td>\n",
       "      <td>141</td>\n",
       "    </tr>\n",
       "    <tr>\n",
       "      <th>Asian</th>\n",
       "      <td>130</td>\n",
       "      <td>130</td>\n",
       "      <td>111</td>\n",
       "      <td>130</td>\n",
       "      <td>130</td>\n",
       "      <td>130</td>\n",
       "      <td>130</td>\n",
       "      <td>130</td>\n",
       "      <td>130</td>\n",
       "      <td>130</td>\n",
       "      <td>...</td>\n",
       "      <td>130</td>\n",
       "      <td>130</td>\n",
       "      <td>130</td>\n",
       "      <td>130</td>\n",
       "      <td>130</td>\n",
       "      <td>130</td>\n",
       "      <td>130</td>\n",
       "      <td>130</td>\n",
       "      <td>130</td>\n",
       "      <td>130</td>\n",
       "    </tr>\n",
       "    <tr>\n",
       "      <th>European</th>\n",
       "      <td>79</td>\n",
       "      <td>79</td>\n",
       "      <td>73</td>\n",
       "      <td>79</td>\n",
       "      <td>79</td>\n",
       "      <td>79</td>\n",
       "      <td>79</td>\n",
       "      <td>79</td>\n",
       "      <td>79</td>\n",
       "      <td>79</td>\n",
       "      <td>...</td>\n",
       "      <td>79</td>\n",
       "      <td>79</td>\n",
       "      <td>79</td>\n",
       "      <td>79</td>\n",
       "      <td>79</td>\n",
       "      <td>79</td>\n",
       "      <td>79</td>\n",
       "      <td>79</td>\n",
       "      <td>79</td>\n",
       "      <td>79</td>\n",
       "    </tr>\n",
       "    <tr>\n",
       "      <th>American</th>\n",
       "      <td>52</td>\n",
       "      <td>52</td>\n",
       "      <td>50</td>\n",
       "      <td>52</td>\n",
       "      <td>52</td>\n",
       "      <td>52</td>\n",
       "      <td>52</td>\n",
       "      <td>52</td>\n",
       "      <td>52</td>\n",
       "      <td>52</td>\n",
       "      <td>...</td>\n",
       "      <td>52</td>\n",
       "      <td>52</td>\n",
       "      <td>52</td>\n",
       "      <td>52</td>\n",
       "      <td>52</td>\n",
       "      <td>52</td>\n",
       "      <td>52</td>\n",
       "      <td>52</td>\n",
       "      <td>52</td>\n",
       "      <td>52</td>\n",
       "    </tr>\n",
       "  </tbody>\n",
       "</table>\n",
       "<p>5 rows × 21 columns</p>\n",
       "</div>"
      ],
      "text/plain": [
       "          Name  Reviews  Price  Cuisines  Link  RankingN  Ranking  Rating  \\\n",
       "Style                                                                       \n",
       "Irish      150      150    138       150   150       150      150     150   \n",
       "Italian    141      141    122       141   141       141      141     141   \n",
       "Asian      130      130    111       130   130       130      130     130   \n",
       "European    79       79     73        79    79        79       79      79   \n",
       "American    52       52     50        52    52        52       52      52   \n",
       "\n",
       "          Hotel  Tourism  ...  Cafe  Pub  Luas  Museum  Restaurant  Company  \\\n",
       "Style                     ...                                                 \n",
       "Irish       150      150  ...   150  150   150     150         150      150   \n",
       "Italian     141      141  ...   141  141   141     141         141      141   \n",
       "Asian       130      130  ...   130  130   130     130         130      130   \n",
       "European     79       79  ...    79   79    79      79          79       79   \n",
       "American     52       52  ...    52   52    52      52          52       52   \n",
       "\n",
       "          Company KNN  Liffey  District  Price Area  \n",
       "Style                                                \n",
       "Irish             150     150       150         150  \n",
       "Italian           141     141       141         141  \n",
       "Asian             130     130       130         130  \n",
       "European           79      79        79          79  \n",
       "American           52      52        52          52  \n",
       "\n",
       "[5 rows x 21 columns]"
      ]
     },
     "execution_count": 6,
     "metadata": {},
     "output_type": "execute_result"
    }
   ],
   "source": [
    "cuisines_df.sort_values(by='Name', ascending=False).head()"
   ]
  },
  {
   "cell_type": "code",
   "execution_count": 9,
   "metadata": {},
   "outputs": [],
   "source": [
    "cuisines_df.to_csv('Features_csv/cuisines_style.csv', index=False)"
   ]
  },
  {
   "cell_type": "code",
   "execution_count": 7,
   "metadata": {},
   "outputs": [],
   "source": [
    "df.to_csv('Features_csv/restaurants_style.csv', index=False)"
   ]
  },
  {
   "cell_type": "code",
   "execution_count": 10,
   "metadata": {},
   "outputs": [
    {
     "data": {
      "image/png": "[encoded data removed]",
      "text/plain": [
       "<Figure size 432x288 with 1 Axes>"
      ]
     },
     "metadata": {},
     "output_type": "display_data"
    }
   ],
   "source": [
    "labels = cuisines_df.index\n",
    "sizes = cuisines_df.Name\n",
    "explode = (0.05,0.05,0.05,0.05,0.05,0.05,0.05,0.05,0.05,0.05,0.05)\n",
    " \n",
    "plt.pie(sizes, labels=labels, autopct='%1.1f%%', startangle=180, pctdistance=0.85, explode = explode)\n",
    "centre_circle = plt.Circle((0,0),0.70,fc='white')\n",
    "fig = plt.gcf()\n",
    "fig.gca().add_artist(centre_circle)\n",
    " \n",
    "plt.tight_layout()\n",
    "plt.savefig('pics/Cuisines_style.png', bbox_inches='tight', format='png', dpi=500)\n",
    "plt.show()"
   ]
  },
  {
   "cell_type": "code",
   "execution_count": null,
   "metadata": {},
   "outputs": [],
   "source": []
  }
 ],
 "metadata": {
  "kernelspec": {
   "display_name": "Python 3",
   "language": "python",
   "name": "python3"
  },
  "language_info": {
   "codemirror_mode": {
    "name": "ipython",
    "version": 3
   },
   "file_extension": ".py",
   "mimetype": "text/x-python",
   "name": "python",
   "nbconvert_exporter": "python",
   "pygments_lexer": "ipython3",
   "version": "3.7.7"
  }
 },
 "nbformat": 4,
 "nbformat_minor": 4
}
