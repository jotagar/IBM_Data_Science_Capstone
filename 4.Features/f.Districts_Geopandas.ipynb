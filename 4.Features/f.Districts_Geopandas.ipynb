{
 "cells": [
  {
   "cell_type": "code",
   "execution_count": 7,
   "metadata": {},
   "outputs": [],
   "source": [
    "import geopandas as gpd\n",
    "import pandas as pd\n",
    "import gdal\n",
    "import descartes\n",
    "import shapely\n",
    "import matplotlib.pyplot as plt"
   ]
  },
  {
   "cell_type": "markdown",
   "metadata": {},
   "source": [
    "### <a id=\"data_ac\">Data Acquisition</a>"
   ]
  },
  {
   "cell_type": "markdown",
   "metadata": {},
   "source": [
    "Dublin Postcodes from https://github.com/AugmentedGeoBae/GeoCluster\n",
    "<br>Converted to shapefile in order to import it with geopandas"
   ]
  },
  {
   "cell_type": "code",
   "execution_count": 2,
   "metadata": {},
   "outputs": [],
   "source": [
    "gdf = gpd.read_file('mygeodata/DublinPostcodes_4326-polygon.shp')"
   ]
  },
  {
   "cell_type": "code",
   "execution_count": 3,
   "metadata": {},
   "outputs": [
    {
     "name": "stdout",
     "output_type": "stream",
     "text": [
      "(24, 2)\n"
     ]
    }
   ],
   "source": [
    "print(gdf.shape)"
   ]
  },
  {
   "cell_type": "code",
   "execution_count": 4,
   "metadata": {
    "scrolled": true
   },
   "outputs": [
    {
     "name": "stdout",
     "output_type": "stream",
     "text": [
      "   id                                           geometry\n",
      "0   0  POLYGON ((-6.33272 53.37071, -6.33274 53.37072...\n",
      "1   1  POLYGON ((-6.25925 53.36170, -6.24931 53.35908...\n",
      "2   2  POLYGON ((-6.26780 53.34588, -6.25454 53.34802...\n",
      "3   3  POLYGON ((-6.21911 53.35739, -6.22102 53.35491...\n",
      "4   4  POLYGON ((-6.23737 53.34359, -6.23052 53.34304...\n"
     ]
    }
   ],
   "source": [
    "print(gdf.head())"
   ]
  },
  {
   "cell_type": "code",
   "execution_count": 5,
   "metadata": {
    "scrolled": true
   },
   "outputs": [
    {
     "data": {
      "text/plain": [
       "<Figure size 1152x1152 with 0 Axes>"
      ]
     },
     "metadata": {},
     "output_type": "display_data"
    },
    {
     "data": {
      "image/png": "[encoded data removed]",
      "text/plain": [
       "<Figure size 432x288 with 1 Axes>"
      ]
     },
     "metadata": {
      "needs_background": "light"
     },
     "output_type": "display_data"
    }
   ],
   "source": [
    "plt.figure(figsize = (16,16))\n",
    "gdf.plot(column='id')\n",
    "\n",
    "plt.show()"
   ]
  },
  {
   "cell_type": "markdown",
   "metadata": {},
   "source": [
    "Getting the list of restaurants"
   ]
  },
  {
   "cell_type": "code",
   "execution_count": 16,
   "metadata": {},
   "outputs": [],
   "source": [
    "df = pd.read_csv('Features_csv/Restaurant_List_scope.csv')"
   ]
  },
  {
   "cell_type": "code",
   "execution_count": 19,
   "metadata": {
    "scrolled": true
   },
   "outputs": [],
   "source": [
    "df_points = df[['Link', 'Latitude', 'Longitude']].copy()"
   ]
  },
  {
   "cell_type": "code",
   "execution_count": 20,
   "metadata": {},
   "outputs": [
    {
     "data": {
      "text/html": [
       "<div>\n",
       "<style scoped>\n",
       "    .dataframe tbody tr th:only-of-type {\n",
       "        vertical-align: middle;\n",
       "    }\n",
       "\n",
       "    .dataframe tbody tr th {\n",
       "        vertical-align: top;\n",
       "    }\n",
       "\n",
       "    .dataframe thead th {\n",
       "        text-align: right;\n",
       "    }\n",
       "</style>\n",
       "<table border=\"1\" class=\"dataframe\">\n",
       "  <thead>\n",
       "    <tr style=\"text-align: right;\">\n",
       "      <th></th>\n",
       "      <th>Link</th>\n",
       "      <th>Latitude</th>\n",
       "      <th>Longitude</th>\n",
       "    </tr>\n",
       "  </thead>\n",
       "  <tbody>\n",
       "    <tr>\n",
       "      <th>0</th>\n",
       "      <td>/Restaurant_Review-g186605-d10387074-Reviews-T...</td>\n",
       "      <td>53.34872</td>\n",
       "      <td>-6.258399</td>\n",
       "    </tr>\n",
       "  </tbody>\n",
       "</table>\n",
       "</div>"
      ],
      "text/plain": [
       "                                                Link  Latitude  Longitude\n",
       "0  /Restaurant_Review-g186605-d10387074-Reviews-T...  53.34872  -6.258399"
      ]
     },
     "execution_count": 20,
     "metadata": {},
     "output_type": "execute_result"
    }
   ],
   "source": [
    "df_points.head(1)"
   ]
  },
  {
   "cell_type": "markdown",
   "metadata": {},
   "source": [
    "Transforming the dataframe in a geodataframe"
   ]
  },
  {
   "cell_type": "code",
   "execution_count": 21,
   "metadata": {},
   "outputs": [],
   "source": [
    "gdf_points = gpd.GeoDataFrame(df_points, geometry=gpd.points_from_xy(df_points.Longitude, df_points.Latitude))"
   ]
  },
  {
   "cell_type": "code",
   "execution_count": 25,
   "metadata": {},
   "outputs": [
    {
     "data": {
      "text/html": [
       "<div>\n",
       "<style scoped>\n",
       "    .dataframe tbody tr th:only-of-type {\n",
       "        vertical-align: middle;\n",
       "    }\n",
       "\n",
       "    .dataframe tbody tr th {\n",
       "        vertical-align: top;\n",
       "    }\n",
       "\n",
       "    .dataframe thead th {\n",
       "        text-align: right;\n",
       "    }\n",
       "</style>\n",
       "<table border=\"1\" class=\"dataframe\">\n",
       "  <thead>\n",
       "    <tr style=\"text-align: right;\">\n",
       "      <th></th>\n",
       "      <th>Link</th>\n",
       "      <th>Latitude</th>\n",
       "      <th>Longitude</th>\n",
       "      <th>geometry</th>\n",
       "    </tr>\n",
       "  </thead>\n",
       "  <tbody>\n",
       "    <tr>\n",
       "      <th>0</th>\n",
       "      <td>/Restaurant_Review-g186605-d10387074-Reviews-T...</td>\n",
       "      <td>53.34872</td>\n",
       "      <td>-6.258399</td>\n",
       "      <td>POINT (-6.25840 53.34872)</td>\n",
       "    </tr>\n",
       "  </tbody>\n",
       "</table>\n",
       "</div>"
      ],
      "text/plain": [
       "                                                Link  Latitude  Longitude  \\\n",
       "0  /Restaurant_Review-g186605-d10387074-Reviews-T...  53.34872  -6.258399   \n",
       "\n",
       "                    geometry  \n",
       "0  POINT (-6.25840 53.34872)  "
      ]
     },
     "execution_count": 25,
     "metadata": {},
     "output_type": "execute_result"
    }
   ],
   "source": [
    "gdf_points.head(1)"
   ]
  },
  {
   "cell_type": "markdown",
   "metadata": {},
   "source": [
    "The coordinate reference system (CRS) has to match in order to merge the dataframes and check if a point is inside a district (polygon)"
   ]
  },
  {
   "cell_type": "code",
   "execution_count": 26,
   "metadata": {},
   "outputs": [],
   "source": [
    "gdf_points.crs = gdf.crs"
   ]
  },
  {
   "cell_type": "code",
   "execution_count": 27,
   "metadata": {},
   "outputs": [],
   "source": [
    "joinDF=gpd.sjoin(gdf_points, gdf, how='left',op=\"within\")"
   ]
  },
  {
   "cell_type": "code",
   "execution_count": 29,
   "metadata": {},
   "outputs": [],
   "source": [
    "joinDF.drop(columns=['Latitude', 'Longitude', 'index_right'], inplace=True)"
   ]
  },
  {
   "cell_type": "code",
   "execution_count": 32,
   "metadata": {},
   "outputs": [],
   "source": [
    "joinDF.drop(columns=['geometry'], inplace=True)"
   ]
  },
  {
   "cell_type": "code",
   "execution_count": 30,
   "metadata": {},
   "outputs": [],
   "source": [
    "joinDF.rename(columns={'id':'District'}, inplace=True)"
   ]
  },
  {
   "cell_type": "code",
   "execution_count": 35,
   "metadata": {},
   "outputs": [
    {
     "data": {
      "text/html": [
       "<div>\n",
       "<style scoped>\n",
       "    .dataframe tbody tr th:only-of-type {\n",
       "        vertical-align: middle;\n",
       "    }\n",
       "\n",
       "    .dataframe tbody tr th {\n",
       "        vertical-align: top;\n",
       "    }\n",
       "\n",
       "    .dataframe thead th {\n",
       "        text-align: right;\n",
       "    }\n",
       "</style>\n",
       "<table border=\"1\" class=\"dataframe\">\n",
       "  <thead>\n",
       "    <tr style=\"text-align: right;\">\n",
       "      <th></th>\n",
       "      <th>Link</th>\n",
       "      <th>District</th>\n",
       "    </tr>\n",
       "  </thead>\n",
       "  <tbody>\n",
       "    <tr>\n",
       "      <th>0</th>\n",
       "      <td>/Restaurant_Review-g186605-d10387074-Reviews-T...</td>\n",
       "      <td>1.0</td>\n",
       "    </tr>\n",
       "    <tr>\n",
       "      <th>1</th>\n",
       "      <td>/Restaurant_Review-g186605-d13477650-Reviews-G...</td>\n",
       "      <td>2.0</td>\n",
       "    </tr>\n",
       "    <tr>\n",
       "      <th>2</th>\n",
       "      <td>/Restaurant_Review-g186605-d6403998-Reviews-Da...</td>\n",
       "      <td>8.0</td>\n",
       "    </tr>\n",
       "    <tr>\n",
       "      <th>3</th>\n",
       "      <td>/Restaurant_Review-g186605-d2239110-Reviews-Mu...</td>\n",
       "      <td>4.0</td>\n",
       "    </tr>\n",
       "    <tr>\n",
       "      <th>4</th>\n",
       "      <td>/Restaurant_Review-g186605-d15590976-Reviews-T...</td>\n",
       "      <td>8.0</td>\n",
       "    </tr>\n",
       "  </tbody>\n",
       "</table>\n",
       "</div>"
      ],
      "text/plain": [
       "                                                Link  District\n",
       "0  /Restaurant_Review-g186605-d10387074-Reviews-T...       1.0\n",
       "1  /Restaurant_Review-g186605-d13477650-Reviews-G...       2.0\n",
       "2  /Restaurant_Review-g186605-d6403998-Reviews-Da...       8.0\n",
       "3  /Restaurant_Review-g186605-d2239110-Reviews-Mu...       4.0\n",
       "4  /Restaurant_Review-g186605-d15590976-Reviews-T...       8.0"
      ]
     },
     "execution_count": 35,
     "metadata": {},
     "output_type": "execute_result"
    }
   ],
   "source": [
    "joinDF.head()"
   ]
  },
  {
   "cell_type": "code",
   "execution_count": 43,
   "metadata": {},
   "outputs": [
    {
     "data": {
      "text/html": [
       "<div>\n",
       "<style scoped>\n",
       "    .dataframe tbody tr th:only-of-type {\n",
       "        vertical-align: middle;\n",
       "    }\n",
       "\n",
       "    .dataframe tbody tr th {\n",
       "        vertical-align: top;\n",
       "    }\n",
       "\n",
       "    .dataframe thead th {\n",
       "        text-align: right;\n",
       "    }\n",
       "</style>\n",
       "<table border=\"1\" class=\"dataframe\">\n",
       "  <thead>\n",
       "    <tr style=\"text-align: right;\">\n",
       "      <th></th>\n",
       "      <th>District</th>\n",
       "    </tr>\n",
       "  </thead>\n",
       "  <tbody>\n",
       "    <tr>\n",
       "      <th>count</th>\n",
       "      <td>1185.000000</td>\n",
       "    </tr>\n",
       "    <tr>\n",
       "      <th>mean</th>\n",
       "      <td>3.654852</td>\n",
       "    </tr>\n",
       "    <tr>\n",
       "      <th>std</th>\n",
       "      <td>5.309177</td>\n",
       "    </tr>\n",
       "    <tr>\n",
       "      <th>min</th>\n",
       "      <td>1.000000</td>\n",
       "    </tr>\n",
       "    <tr>\n",
       "      <th>25%</th>\n",
       "      <td>2.000000</td>\n",
       "    </tr>\n",
       "    <tr>\n",
       "      <th>50%</th>\n",
       "      <td>2.000000</td>\n",
       "    </tr>\n",
       "    <tr>\n",
       "      <th>75%</th>\n",
       "      <td>6.000000</td>\n",
       "    </tr>\n",
       "    <tr>\n",
       "      <th>max</th>\n",
       "      <td>66.000000</td>\n",
       "    </tr>\n",
       "  </tbody>\n",
       "</table>\n",
       "</div>"
      ],
      "text/plain": [
       "          District\n",
       "count  1185.000000\n",
       "mean      3.654852\n",
       "std       5.309177\n",
       "min       1.000000\n",
       "25%       2.000000\n",
       "50%       2.000000\n",
       "75%       6.000000\n",
       "max      66.000000"
      ]
     },
     "execution_count": 43,
     "metadata": {},
     "output_type": "execute_result"
    }
   ],
   "source": [
    "joinDF.describe()"
   ]
  },
  {
   "cell_type": "code",
   "execution_count": 44,
   "metadata": {},
   "outputs": [],
   "source": [
    "df_merged = pd.merge(df, joinDF, on='Link')"
   ]
  },
  {
   "cell_type": "code",
   "execution_count": 49,
   "metadata": {},
   "outputs": [
    {
     "data": {
      "text/html": [
       "<div>\n",
       "<style scoped>\n",
       "    .dataframe tbody tr th:only-of-type {\n",
       "        vertical-align: middle;\n",
       "    }\n",
       "\n",
       "    .dataframe tbody tr th {\n",
       "        vertical-align: top;\n",
       "    }\n",
       "\n",
       "    .dataframe thead th {\n",
       "        text-align: right;\n",
       "    }\n",
       "</style>\n",
       "<table border=\"1\" class=\"dataframe\">\n",
       "  <thead>\n",
       "    <tr style=\"text-align: right;\">\n",
       "      <th></th>\n",
       "      <th>Name</th>\n",
       "      <th>Ranking</th>\n",
       "      <th>Reviews</th>\n",
       "      <th>Rating</th>\n",
       "      <th>Price</th>\n",
       "      <th>Cuisines</th>\n",
       "      <th>Address</th>\n",
       "      <th>Latitude</th>\n",
       "      <th>Longitude</th>\n",
       "      <th>Phone</th>\n",
       "      <th>Link</th>\n",
       "      <th>District</th>\n",
       "    </tr>\n",
       "  </thead>\n",
       "  <tbody>\n",
       "    <tr>\n",
       "      <th>0</th>\n",
       "      <td>Tang Cafe</td>\n",
       "      <td>1</td>\n",
       "      <td>502</td>\n",
       "      <td>5.0</td>\n",
       "      <td>Cheap</td>\n",
       "      <td>['Cafe', 'European', 'Healthy']</td>\n",
       "      <td>23c Dawson Street, Dublin D02 PW18 Ireland</td>\n",
       "      <td>53.348720</td>\n",
       "      <td>-6.258399</td>\n",
       "      <td>+353 86 391 5401</td>\n",
       "      <td>/Restaurant_Review-g186605-d10387074-Reviews-T...</td>\n",
       "      <td>1.0</td>\n",
       "    </tr>\n",
       "    <tr>\n",
       "      <th>1</th>\n",
       "      <td>Glovers Alley</td>\n",
       "      <td>3</td>\n",
       "      <td>193</td>\n",
       "      <td>5.0</td>\n",
       "      <td>Expensive</td>\n",
       "      <td>['Irish', 'European', 'Vegetarian Friendly']</td>\n",
       "      <td>128 Stephen’s Green Fitzwilliam Hotel, Dublin ...</td>\n",
       "      <td>53.339644</td>\n",
       "      <td>-6.263466</td>\n",
       "      <td>+353 1 244 0733</td>\n",
       "      <td>/Restaurant_Review-g186605-d13477650-Reviews-G...</td>\n",
       "      <td>2.0</td>\n",
       "    </tr>\n",
       "    <tr>\n",
       "      <th>2</th>\n",
       "      <td>Darkey Kelly's Bar &amp; Restaurant</td>\n",
       "      <td>4</td>\n",
       "      <td>1645</td>\n",
       "      <td>4.5</td>\n",
       "      <td>Average</td>\n",
       "      <td>['Irish', 'Bar', 'European']</td>\n",
       "      <td>Fishamble Street ChristChruch, Dublin Ireland</td>\n",
       "      <td>53.343513</td>\n",
       "      <td>-6.271060</td>\n",
       "      <td>+353 83 346 4682</td>\n",
       "      <td>/Restaurant_Review-g186605-d6403998-Reviews-Da...</td>\n",
       "      <td>8.0</td>\n",
       "    </tr>\n",
       "    <tr>\n",
       "      <th>3</th>\n",
       "      <td>Mulberry Garden</td>\n",
       "      <td>5</td>\n",
       "      <td>909</td>\n",
       "      <td>4.5</td>\n",
       "      <td>Expensive</td>\n",
       "      <td>['Irish', 'European', 'Contemporary']</td>\n",
       "      <td>Mulberry Lane Donnybrook, Dublin 04 Ireland</td>\n",
       "      <td>53.322659</td>\n",
       "      <td>-6.236801</td>\n",
       "      <td>+353 1 269 3300</td>\n",
       "      <td>/Restaurant_Review-g186605-d2239110-Reviews-Mu...</td>\n",
       "      <td>4.0</td>\n",
       "    </tr>\n",
       "    <tr>\n",
       "      <th>4</th>\n",
       "      <td>The Landmark</td>\n",
       "      <td>6</td>\n",
       "      <td>468</td>\n",
       "      <td>4.5</td>\n",
       "      <td>Average</td>\n",
       "      <td>['Irish', 'Bar', 'European']</td>\n",
       "      <td>The Landmark 40 Wexford Street, Dublin D02 CH6...</td>\n",
       "      <td>53.337441</td>\n",
       "      <td>-6.265903</td>\n",
       "      <td>+353 1 537 9951</td>\n",
       "      <td>/Restaurant_Review-g186605-d15590976-Reviews-T...</td>\n",
       "      <td>8.0</td>\n",
       "    </tr>\n",
       "    <tr>\n",
       "      <th>...</th>\n",
       "      <td>...</td>\n",
       "      <td>...</td>\n",
       "      <td>...</td>\n",
       "      <td>...</td>\n",
       "      <td>...</td>\n",
       "      <td>...</td>\n",
       "      <td>...</td>\n",
       "      <td>...</td>\n",
       "      <td>...</td>\n",
       "      <td>...</td>\n",
       "      <td>...</td>\n",
       "      <td>...</td>\n",
       "    </tr>\n",
       "    <tr>\n",
       "      <th>1185</th>\n",
       "      <td>Grain &amp; Grill</td>\n",
       "      <td>2031</td>\n",
       "      <td>15</td>\n",
       "      <td>2.5</td>\n",
       "      <td>NaN</td>\n",
       "      <td>['Bar', 'Pub']</td>\n",
       "      <td>Naas Road Newlands cross, Dublin Ireland</td>\n",
       "      <td>53.338198</td>\n",
       "      <td>-6.271756</td>\n",
       "      <td>+353 1 464 0140</td>\n",
       "      <td>/Restaurant_Review-g186605-d12134678-Reviews-G...</td>\n",
       "      <td>8.0</td>\n",
       "    </tr>\n",
       "    <tr>\n",
       "      <th>1186</th>\n",
       "      <td>La Belle Fontaine</td>\n",
       "      <td>2040</td>\n",
       "      <td>16</td>\n",
       "      <td>2.0</td>\n",
       "      <td>NaN</td>\n",
       "      <td>NaN</td>\n",
       "      <td>85 Marlborough St., Dublin Ireland</td>\n",
       "      <td>53.348315</td>\n",
       "      <td>-6.257470</td>\n",
       "      <td>NaN</td>\n",
       "      <td>/Restaurant_Review-g186605-d3844281-Reviews-La...</td>\n",
       "      <td>1.0</td>\n",
       "    </tr>\n",
       "    <tr>\n",
       "      <th>1187</th>\n",
       "      <td>Pizza Cafe</td>\n",
       "      <td>2042</td>\n",
       "      <td>3</td>\n",
       "      <td>1.0</td>\n",
       "      <td>NaN</td>\n",
       "      <td>['Pizza']</td>\n",
       "      <td>40 Richmond Street South, Dublin D02 E439 Ireland</td>\n",
       "      <td>53.330850</td>\n",
       "      <td>-6.264575</td>\n",
       "      <td>+353 1 559 0206</td>\n",
       "      <td>/Restaurant_Review-g186605-d17707142-Reviews-P...</td>\n",
       "      <td>8.0</td>\n",
       "    </tr>\n",
       "    <tr>\n",
       "      <th>1188</th>\n",
       "      <td>+55 Sushi Bar</td>\n",
       "      <td>2044</td>\n",
       "      <td>10</td>\n",
       "      <td>1.5</td>\n",
       "      <td>NaN</td>\n",
       "      <td>['Japanese', 'Sushi']</td>\n",
       "      <td>143 Parnell Street, Dublin Ireland</td>\n",
       "      <td>53.350484</td>\n",
       "      <td>-6.266296</td>\n",
       "      <td>+353 85 870 0491</td>\n",
       "      <td>/Restaurant_Review-g186605-d14056284-Reviews-5...</td>\n",
       "      <td>1.0</td>\n",
       "    </tr>\n",
       "    <tr>\n",
       "      <th>1189</th>\n",
       "      <td>Mizzoni's Pizza</td>\n",
       "      <td>2045</td>\n",
       "      <td>1</td>\n",
       "      <td>4.0</td>\n",
       "      <td>NaN</td>\n",
       "      <td>NaN</td>\n",
       "      <td>95A Sallynoggin Road Lower, Dublin A96 Y799 Ir...</td>\n",
       "      <td>53.354232</td>\n",
       "      <td>-6.266885</td>\n",
       "      <td>+353 1 235 1133</td>\n",
       "      <td>/Restaurant_Review-g186605-d20805773-Reviews-M...</td>\n",
       "      <td>7.0</td>\n",
       "    </tr>\n",
       "  </tbody>\n",
       "</table>\n",
       "<p>1190 rows × 12 columns</p>\n",
       "</div>"
      ],
      "text/plain": [
       "                                 Name  Ranking  Reviews  Rating      Price  \\\n",
       "0                           Tang Cafe        1      502     5.0      Cheap   \n",
       "1                       Glovers Alley        3      193     5.0  Expensive   \n",
       "2     Darkey Kelly's Bar & Restaurant        4     1645     4.5    Average   \n",
       "3                     Mulberry Garden        5      909     4.5  Expensive   \n",
       "4                        The Landmark        6      468     4.5    Average   \n",
       "...                               ...      ...      ...     ...        ...   \n",
       "1185                    Grain & Grill     2031       15     2.5        NaN   \n",
       "1186                La Belle Fontaine     2040       16     2.0        NaN   \n",
       "1187                       Pizza Cafe     2042        3     1.0        NaN   \n",
       "1188                    +55 Sushi Bar     2044       10     1.5        NaN   \n",
       "1189                  Mizzoni's Pizza     2045        1     4.0        NaN   \n",
       "\n",
       "                                          Cuisines  \\\n",
       "0                  ['Cafe', 'European', 'Healthy']   \n",
       "1     ['Irish', 'European', 'Vegetarian Friendly']   \n",
       "2                     ['Irish', 'Bar', 'European']   \n",
       "3            ['Irish', 'European', 'Contemporary']   \n",
       "4                     ['Irish', 'Bar', 'European']   \n",
       "...                                            ...   \n",
       "1185                                ['Bar', 'Pub']   \n",
       "1186                                           NaN   \n",
       "1187                                     ['Pizza']   \n",
       "1188                         ['Japanese', 'Sushi']   \n",
       "1189                                           NaN   \n",
       "\n",
       "                                                Address   Latitude  Longitude  \\\n",
       "0            23c Dawson Street, Dublin D02 PW18 Ireland  53.348720  -6.258399   \n",
       "1     128 Stephen’s Green Fitzwilliam Hotel, Dublin ...  53.339644  -6.263466   \n",
       "2         Fishamble Street ChristChruch, Dublin Ireland  53.343513  -6.271060   \n",
       "3           Mulberry Lane Donnybrook, Dublin 04 Ireland  53.322659  -6.236801   \n",
       "4     The Landmark 40 Wexford Street, Dublin D02 CH6...  53.337441  -6.265903   \n",
       "...                                                 ...        ...        ...   \n",
       "1185           Naas Road Newlands cross, Dublin Ireland  53.338198  -6.271756   \n",
       "1186                 85 Marlborough St., Dublin Ireland  53.348315  -6.257470   \n",
       "1187  40 Richmond Street South, Dublin D02 E439 Ireland  53.330850  -6.264575   \n",
       "1188                 143 Parnell Street, Dublin Ireland  53.350484  -6.266296   \n",
       "1189  95A Sallynoggin Road Lower, Dublin A96 Y799 Ir...  53.354232  -6.266885   \n",
       "\n",
       "                 Phone                                               Link  \\\n",
       "0     +353 86 391 5401  /Restaurant_Review-g186605-d10387074-Reviews-T...   \n",
       "1      +353 1 244 0733  /Restaurant_Review-g186605-d13477650-Reviews-G...   \n",
       "2     +353 83 346 4682  /Restaurant_Review-g186605-d6403998-Reviews-Da...   \n",
       "3      +353 1 269 3300  /Restaurant_Review-g186605-d2239110-Reviews-Mu...   \n",
       "4      +353 1 537 9951  /Restaurant_Review-g186605-d15590976-Reviews-T...   \n",
       "...                ...                                                ...   \n",
       "1185   +353 1 464 0140  /Restaurant_Review-g186605-d12134678-Reviews-G...   \n",
       "1186               NaN  /Restaurant_Review-g186605-d3844281-Reviews-La...   \n",
       "1187   +353 1 559 0206  /Restaurant_Review-g186605-d17707142-Reviews-P...   \n",
       "1188  +353 85 870 0491  /Restaurant_Review-g186605-d14056284-Reviews-5...   \n",
       "1189   +353 1 235 1133  /Restaurant_Review-g186605-d20805773-Reviews-M...   \n",
       "\n",
       "      District  \n",
       "0          1.0  \n",
       "1          2.0  \n",
       "2          8.0  \n",
       "3          4.0  \n",
       "4          8.0  \n",
       "...        ...  \n",
       "1185       8.0  \n",
       "1186       1.0  \n",
       "1187       8.0  \n",
       "1188       1.0  \n",
       "1189       7.0  \n",
       "\n",
       "[1190 rows x 12 columns]"
      ]
     },
     "execution_count": 49,
     "metadata": {},
     "output_type": "execute_result"
    }
   ],
   "source": [
    "df_merged"
   ]
  },
  {
   "cell_type": "code",
   "execution_count": 55,
   "metadata": {
    "scrolled": true
   },
   "outputs": [],
   "source": [
    "df_merged.District = df_merged.District.astype('Int64')"
   ]
  },
  {
   "cell_type": "code",
   "execution_count": 56,
   "metadata": {},
   "outputs": [],
   "source": [
    "df_merged.to_csv('Features_csv/restaurants_districts.csv', index=False)"
   ]
  },
  {
   "cell_type": "markdown",
   "metadata": {},
   "source": [
    "### <center><a href=\"./d.Hotels_Tourism_University-Cleaning_Data.ipynb#clean\">NEXT CHAPTER</a></center>"
   ]
  },
  {
   "cell_type": "markdown",
   "metadata": {},
   "source": [
    "#### <center> <a href=\"./../0.Table_of_Contents_Code.ipynb\">Table of Contents</a><br></center>"
   ]
  }
 ],
 "metadata": {
  "kernelspec": {
   "display_name": "Python 3",
   "language": "python",
   "name": "python3"
  },
  "language_info": {
   "codemirror_mode": {
    "name": "ipython",
    "version": 3
   },
   "file_extension": ".py",
   "mimetype": "text/x-python",
   "name": "python",
   "nbconvert_exporter": "python",
   "pygments_lexer": "ipython3",
   "version": "3.7.7"
  }
 },
 "nbformat": 4,
 "nbformat_minor": 4
}
