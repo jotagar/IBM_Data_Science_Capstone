{
 "cells": [
  {
   "cell_type": "code",
   "execution_count": 2,
   "metadata": {},
   "outputs": [],
   "source": [
    "import pandas as pd"
   ]
  },
  {
   "cell_type": "markdown",
   "metadata": {},
   "source": [
    "# <a id=\"clean\"> Cleaning Accommodation Venues</a>"
   ]
  },
  {
   "cell_type": "code",
   "execution_count": 3,
   "metadata": {},
   "outputs": [
    {
     "name": "stdout",
     "output_type": "stream",
     "text": [
      "Dataframe has 3183 rows.\n"
     ]
    }
   ],
   "source": [
    "dub = pd.read_csv('Features_csv/Gmap_Dublin_clean.csv')\n",
    "print ('Dataframe has {} rows.'.format (str(dub.shape[0])))"
   ]
  },
  {
   "cell_type": "markdown",
   "metadata": {},
   "source": [
    "### Cleaning Dataframe"
   ]
  },
  {
   "cell_type": "markdown",
   "metadata": {},
   "source": [
    "#### Removing duplicates rows "
   ]
  },
  {
   "cell_type": "code",
   "execution_count": 5,
   "metadata": {},
   "outputs": [
    {
     "name": "stdout",
     "output_type": "stream",
     "text": [
      "number of duplicate rows: (2390, 11)\n",
      "Venues: 793\n"
     ]
    }
   ],
   "source": [
    "dub_t = dub[dub.duplicated(['Venue Latitude', 'Venue Longitude', 'Venue id'])]\n",
    "print (\"number of duplicate rows: {}\".format (dub_t.shape))\n",
    "dub_t_clean = dub.drop_duplicates(['Venue Latitude', 'Venue Longitude', 'Venue id'], keep ='first')\n",
    "print ('Venues: {}'.format (dub_t_clean.shape[0]))"
   ]
  },
  {
   "cell_type": "code",
   "execution_count": 27,
   "metadata": {},
   "outputs": [
    {
     "name": "stdout",
     "output_type": "stream",
     "text": [
      "Accommodation places: 203\n"
     ]
    }
   ],
   "source": [
    "dub_hotels = dub_t_clean[dub_t_clean['Venue Category'].astype(str).str.contains('lodging')].copy()\n",
    "dub_hotels.reset_index(drop=True, inplace=True )\n",
    "print ('Accommodation places: {}'.format (dub_hotels.shape[0]))"
   ]
  },
  {
   "cell_type": "markdown",
   "metadata": {},
   "source": [
    "#### Checking if there are null values"
   ]
  },
  {
   "cell_type": "code",
   "execution_count": 28,
   "metadata": {},
   "outputs": [
    {
     "name": "stdout",
     "output_type": "stream",
     "text": [
      "There are 0 null values on the dataframe\n"
     ]
    }
   ],
   "source": [
    "print('There are {} null values on the dataframe'.format(str(dub_hotels.isna().sum().sum())))"
   ]
  },
  {
   "cell_type": "markdown",
   "metadata": {},
   "source": [
    "Removing columns in order to use it with others datasets / Renaming columns like rest of datasets"
   ]
  },
  {
   "cell_type": "code",
   "execution_count": 119,
   "metadata": {
    "scrolled": false
   },
   "outputs": [],
   "source": [
    "dub_hotels_clean = dub_hotels.drop(columns=['Neighborhood', 'Neighborhood Latitude', \n",
    "                                            'Neighborhood Longitude', 'Venue id', \n",
    "                                            'Venue Category', 'Venue price level',\n",
    "                                           'Venue Rating', 'Total user ratings'])\n",
    "dub_hotels_clean.rename(columns={'Venue Latitude':'Latitude', 'Venue Longitude':'Longitude', 'Venue':'Name'}, inplace=True)\n",
    "dub_hotels_clean.reset_index(drop=True, inplace=True )\n",
    "dub_hotels_clean['Classification'] = 'Accommodation'"
   ]
  },
  {
   "cell_type": "code",
   "execution_count": 121,
   "metadata": {},
   "outputs": [],
   "source": [
    "# dub_hotels_clean.to_csv('Features_csv/dublin_hotels.csv', index=False)"
   ]
  },
  {
   "cell_type": "markdown",
   "metadata": {},
   "source": [
    "# Cleaning Turistic Venues"
   ]
  },
  {
   "cell_type": "code",
   "execution_count": 96,
   "metadata": {},
   "outputs": [
    {
     "name": "stdout",
     "output_type": "stream",
     "text": [
      "Dataframe has 139 rows.\n"
     ]
    }
   ],
   "source": [
    "dub_tourist1 = pd.read_csv('Foursquare_Dublin_venues_tourist.csv')\n",
    "print ('Dataframe has {} rows.'.format (str(dub_tourist.shape[0])))"
   ]
  },
  {
   "cell_type": "code",
   "execution_count": 45,
   "metadata": {
    "scrolled": true
   },
   "outputs": [
    {
     "data": {
      "text/html": [
       "<div>\n",
       "<style scoped>\n",
       "    .dataframe tbody tr th:only-of-type {\n",
       "        vertical-align: middle;\n",
       "    }\n",
       "\n",
       "    .dataframe tbody tr th {\n",
       "        vertical-align: top;\n",
       "    }\n",
       "\n",
       "    .dataframe thead th {\n",
       "        text-align: right;\n",
       "    }\n",
       "</style>\n",
       "<table border=\"1\" class=\"dataframe\">\n",
       "  <thead>\n",
       "    <tr style=\"text-align: right;\">\n",
       "      <th></th>\n",
       "      <th>Neighborhood</th>\n",
       "      <th>Neighborhood Latitude</th>\n",
       "      <th>Neighborhood Longitude</th>\n",
       "      <th>Venue</th>\n",
       "      <th>Venue Latitude</th>\n",
       "      <th>Venue Longitude</th>\n",
       "      <th>Venue Category</th>\n",
       "    </tr>\n",
       "  </thead>\n",
       "  <tbody>\n",
       "    <tr>\n",
       "      <th>0</th>\n",
       "      <td>Dublin 6</td>\n",
       "      <td>53.327363</td>\n",
       "      <td>-6.265288</td>\n",
       "      <td>Blackbird</td>\n",
       "      <td>53.326871</td>\n",
       "      <td>-6.264804</td>\n",
       "      <td>Pub</td>\n",
       "    </tr>\n",
       "    <tr>\n",
       "      <th>1</th>\n",
       "      <td>Dublin 6</td>\n",
       "      <td>53.327363</td>\n",
       "      <td>-6.250158</td>\n",
       "      <td>Clayton Hotel - Burlington Road</td>\n",
       "      <td>53.330223</td>\n",
       "      <td>-6.248980</td>\n",
       "      <td>Hotel</td>\n",
       "    </tr>\n",
       "    <tr>\n",
       "      <th>2</th>\n",
       "      <td>Dublin 4</td>\n",
       "      <td>53.327363</td>\n",
       "      <td>-6.235029</td>\n",
       "      <td>Herbert Park</td>\n",
       "      <td>53.327156</td>\n",
       "      <td>-6.234803</td>\n",
       "      <td>Park</td>\n",
       "    </tr>\n",
       "    <tr>\n",
       "      <th>3</th>\n",
       "      <td>Dublin 4</td>\n",
       "      <td>53.327363</td>\n",
       "      <td>-6.227464</td>\n",
       "      <td>InterContinental Dublin</td>\n",
       "      <td>53.326608</td>\n",
       "      <td>-6.226079</td>\n",
       "      <td>Hotel</td>\n",
       "    </tr>\n",
       "    <tr>\n",
       "      <th>4</th>\n",
       "      <td>Dublin 4</td>\n",
       "      <td>53.327363</td>\n",
       "      <td>-6.227464</td>\n",
       "      <td>Royal Dublin Society (RDS)</td>\n",
       "      <td>53.327580</td>\n",
       "      <td>-6.229068</td>\n",
       "      <td>Convention Center</td>\n",
       "    </tr>\n",
       "  </tbody>\n",
       "</table>\n",
       "</div>"
      ],
      "text/plain": [
       "  Neighborhood  Neighborhood Latitude  Neighborhood Longitude  \\\n",
       "0     Dublin 6              53.327363               -6.265288   \n",
       "1     Dublin 6              53.327363               -6.250158   \n",
       "2     Dublin 4              53.327363               -6.235029   \n",
       "3     Dublin 4              53.327363               -6.227464   \n",
       "4     Dublin 4              53.327363               -6.227464   \n",
       "\n",
       "                             Venue  Venue Latitude  Venue Longitude  \\\n",
       "0                        Blackbird       53.326871        -6.264804   \n",
       "1  Clayton Hotel - Burlington Road       53.330223        -6.248980   \n",
       "2                     Herbert Park       53.327156        -6.234803   \n",
       "3          InterContinental Dublin       53.326608        -6.226079   \n",
       "4       Royal Dublin Society (RDS)       53.327580        -6.229068   \n",
       "\n",
       "      Venue Category  \n",
       "0                Pub  \n",
       "1              Hotel  \n",
       "2               Park  \n",
       "3              Hotel  \n",
       "4  Convention Center  "
      ]
     },
     "execution_count": 45,
     "metadata": {},
     "output_type": "execute_result"
    }
   ],
   "source": [
    "dub_tourist.head()"
   ]
  },
  {
   "cell_type": "code",
   "execution_count": 97,
   "metadata": {},
   "outputs": [
    {
     "name": "stdout",
     "output_type": "stream",
     "text": [
      "number of duplicate rows: (139, 7)\n",
      "Venues: 275\n"
     ]
    }
   ],
   "source": [
    "dub_tourist_duplicates = dub_tourist1[dub_tourist1.duplicated(['Venue Latitude', 'Venue Longitude', 'Venue'])]\n",
    "print (\"number of duplicate rows: {}\".format (dub_tourist_duplicates.shape))\n",
    "dub_tourist = dub_tourist1.drop_duplicates(['Venue Latitude', 'Venue Longitude', 'Venue'], keep ='first')\n",
    "print ('Venues: {}'.format (dub_tourist.shape[0]))"
   ]
  },
  {
   "cell_type": "code",
   "execution_count": 98,
   "metadata": {},
   "outputs": [
    {
     "data": {
      "text/html": [
       "<div>\n",
       "<style scoped>\n",
       "    .dataframe tbody tr th:only-of-type {\n",
       "        vertical-align: middle;\n",
       "    }\n",
       "\n",
       "    .dataframe tbody tr th {\n",
       "        vertical-align: top;\n",
       "    }\n",
       "\n",
       "    .dataframe thead th {\n",
       "        text-align: right;\n",
       "    }\n",
       "</style>\n",
       "<table border=\"1\" class=\"dataframe\">\n",
       "  <thead>\n",
       "    <tr style=\"text-align: right;\">\n",
       "      <th></th>\n",
       "      <th>Neighborhood</th>\n",
       "      <th>Neighborhood Latitude</th>\n",
       "      <th>Neighborhood Longitude</th>\n",
       "      <th>Venue</th>\n",
       "      <th>Venue Latitude</th>\n",
       "      <th>Venue Longitude</th>\n",
       "    </tr>\n",
       "    <tr>\n",
       "      <th>Venue Category</th>\n",
       "      <th></th>\n",
       "      <th></th>\n",
       "      <th></th>\n",
       "      <th></th>\n",
       "      <th></th>\n",
       "      <th></th>\n",
       "    </tr>\n",
       "  </thead>\n",
       "  <tbody>\n",
       "    <tr>\n",
       "      <th>Pub</th>\n",
       "      <td>57</td>\n",
       "      <td>57</td>\n",
       "      <td>57</td>\n",
       "      <td>57</td>\n",
       "      <td>57</td>\n",
       "      <td>57</td>\n",
       "    </tr>\n",
       "    <tr>\n",
       "      <th>Hotel</th>\n",
       "      <td>23</td>\n",
       "      <td>23</td>\n",
       "      <td>23</td>\n",
       "      <td>23</td>\n",
       "      <td>23</td>\n",
       "      <td>23</td>\n",
       "    </tr>\n",
       "    <tr>\n",
       "      <th>Coffee Shop</th>\n",
       "      <td>11</td>\n",
       "      <td>11</td>\n",
       "      <td>11</td>\n",
       "      <td>11</td>\n",
       "      <td>11</td>\n",
       "      <td>11</td>\n",
       "    </tr>\n",
       "    <tr>\n",
       "      <th>Café</th>\n",
       "      <td>11</td>\n",
       "      <td>11</td>\n",
       "      <td>11</td>\n",
       "      <td>11</td>\n",
       "      <td>11</td>\n",
       "      <td>11</td>\n",
       "    </tr>\n",
       "    <tr>\n",
       "      <th>Restaurant</th>\n",
       "      <td>9</td>\n",
       "      <td>9</td>\n",
       "      <td>9</td>\n",
       "      <td>9</td>\n",
       "      <td>9</td>\n",
       "      <td>9</td>\n",
       "    </tr>\n",
       "  </tbody>\n",
       "</table>\n",
       "</div>"
      ],
      "text/plain": [
       "                Neighborhood  Neighborhood Latitude  Neighborhood Longitude  \\\n",
       "Venue Category                                                                \n",
       "Pub                       57                     57                      57   \n",
       "Hotel                     23                     23                      23   \n",
       "Coffee Shop               11                     11                      11   \n",
       "Café                      11                     11                      11   \n",
       "Restaurant                 9                      9                       9   \n",
       "\n",
       "                Venue  Venue Latitude  Venue Longitude  \n",
       "Venue Category                                          \n",
       "Pub                57              57               57  \n",
       "Hotel              23              23               23  \n",
       "Coffee Shop        11              11               11  \n",
       "Café               11              11               11  \n",
       "Restaurant          9               9                9  "
      ]
     },
     "execution_count": 98,
     "metadata": {},
     "output_type": "execute_result"
    }
   ],
   "source": [
    "dub_tourist_groups = dub_tourist.groupby('Venue Category').count()\n",
    "dub_tourist_groups.sort_values(by='Venue', ascending=False).head()"
   ]
  },
  {
   "cell_type": "markdown",
   "metadata": {},
   "source": [
    "Has many subcategories, so the best way is filtering manually setting each one"
   ]
  },
  {
   "cell_type": "code",
   "execution_count": 59,
   "metadata": {},
   "outputs": [],
   "source": [
    "dub_tourist_clean = None"
   ]
  },
  {
   "cell_type": "code",
   "execution_count": 122,
   "metadata": {},
   "outputs": [
    {
     "name": "stdout",
     "output_type": "stream",
     "text": [
      "The tourism related dataframe has 63 point of interest\n"
     ]
    }
   ],
   "source": [
    "# Subcategories to keep:\n",
    "subcategories = ['Park', 'Plaza', 'Train Station', 'Soccer Stadium', 'Theater',  \n",
    "                'Distillery', 'Train Station', 'Post Office', 'Multiplex', \n",
    "                'Monument / Landmark', 'Library', 'Indie Movie Theater', 'Garden', 'Event Space', \n",
    "                'Department Store', 'Convention Center', 'Clothing Store', 'Church', 'Bus Station',\n",
    "                'Brewery', 'Bookstore']\n",
    "\n",
    "dub_tourist_clean = pd.DataFrame(columns=dub_tourist.columns)\n",
    "#dub_tourist_clean.columns = dub_tourist.columns\n",
    "\n",
    "for sub in subcategories:\n",
    "    #print(sub)\n",
    "    dub_tourist_clean = dub_tourist_clean.append(dub_tourist[dub_tourist['Venue Category']\n",
    "                                    .astype(str).str.contains(sub)], ignore_index = True)\n",
    "    \n",
    "print ('The tourism related dataframe has {} point of interest'.format (str(dub_tourist_clean.shape[0])))"
   ]
  },
  {
   "cell_type": "code",
   "execution_count": 123,
   "metadata": {},
   "outputs": [
    {
     "data": {
      "text/html": [
       "<div>\n",
       "<style scoped>\n",
       "    .dataframe tbody tr th:only-of-type {\n",
       "        vertical-align: middle;\n",
       "    }\n",
       "\n",
       "    .dataframe tbody tr th {\n",
       "        vertical-align: top;\n",
       "    }\n",
       "\n",
       "    .dataframe thead th {\n",
       "        text-align: right;\n",
       "    }\n",
       "</style>\n",
       "<table border=\"1\" class=\"dataframe\">\n",
       "  <thead>\n",
       "    <tr style=\"text-align: right;\">\n",
       "      <th></th>\n",
       "      <th>Name</th>\n",
       "      <th>Latitude</th>\n",
       "      <th>Longitude</th>\n",
       "      <th>Classification</th>\n",
       "    </tr>\n",
       "  </thead>\n",
       "  <tbody>\n",
       "    <tr>\n",
       "      <th>0</th>\n",
       "      <td>Herbert Park</td>\n",
       "      <td>53.327156</td>\n",
       "      <td>-6.234803</td>\n",
       "      <td>Tourism</td>\n",
       "    </tr>\n",
       "    <tr>\n",
       "      <th>1</th>\n",
       "      <td>St Patrick's Park</td>\n",
       "      <td>53.340110</td>\n",
       "      <td>-6.271894</td>\n",
       "      <td>Tourism</td>\n",
       "    </tr>\n",
       "    <tr>\n",
       "      <th>2</th>\n",
       "      <td>Iveagh Gardens</td>\n",
       "      <td>53.335680</td>\n",
       "      <td>-6.261059</td>\n",
       "      <td>Tourism</td>\n",
       "    </tr>\n",
       "    <tr>\n",
       "      <th>3</th>\n",
       "      <td>St Stephen's Green</td>\n",
       "      <td>53.338151</td>\n",
       "      <td>-6.259160</td>\n",
       "      <td>Tourism</td>\n",
       "    </tr>\n",
       "    <tr>\n",
       "      <th>4</th>\n",
       "      <td>Merrion Square Park</td>\n",
       "      <td>53.340138</td>\n",
       "      <td>-6.250451</td>\n",
       "      <td>Tourism</td>\n",
       "    </tr>\n",
       "  </tbody>\n",
       "</table>\n",
       "</div>"
      ],
      "text/plain": [
       "                  Name   Latitude  Longitude Classification\n",
       "0         Herbert Park  53.327156  -6.234803        Tourism\n",
       "1    St Patrick's Park  53.340110  -6.271894        Tourism\n",
       "2       Iveagh Gardens  53.335680  -6.261059        Tourism\n",
       "3   St Stephen's Green  53.338151  -6.259160        Tourism\n",
       "4  Merrion Square Park  53.340138  -6.250451        Tourism"
      ]
     },
     "execution_count": 123,
     "metadata": {},
     "output_type": "execute_result"
    }
   ],
   "source": [
    "dub_tourist_clean.drop(columns=['Neighborhood', 'Neighborhood Latitude', \n",
    "                                'Neighborhood Longitude', 'Venue Category'], inplace=True)\n",
    "dub_tourist_clean.rename(columns={'Venue Latitude':'Latitude', 'Venue Longitude':'Longitude', 'Venue':'Name'}, inplace=True)\n",
    "dub_tourist_clean.reset_index(drop=True, inplace=True )\n",
    "dub_tourist_clean['Classification'] = 'Tourism'\n",
    "dub_tourist_clean.head()"
   ]
  },
  {
   "cell_type": "code",
   "execution_count": 124,
   "metadata": {},
   "outputs": [],
   "source": [
    "# dub_tourist_clean.to_csv('Features_csv/dublin_tourism.csv', index=False)"
   ]
  },
  {
   "cell_type": "markdown",
   "metadata": {},
   "source": [
    "# Cleaning University Venues"
   ]
  },
  {
   "cell_type": "code",
   "execution_count": 125,
   "metadata": {},
   "outputs": [
    {
     "name": "stdout",
     "output_type": "stream",
     "text": [
      "Dataframe has 26 rows.\n"
     ]
    }
   ],
   "source": [
    "dub_uni1 = pd.read_csv('dublin_venues_university.csv')\n",
    "print ('Dataframe has {} rows.'.format (str(dub_uni1.shape[0])))"
   ]
  },
  {
   "cell_type": "code",
   "execution_count": 116,
   "metadata": {},
   "outputs": [
    {
     "name": "stdout",
     "output_type": "stream",
     "text": [
      "number of duplicate rows: (9, 7)\n",
      "Venues: 17\n"
     ]
    }
   ],
   "source": [
    "dub_uni_duplicates = dub_uni1[dub_uni1.duplicated(['Venue Latitude', 'Venue Longitude', 'Venue'])]\n",
    "print (\"number of duplicate rows: {}\".format (dub_uni_duplicates.shape))\n",
    "dub_uni_clean = dub_uni1.drop_duplicates(['Venue Latitude', 'Venue Longitude', 'Venue'], keep ='first').copy()\n",
    "print ('Venues: {}'.format (dub_uni_clean.shape[0]))"
   ]
  },
  {
   "cell_type": "code",
   "execution_count": 117,
   "metadata": {
    "scrolled": true
   },
   "outputs": [
    {
     "data": {
      "text/html": [
       "<div>\n",
       "<style scoped>\n",
       "    .dataframe tbody tr th:only-of-type {\n",
       "        vertical-align: middle;\n",
       "    }\n",
       "\n",
       "    .dataframe tbody tr th {\n",
       "        vertical-align: top;\n",
       "    }\n",
       "\n",
       "    .dataframe thead th {\n",
       "        text-align: right;\n",
       "    }\n",
       "</style>\n",
       "<table border=\"1\" class=\"dataframe\">\n",
       "  <thead>\n",
       "    <tr style=\"text-align: right;\">\n",
       "      <th></th>\n",
       "      <th>Name</th>\n",
       "      <th>Latitude</th>\n",
       "      <th>Longitude</th>\n",
       "      <th>Classification</th>\n",
       "    </tr>\n",
       "  </thead>\n",
       "  <tbody>\n",
       "    <tr>\n",
       "      <th>0</th>\n",
       "      <td>Arena School of English</td>\n",
       "      <td>53.334769</td>\n",
       "      <td>-6.263229</td>\n",
       "      <td>University</td>\n",
       "    </tr>\n",
       "    <tr>\n",
       "      <th>1</th>\n",
       "      <td>Plantronics WWSM</td>\n",
       "      <td>53.335211</td>\n",
       "      <td>-6.228241</td>\n",
       "      <td>University</td>\n",
       "    </tr>\n",
       "    <tr>\n",
       "      <th>2</th>\n",
       "      <td>Presentation Room</td>\n",
       "      <td>53.338474</td>\n",
       "      <td>-6.266765</td>\n",
       "      <td>University</td>\n",
       "    </tr>\n",
       "    <tr>\n",
       "      <th>3</th>\n",
       "      <td>Tutorial Room 8</td>\n",
       "      <td>53.338888</td>\n",
       "      <td>-6.262590</td>\n",
       "      <td>University</td>\n",
       "    </tr>\n",
       "    <tr>\n",
       "      <th>4</th>\n",
       "      <td>Newman House</td>\n",
       "      <td>53.336785</td>\n",
       "      <td>-6.260219</td>\n",
       "      <td>University</td>\n",
       "    </tr>\n",
       "  </tbody>\n",
       "</table>\n",
       "</div>"
      ],
      "text/plain": [
       "                      Name   Latitude  Longitude Classification\n",
       "0  Arena School of English  53.334769  -6.263229     University\n",
       "1         Plantronics WWSM  53.335211  -6.228241     University\n",
       "2        Presentation Room  53.338474  -6.266765     University\n",
       "3          Tutorial Room 8  53.338888  -6.262590     University\n",
       "4             Newman House  53.336785  -6.260219     University"
      ]
     },
     "execution_count": 117,
     "metadata": {},
     "output_type": "execute_result"
    }
   ],
   "source": [
    "dub_uni_clean.drop(columns=['Neighborhood', 'Neighborhood Latitude', \n",
    "                                'Neighborhood Longitude', 'Venue Category'], inplace=True)\n",
    "dub_uni_clean.rename(columns={'Venue Latitude':'Latitude', 'Venue Longitude':'Longitude', 'Venue':'Name'}, inplace=True)\n",
    "dub_uni_clean.reset_index(drop=True, inplace=True )\n",
    "dub_uni_clean['Classification'] = 'University'\n",
    "dub_uni_clean.head()"
   ]
  },
  {
   "cell_type": "code",
   "execution_count": 118,
   "metadata": {},
   "outputs": [],
   "source": [
    "# dub_uni_clean.to_csv('Features_csv/dublin_university.csv', index=False)"
   ]
  },
  {
   "cell_type": "markdown",
   "metadata": {},
   "source": [
    "### <center>[NEXT CHAPTER](./0.Interactive_Map.ipynb#map)</center>"
   ]
  },
  {
   "cell_type": "markdown",
   "metadata": {},
   "source": [
    "#### <center> [Table of Contents](./../0.Table_of_Contents_Code.ipynb) </center>"
   ]
  },
  {
   "cell_type": "code",
   "execution_count": null,
   "metadata": {},
   "outputs": [],
   "source": []
  }
 ],
 "metadata": {
  "kernelspec": {
   "display_name": "Python 3",
   "language": "python",
   "name": "python3"
  },
  "language_info": {
   "codemirror_mode": {
    "name": "ipython",
    "version": 3
   },
   "file_extension": ".py",
   "mimetype": "text/x-python",
   "name": "python",
   "nbconvert_exporter": "python",
   "pygments_lexer": "ipython3",
   "version": "3.7.7"
  }
 },
 "nbformat": 4,
 "nbformat_minor": 4
}
