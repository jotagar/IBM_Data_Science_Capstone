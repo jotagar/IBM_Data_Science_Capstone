{
 "cells": [
  {
   "cell_type": "code",
   "execution_count": 28,
   "metadata": {},
   "outputs": [],
   "source": [
    "import pandas as pd\n",
    "import numpy as np\n",
    "import matplotlib.pyplot as plt\n",
    "import matplotlib as mpl\n",
    "from matplotlib.ticker import NullFormatter\n",
    "import matplotlib.ticker as ticker\n",
    "from sklearn.model_selection import train_test_split\n",
    "from sklearn import preprocessing\n",
    "from sklearn.neighbors import KNeighborsClassifier\n",
    "from sklearn.tree import DecisionTreeClassifier\n",
    "from sklearn import svm\n",
    "from sklearn import metrics\n",
    "from sklearn.metrics import f1_score\n",
    "from sklearn.metrics import jaccard_score\n",
    "from sklearn.model_selection import cross_val_score\n",
    "import scipy.optimize as opt\n",
    "import pylab as pl\n",
    "import seaborn as sns\n",
    "import itertools\n",
    "%matplotlib inline"
   ]
  },
  {
   "cell_type": "markdown",
   "metadata": {},
   "source": [
    "Importing the dataframe with restaurants data \n",
    "* 1184 samples\n",
    "* Features normalized \n",
    "* Standard deviation 1"
   ]
  },
  {
   "cell_type": "code",
   "execution_count": 193,
   "metadata": {},
   "outputs": [],
   "source": [
    "df_full = pd.read_csv('CSVs/Restaurants_Full_Grouped_sorted.csv')\n",
    "df = df_full.copy()"
   ]
  },
  {
   "cell_type": "markdown",
   "metadata": {},
   "source": [
    "Feature Set:<br>\n",
    "'Hotel', 'Tourism', 'University', 'Cafe', 'Pub', 'Luas', 'Museum',\n",
    "       'Restaurant', 'Company', 'Liffey', 'Price Area' <br>\n",
    "       \n",
    "Target (class):<br>\n",
    "'Ranking'"
   ]
  },
  {
   "cell_type": "code",
   "execution_count": 3,
   "metadata": {},
   "outputs": [
    {
     "data": {
      "text/html": [
       "<div>\n",
       "<style scoped>\n",
       "    .dataframe tbody tr th:only-of-type {\n",
       "        vertical-align: middle;\n",
       "    }\n",
       "\n",
       "    .dataframe tbody tr th {\n",
       "        vertical-align: top;\n",
       "    }\n",
       "\n",
       "    .dataframe thead th {\n",
       "        text-align: right;\n",
       "    }\n",
       "</style>\n",
       "<table border=\"1\" class=\"dataframe\">\n",
       "  <thead>\n",
       "    <tr style=\"text-align: right;\">\n",
       "      <th></th>\n",
       "      <th>Reviews</th>\n",
       "      <th>District</th>\n",
       "      <th>Company KNN</th>\n",
       "      <th>RankingN</th>\n",
       "      <th>Ranking</th>\n",
       "      <th>Rating</th>\n",
       "      <th>Rating_G</th>\n",
       "      <th>Hotel</th>\n",
       "      <th>Tourism</th>\n",
       "      <th>Cafe</th>\n",
       "      <th>Pub</th>\n",
       "      <th>Museum</th>\n",
       "      <th>Restaurant</th>\n",
       "      <th>University</th>\n",
       "      <th>Luas</th>\n",
       "      <th>Company</th>\n",
       "      <th>Liffey</th>\n",
       "      <th>Price Area</th>\n",
       "    </tr>\n",
       "  </thead>\n",
       "  <tbody>\n",
       "    <tr>\n",
       "      <th>count</th>\n",
       "      <td>1184.000000</td>\n",
       "      <td>1184.000000</td>\n",
       "      <td>1184.000000</td>\n",
       "      <td>1184.000000</td>\n",
       "      <td>1184.000000</td>\n",
       "      <td>1184.000000</td>\n",
       "      <td>1184.000000</td>\n",
       "      <td>1184.000000</td>\n",
       "      <td>1184.000000</td>\n",
       "      <td>1184.000000</td>\n",
       "      <td>1184.000000</td>\n",
       "      <td>1184.000000</td>\n",
       "      <td>1184.000000</td>\n",
       "      <td>1184.000000</td>\n",
       "      <td>1184.000000</td>\n",
       "      <td>1184.000000</td>\n",
       "      <td>1184.000000</td>\n",
       "      <td>1184.000000</td>\n",
       "    </tr>\n",
       "    <tr>\n",
       "      <th>mean</th>\n",
       "      <td>278.181588</td>\n",
       "      <td>3.310811</td>\n",
       "      <td>3.545380</td>\n",
       "      <td>0.005386</td>\n",
       "      <td>867.271959</td>\n",
       "      <td>4.142736</td>\n",
       "      <td>3.941723</td>\n",
       "      <td>2.536700</td>\n",
       "      <td>2.248556</td>\n",
       "      <td>2.676784</td>\n",
       "      <td>2.157995</td>\n",
       "      <td>2.469796</td>\n",
       "      <td>2.271770</td>\n",
       "      <td>1.987705</td>\n",
       "      <td>1.481199</td>\n",
       "      <td>2.574875</td>\n",
       "      <td>1.468839</td>\n",
       "      <td>4.156939</td>\n",
       "    </tr>\n",
       "    <tr>\n",
       "      <th>std</th>\n",
       "      <td>555.834839</td>\n",
       "      <td>2.502682</td>\n",
       "      <td>0.999940</td>\n",
       "      <td>0.033692</td>\n",
       "      <td>583.166971</td>\n",
       "      <td>0.568531</td>\n",
       "      <td>0.844143</td>\n",
       "      <td>0.998517</td>\n",
       "      <td>0.998023</td>\n",
       "      <td>0.998991</td>\n",
       "      <td>0.999495</td>\n",
       "      <td>0.998122</td>\n",
       "      <td>0.999203</td>\n",
       "      <td>0.999410</td>\n",
       "      <td>1.000347</td>\n",
       "      <td>0.997594</td>\n",
       "      <td>1.000020</td>\n",
       "      <td>0.798360</td>\n",
       "    </tr>\n",
       "    <tr>\n",
       "      <th>min</th>\n",
       "      <td>1.000000</td>\n",
       "      <td>1.000000</td>\n",
       "      <td>1.374480</td>\n",
       "      <td>0.000489</td>\n",
       "      <td>1.000000</td>\n",
       "      <td>1.000000</td>\n",
       "      <td>3.000000</td>\n",
       "      <td>0.107947</td>\n",
       "      <td>0.000000</td>\n",
       "      <td>0.192498</td>\n",
       "      <td>0.069379</td>\n",
       "      <td>0.036527</td>\n",
       "      <td>0.062654</td>\n",
       "      <td>0.000000</td>\n",
       "      <td>0.182656</td>\n",
       "      <td>0.000000</td>\n",
       "      <td>0.220071</td>\n",
       "      <td>1.000000</td>\n",
       "    </tr>\n",
       "    <tr>\n",
       "      <th>25%</th>\n",
       "      <td>12.000000</td>\n",
       "      <td>2.000000</td>\n",
       "      <td>2.398029</td>\n",
       "      <td>0.000739</td>\n",
       "      <td>352.750000</td>\n",
       "      <td>4.000000</td>\n",
       "      <td>3.000000</td>\n",
       "      <td>1.776215</td>\n",
       "      <td>1.509178</td>\n",
       "      <td>1.896109</td>\n",
       "      <td>1.338030</td>\n",
       "      <td>1.716746</td>\n",
       "      <td>1.470521</td>\n",
       "      <td>1.287794</td>\n",
       "      <td>0.707112</td>\n",
       "      <td>1.925656</td>\n",
       "      <td>0.571429</td>\n",
       "      <td>3.445086</td>\n",
       "    </tr>\n",
       "    <tr>\n",
       "      <th>50%</th>\n",
       "      <td>71.000000</td>\n",
       "      <td>2.000000</td>\n",
       "      <td>3.556946</td>\n",
       "      <td>0.001278</td>\n",
       "      <td>782.500000</td>\n",
       "      <td>4.000000</td>\n",
       "      <td>4.000000</td>\n",
       "      <td>2.708483</td>\n",
       "      <td>2.364379</td>\n",
       "      <td>2.824913</td>\n",
       "      <td>2.137545</td>\n",
       "      <td>2.629908</td>\n",
       "      <td>2.307133</td>\n",
       "      <td>1.967463</td>\n",
       "      <td>1.147231</td>\n",
       "      <td>2.731787</td>\n",
       "      <td>1.173413</td>\n",
       "      <td>4.262323</td>\n",
       "    </tr>\n",
       "    <tr>\n",
       "      <th>75%</th>\n",
       "      <td>300.250000</td>\n",
       "      <td>6.000000</td>\n",
       "      <td>4.309886</td>\n",
       "      <td>0.002835</td>\n",
       "      <td>1353.750000</td>\n",
       "      <td>4.500000</td>\n",
       "      <td>5.000000</td>\n",
       "      <td>3.395417</td>\n",
       "      <td>3.144121</td>\n",
       "      <td>3.686343</td>\n",
       "      <td>2.989094</td>\n",
       "      <td>3.396965</td>\n",
       "      <td>3.168622</td>\n",
       "      <td>2.790220</td>\n",
       "      <td>2.161236</td>\n",
       "      <td>3.253508</td>\n",
       "      <td>2.396161</td>\n",
       "      <td>4.988360</td>\n",
       "    </tr>\n",
       "    <tr>\n",
       "      <th>max</th>\n",
       "      <td>6164.000000</td>\n",
       "      <td>12.000000</td>\n",
       "      <td>5.410362</td>\n",
       "      <td>1.000000</td>\n",
       "      <td>2045.000000</td>\n",
       "      <td>5.000000</td>\n",
       "      <td>5.000000</td>\n",
       "      <td>4.023471</td>\n",
       "      <td>3.722639</td>\n",
       "      <td>4.080965</td>\n",
       "      <td>3.977750</td>\n",
       "      <td>4.054442</td>\n",
       "      <td>3.904190</td>\n",
       "      <td>4.721910</td>\n",
       "      <td>3.349916</td>\n",
       "      <td>5.101268</td>\n",
       "      <td>3.017075</td>\n",
       "      <td>4.988360</td>\n",
       "    </tr>\n",
       "  </tbody>\n",
       "</table>\n",
       "</div>"
      ],
      "text/plain": [
       "           Reviews     District  Company KNN     RankingN      Ranking  \\\n",
       "count  1184.000000  1184.000000  1184.000000  1184.000000  1184.000000   \n",
       "mean    278.181588     3.310811     3.545380     0.005386   867.271959   \n",
       "std     555.834839     2.502682     0.999940     0.033692   583.166971   \n",
       "min       1.000000     1.000000     1.374480     0.000489     1.000000   \n",
       "25%      12.000000     2.000000     2.398029     0.000739   352.750000   \n",
       "50%      71.000000     2.000000     3.556946     0.001278   782.500000   \n",
       "75%     300.250000     6.000000     4.309886     0.002835  1353.750000   \n",
       "max    6164.000000    12.000000     5.410362     1.000000  2045.000000   \n",
       "\n",
       "            Rating     Rating_G        Hotel      Tourism         Cafe  \\\n",
       "count  1184.000000  1184.000000  1184.000000  1184.000000  1184.000000   \n",
       "mean      4.142736     3.941723     2.536700     2.248556     2.676784   \n",
       "std       0.568531     0.844143     0.998517     0.998023     0.998991   \n",
       "min       1.000000     3.000000     0.107947     0.000000     0.192498   \n",
       "25%       4.000000     3.000000     1.776215     1.509178     1.896109   \n",
       "50%       4.000000     4.000000     2.708483     2.364379     2.824913   \n",
       "75%       4.500000     5.000000     3.395417     3.144121     3.686343   \n",
       "max       5.000000     5.000000     4.023471     3.722639     4.080965   \n",
       "\n",
       "               Pub       Museum   Restaurant   University         Luas  \\\n",
       "count  1184.000000  1184.000000  1184.000000  1184.000000  1184.000000   \n",
       "mean      2.157995     2.469796     2.271770     1.987705     1.481199   \n",
       "std       0.999495     0.998122     0.999203     0.999410     1.000347   \n",
       "min       0.069379     0.036527     0.062654     0.000000     0.182656   \n",
       "25%       1.338030     1.716746     1.470521     1.287794     0.707112   \n",
       "50%       2.137545     2.629908     2.307133     1.967463     1.147231   \n",
       "75%       2.989094     3.396965     3.168622     2.790220     2.161236   \n",
       "max       3.977750     4.054442     3.904190     4.721910     3.349916   \n",
       "\n",
       "           Company       Liffey   Price Area  \n",
       "count  1184.000000  1184.000000  1184.000000  \n",
       "mean      2.574875     1.468839     4.156939  \n",
       "std       0.997594     1.000020     0.798360  \n",
       "min       0.000000     0.220071     1.000000  \n",
       "25%       1.925656     0.571429     3.445086  \n",
       "50%       2.731787     1.173413     4.262323  \n",
       "75%       3.253508     2.396161     4.988360  \n",
       "max       5.101268     3.017075     4.988360  "
      ]
     },
     "execution_count": 3,
     "metadata": {},
     "output_type": "execute_result"
    }
   ],
   "source": [
    "df.describe()"
   ]
  },
  {
   "cell_type": "markdown",
   "metadata": {},
   "source": [
    "We got about 60% accuracy trying to classify our model between 3 subcategories of the Rating that the website from where we had collected the data had asigned to each restaurant. We have shown that this class isn't the most optimal because some samples (restaurants) hadn't been classified by the website coherently in some cases. This is decreasing the accuracy of our prediction model.<br> Two simple facts are clear: The lower in the ranking is the better; the number of reviews indicates customer's volume visiting the restaurant, which can be seen as higher income.<br> So instead using the Rating, let's see how our classifier's performance will be if we give to our samples 4 new binomial labels. Top_100, Top_250, Top_500, and Top_750. In my opinion this would be an interesting data to play with: if our new restaurant has the potential of being a Top_100 in the Ranking due to location atributes, it means success. If not, we run the Top_250 model to see if our new restaurante belong to that range. Same with Top_500 if the Top_250 support vector declares the new restaurant out of the boundaries of the Top 250 ranking. "
   ]
  },
  {
   "cell_type": "markdown",
   "metadata": {},
   "source": [
    "Firstly we create 4 new columns for Rankings in order to use them as binomial classification\n",
    " * Top 100\n",
    " * Top 250\n",
    " * Top 500\n",
    " * Top 750"
   ]
  },
  {
   "cell_type": "code",
   "execution_count": 222,
   "metadata": {},
   "outputs": [],
   "source": [
    "df.loc[(df['Ranking'] <= 100), 'Top_100'] = 1\n",
    "df.loc[(df['Ranking'] > 100), 'Top_100'] = 0\n",
    "df.loc[(df['Ranking'] <= 250), 'Top_250'] = 1\n",
    "df.loc[(df['Ranking'] > 250), 'Top_250'] = 0\n",
    "df.loc[(df['Ranking'] <= 500), 'Top_500'] = 1\n",
    "df.loc[(df['Ranking'] > 500), 'Top_500'] = 0\n",
    "df.loc[(df['Ranking'] <= 750), 'Top_750'] = 1\n",
    "df.loc[(df['Ranking'] > 750), 'Top_750'] = 0"
   ]
  },
  {
   "cell_type": "code",
   "execution_count": 223,
   "metadata": {},
   "outputs": [],
   "source": [
    "#TEST\n",
    "\n",
    "df.loc[(df['Ranking'] > 750), 'Top_R'] = 0\n",
    "df.loc[(df['Ranking'] <= 750), 'Top_R'] = 1\n",
    "df.loc[(df['Ranking'] <= 500), 'Top_R'] = 2\n",
    "df.loc[(df['Ranking'] <= 250), 'Top_R'] = 3\n",
    "df.loc[(df['Ranking'] <= 100), 'Top_R'] = 4"
   ]
  },
  {
   "cell_type": "markdown",
   "metadata": {},
   "source": [
    "### KNN (K Nearest Neighbor) "
   ]
  },
  {
   "cell_type": "markdown",
   "metadata": {},
   "source": [
    "Here we define the feature set. We'll calculate the optimal k value using all features as first approach"
   ]
  },
  {
   "cell_type": "code",
   "execution_count": 10,
   "metadata": {},
   "outputs": [],
   "source": [
    "X = df[['Hotel', 'Tourism', 'University', 'Cafe',\n",
    "        'Pub', 'Luas', 'Museum','Restaurant', 'Company', \n",
    "        'Liffey', 'Price Area']].values \n",
    "y = df['Top_100'].values\n",
    "X_train, X_test, y_train, y_test = train_test_split( X, y, test_size=0.2, random_state=4)"
   ]
  },
  {
   "cell_type": "code",
   "execution_count": 11,
   "metadata": {},
   "outputs": [
    {
     "data": {
      "text/plain": [
       "array([0.85232068, 0.92405063, 0.91561181, 0.92827004, 0.92827004,\n",
       "       0.92827004, 0.92405063, 0.92405063, 0.92405063, 0.92827004,\n",
       "       0.92827004, 0.92827004, 0.92827004, 0.92827004, 0.92827004,\n",
       "       0.92827004, 0.92827004, 0.92827004, 0.92827004])"
      ]
     },
     "execution_count": 11,
     "metadata": {},
     "output_type": "execute_result"
    }
   ],
   "source": [
    "Ks = 20\n",
    "mean_acc = np.zeros((Ks-1))\n",
    "std_acc = np.zeros((Ks-1))\n",
    "ConfustionMx = [];\n",
    "for n in range(1,Ks):\n",
    "    neigh = KNeighborsClassifier(n_neighbors = n).fit(X_train,y_train)\n",
    "    yhat=neigh.predict(X_test)\n",
    "    mean_acc[n-1] = metrics.accuracy_score(y_test, yhat)\n",
    "    std_acc[n-1]=np.std(yhat==y_test)/np.sqrt(yhat.shape[0])\n",
    "mean_acc"
   ]
  },
  {
   "cell_type": "code",
   "execution_count": 12,
   "metadata": {},
   "outputs": [
    {
     "data": {
      "image/png": "[encoded data removed]",
      "text/plain": [
       "<Figure size 432x288 with 1 Axes>"
      ]
     },
     "metadata": {
      "needs_background": "light"
     },
     "output_type": "display_data"
    }
   ],
   "source": [
    "plt.plot(range(1,Ks),mean_acc,'g')\n",
    "plt.fill_between(range(1,Ks),mean_acc - 1 * std_acc,mean_acc + 1 * std_acc, alpha=0.10)\n",
    "plt.legend(('Accuracy ', '+/- 3xstd'))\n",
    "plt.ylabel('Accuracy ')\n",
    "plt.xlabel('Number of Nabors (K)')\n",
    "plt.tight_layout()\n",
    "plt.show()"
   ]
  },
  {
   "cell_type": "code",
   "execution_count": 13,
   "metadata": {},
   "outputs": [
    {
     "name": "stdout",
     "output_type": "stream",
     "text": [
      "The best accuracy was with 0.9282700421940928 with k= 4\n"
     ]
    }
   ],
   "source": [
    "print( \"The best accuracy was with\", mean_acc.max(), \"with k=\", mean_acc.argmax()+1)"
   ]
  },
  {
   "cell_type": "markdown",
   "metadata": {},
   "source": [
    "#### Let's check with different combinations of feature set"
   ]
  },
  {
   "cell_type": "markdown",
   "metadata": {},
   "source": [
    "Instead of trying a feature set that has been chosen during Feature selection, we will calculate all possible combinations of feature set. Which each one, we calculate the accuracy for k values from 1 to 20, and save the maximum k value on a new dataframe. After that, we can just sort this dataframe by accuracy and see which combination gives us the maximum accuracy."
   ]
  },
  {
   "cell_type": "code",
   "execution_count": 14,
   "metadata": {},
   "outputs": [
    {
     "name": "stdout",
     "output_type": "stream",
     "text": [
      "There are 2047 different combinations of feature set\n"
     ]
    }
   ],
   "source": [
    "features = ['Hotel', 'Tourism', 'University', 'Cafe', 'Pub', 'Luas', 'Museum','Restaurant', 'Company', 'Liffey', 'Price Area']\n",
    "feat_combo = []\n",
    "for L in range(1, len(features)+1):\n",
    "    for subset in itertools.combinations(features, L):\n",
    "        feat_combo.append(subset)\n",
    "print ('There are {} different combinations of feature set'.format(len(feat_combo)))"
   ]
  },
  {
   "cell_type": "markdown",
   "metadata": {},
   "source": [
    "#### Regarding to the random_state parameter & Cross Validation when using train_test_split:"
   ]
  },
  {
   "cell_type": "markdown",
   "metadata": {},
   "source": [
    "Having a fixed parameter random_state, will select the same random samples, due to this parameter is used to generate the randomness. <br>Therefore, in order to have Cross Validation we can split the dataset in subsets, train, test and validation, or we can iterate the classifier with different random_state parameter each time and use the median. In this case will be 0 to 10. In my opinion, with a dataset of about 1000 samples this is the best approach."
   ]
  },
  {
   "cell_type": "raw",
   "metadata": {},
   "source": [
    "knn_total_top_100 = pd.DataFrame(columns=['combo', 'accuracy', 'k', 'f1_score', 'jaccard_score', 'random_state', 'nFeatures'])"
   ]
  },
  {
   "cell_type": "code",
   "execution_count": null,
   "metadata": {},
   "outputs": [],
   "source": [
    "space = '     ' # to print on same line while calculating\n",
    "knn_combo = pd.DataFrame(columns=['combo', 'accuracy', 'k', 'f1_score', 'jaccard_score', 'random_state', 'nFeatures'])\n",
    "j=0\n",
    "for j in range(0,11):\n",
    "    i=0\n",
    "    for i in range (0, len(feat_combo)):\n",
    "        X = df[list(feat_combo[i])].values \n",
    "        y = df['Top_100'].values\n",
    "        X_train, X_test, y_train, y_test = train_test_split( X, y, test_size=0.2, random_state=j)        \n",
    "        Ks = 20\n",
    "        mean_acc = np.zeros((Ks-1))\n",
    "        std_acc = np.zeros((Ks-1))\n",
    "        ConfustionMx = [];\n",
    "        for n in range(1,Ks):\n",
    "            neigh = KNeighborsClassifier(n_neighbors = n).fit(X_train,y_train)\n",
    "            yhat=neigh.predict(X_test)\n",
    "            mean_acc[n-1] = metrics.accuracy_score(y_test, yhat)\n",
    "            std_acc[n-1]=np.std(yhat==y_test)/np.sqrt(yhat.shape[0])\n",
    "        \n",
    "        knn_combo.at[i, 'combo'] = feat_combo[i]\n",
    "        knn_combo.at[i, 'accuracy'] = mean_acc.max()\n",
    "        knn_combo.at[i, 'f1_score'] = f1_score(y_test, yhat, average='weighted')\n",
    "        knn_combo.at[i, 'jaccard_score'] = jaccard_score(y_test, yhat, average='weighted')\n",
    "        knn_combo.at[i, 'random_state'] = j\n",
    "        knn_combo.at[i, 'nFeatures'] = len(list(feat_combo[i]))\n",
    "        knn_combo.at[i, 'k'] = mean_acc.argmax()+1\n",
    "        \n",
    "        print( 'random_state:{},{}{}'.format(j, knn_combo.at[i, 'combo'], 10*space), end=\"\\r\", flush=True) \n",
    "    knn_total_top_100 = knn_total_top_100.append(knn_combo)"
   ]
  },
  {
   "cell_type": "code",
   "execution_count": null,
   "metadata": {},
   "outputs": [],
   "source": [
    "knn_total_top_100.sort_values(by='accuracy', ascending=False).head(2)"
   ]
  },
  {
   "cell_type": "markdown",
   "metadata": {},
   "source": [
    "And we do the same for Top_250, Top_500 & Top_750"
   ]
  },
  {
   "cell_type": "code",
   "execution_count": null,
   "metadata": {},
   "outputs": [],
   "source": []
  },
  {
   "cell_type": "code",
   "execution_count": null,
   "metadata": {},
   "outputs": [],
   "source": []
  },
  {
   "cell_type": "code",
   "execution_count": null,
   "metadata": {},
   "outputs": [],
   "source": []
  },
  {
   "cell_type": "code",
   "execution_count": null,
   "metadata": {},
   "outputs": [],
   "source": []
  },
  {
   "cell_type": "code",
   "execution_count": null,
   "metadata": {},
   "outputs": [],
   "source": []
  },
  {
   "cell_type": "markdown",
   "metadata": {},
   "source": [
    "### SVM (Support Vector Machine)"
   ]
  },
  {
   "cell_type": "markdown",
   "metadata": {},
   "source": [
    "SVM works very well on smaller data sets, on non-linear data sets and high dimensional spaces. Not very sensitive to overfitting.<br>\n",
    "When the data set has more noise (i.e. target classes are overlapping) SVM doesn’t perform well. We need to find classes that do not overlap. This is why using Ranking gives much better results than using Rating.\n"
   ]
  },
  {
   "cell_type": "markdown",
   "metadata": {},
   "source": [
    "* We are running SVM classifier for all combinations of features.\n",
    "* random_state from 0 to 40. This will serve as Cross Validation. Otherwise, fixing the seed (random_state) which generates the test set, wouldn't get optimal results. \n",
    "* Data has been splitted in 80/20 ratio, 80% for train set and 20% for test set.\n",
    "* Regularization Parameter C has been fixed to 5 due to previous tests with this model. There's no increment on accuracy with values above 10. \n",
    "* Gamma parameter gave us beter results keeping the default (from version SVM 0.22) 'scale', which is 1/(n_features * X.var())\n",
    "* Kernels ('linear', 'poly', 'rbf', 'sigmoid') also has been tested. Radial Basis Function was the most accurate followed by Polynomial. This is due to our model is non linear.\n",
    "* F1-measure, which weights precision and recall equally, is the variant most often used when learning from imbalanced data. We cannot base our study just on accurancy for this model in particular."
   ]
  },
  {
   "cell_type": "code",
   "execution_count": null,
   "metadata": {},
   "outputs": [],
   "source": [
    "svm_total_top_100 = pd.DataFrame(columns=['combo', 'accuracy', 'f1_score', 'jaccard_score', 'random_state', 'nFeatures'])"
   ]
  },
  {
   "cell_type": "code",
   "execution_count": null,
   "metadata": {},
   "outputs": [],
   "source": [
    "space = '     ' # to print on same line while calculating\n",
    "svm_combo = pd.DataFrame(columns=['combo', 'accuracy', 'f1_score', 'jaccard_score', 'random_state', 'nFeatures'])\n",
    "j=0\n",
    "for j in range(0,41):\n",
    "    i=0\n",
    "    for i in range (0, len(feat_combo)):\n",
    "        X = np.asarray(df[list(feat_combo[i])])  \n",
    "        y = np.asarray(df['Top_100'])\n",
    "        X_train, X_test, y_train, y_test = train_test_split( X, y, test_size=0.2, random_state=j)\n",
    "        clf = svm.SVC(kernel='rbf', C=5, gamma='scale')\n",
    "        clf.fit(X_train, y_train)\n",
    "        yhat = clf.predict(X_test)\n",
    "\n",
    "        svm_combo.at[i, 'combo'] = feat_combo[i]\n",
    "        svm_combo.at[i, 'accuracy'] = metrics.accuracy_score(y_test, yhat)\n",
    "        svm_combo.at[i, 'f1_score'] = f1_score(y_test, yhat, average='weighted')\n",
    "        svm_combo.at[i, 'jaccard_score'] = jaccard_score(y_test, yhat, average='weighted')\n",
    "        svm_combo.at[i, 'random_state'] = j\n",
    "        svm_combo.at[i, 'nFeatures'] = len(list(feat_combo[i]))\n",
    "        \n",
    "        print( 'random_state:{},{}{}'.format(j, svm_combo.at[i, 'combo'], 10*space), end=\"\\r\", flush=True) \n",
    "    svm_total_top_100 = svm_total_top_100.append(svm_combo)"
   ]
  },
  {
   "cell_type": "code",
   "execution_count": null,
   "metadata": {},
   "outputs": [],
   "source": [
    "svm_total_top_100.sort_values(by='accuracy', ascending=False).head(2)"
   ]
  },
  {
   "cell_type": "markdown",
   "metadata": {},
   "source": [
    "As we did with KNN, we generate the data for Top_250, Top_500 & Top_750 aswell"
   ]
  },
  {
   "cell_type": "code",
   "execution_count": 15,
   "metadata": {},
   "outputs": [],
   "source": [
    "svm_total_top_100 = pd.read_csv('svm_total_top_100.csv')\n",
    "svm_total_top_250 = pd.read_csv('svm_total_top_250.csv')\n",
    "svm_total_top_500 = pd.read_csv('svm_total_top_500.csv')\n",
    "svm_total_top_750 = pd.read_csv('svm_total_top_750.csv')"
   ]
  },
  {
   "cell_type": "code",
   "execution_count": 17,
   "metadata": {
    "scrolled": true
   },
   "outputs": [
    {
     "data": {
      "text/html": [
       "<div>\n",
       "<style scoped>\n",
       "    .dataframe tbody tr th:only-of-type {\n",
       "        vertical-align: middle;\n",
       "    }\n",
       "\n",
       "    .dataframe tbody tr th {\n",
       "        vertical-align: top;\n",
       "    }\n",
       "\n",
       "    .dataframe thead th {\n",
       "        text-align: right;\n",
       "    }\n",
       "</style>\n",
       "<table border=\"1\" class=\"dataframe\">\n",
       "  <thead>\n",
       "    <tr style=\"text-align: right;\">\n",
       "      <th></th>\n",
       "      <th>combo</th>\n",
       "      <th>accuracy</th>\n",
       "      <th>f1_score</th>\n",
       "      <th>jaccard_score</th>\n",
       "      <th>random_state</th>\n",
       "      <th>nFeatures</th>\n",
       "    </tr>\n",
       "  </thead>\n",
       "  <tbody>\n",
       "    <tr>\n",
       "      <th>69596</th>\n",
       "      <td>('Tourism', 'University', 'Cafe', 'Pub', 'Luas...</td>\n",
       "      <td>0.962025</td>\n",
       "      <td>0.943405</td>\n",
       "      <td>0.925493</td>\n",
       "      <td>33</td>\n",
       "      <td>10</td>\n",
       "    </tr>\n",
       "    <tr>\n",
       "      <th>68573</th>\n",
       "      <td>('Museum', 'Restaurant', 'Company', 'Liffey', ...</td>\n",
       "      <td>0.962025</td>\n",
       "      <td>0.943405</td>\n",
       "      <td>0.925493</td>\n",
       "      <td>33</td>\n",
       "      <td>5</td>\n",
       "    </tr>\n",
       "  </tbody>\n",
       "</table>\n",
       "</div>"
      ],
      "text/plain": [
       "                                                   combo  accuracy  f1_score  \\\n",
       "69596  ('Tourism', 'University', 'Cafe', 'Pub', 'Luas...  0.962025  0.943405   \n",
       "68573  ('Museum', 'Restaurant', 'Company', 'Liffey', ...  0.962025  0.943405   \n",
       "\n",
       "       jaccard_score  random_state  nFeatures  \n",
       "69596       0.925493            33         10  \n",
       "68573       0.925493            33          5  "
      ]
     },
     "execution_count": 17,
     "metadata": {},
     "output_type": "execute_result"
    }
   ],
   "source": [
    "svm_total_top_100.sort_values(by='accuracy', ascending=False).head(2)"
   ]
  },
  {
   "cell_type": "code",
   "execution_count": 237,
   "metadata": {},
   "outputs": [
    {
     "data": {
      "text/plain": [
       "(83927, 6)"
      ]
     },
     "execution_count": 237,
     "metadata": {},
     "output_type": "execute_result"
    }
   ],
   "source": [
    "svm_total_top_100.shape"
   ]
  },
  {
   "cell_type": "code",
   "execution_count": 238,
   "metadata": {},
   "outputs": [
    {
     "data": {
      "text/plain": [
       "[0.94, 0.83, 0.67, 0.61]"
      ]
     },
     "execution_count": 238,
     "metadata": {},
     "output_type": "execute_result"
    }
   ],
   "source": [
    "lines"
   ]
  },
  {
   "cell_type": "code",
   "execution_count": 243,
   "metadata": {},
   "outputs": [],
   "source": [
    "svm_total_top_250 = pd.read_csv('charts/svm_total_top_250n.csv')\n",
    "svm_total_top_500 = pd.read_csv('charts/svm_total_top_500n.csv')"
   ]
  },
  {
   "cell_type": "code",
   "execution_count": 244,
   "metadata": {},
   "outputs": [
    {
     "data": {
      "image/png": "[encoded data removed]",
      "text/plain": [
       "<Figure size 1080x576 with 4 Axes>"
      ]
     },
     "metadata": {
      "needs_background": "light"
     },
     "output_type": "display_data"
    }
   ],
   "source": [
    "figures = [(0, 0), (0, 1), (1, 0), (1, 1)]\n",
    "axis_x = 'random_state'\n",
    "axis_y = 'accuracy'\n",
    "titles_figs =['Top 100', 'Top 250', 'Top 500', 'Top 750']\n",
    "data_dfs = [svm_total_top_250, svm_total_top_250, svm_total_top_500, svm_total_top_500]\n",
    "fig, axs = plt.subplots(ncols=2, nrows=2, figsize=(15, 8))\n",
    "fig.tight_layout(pad=3.0)\n",
    "fig.suptitle('SVM entire combinations of features', y=1.02, fontsize=18)\n",
    "for data_df, titl, figs in zip(data_dfs, titles_figs, figures):\n",
    "    sns.lineplot(x=axis_x, y=axis_y, data=data_df, ax=axs[figs])\n",
    "    sns.lineplot(x=axis_x, y=data_df.accuracy.quantile(q=0.75), data=data_df, label='percentile 75%',\n",
    "                 ax=axs[figs]).set_title(titl, color='darkblue')"
   ]
  },
  {
   "cell_type": "code",
   "execution_count": 239,
   "metadata": {},
   "outputs": [
    {
     "data": {
      "image/png": "[encoded data removed]",
      "text/plain": [
       "<Figure size 1080x576 with 4 Axes>"
      ]
     },
     "metadata": {
      "needs_background": "light"
     },
     "output_type": "display_data"
    }
   ],
   "source": [
    "figures = [(0, 0), (0, 1), (1, 0), (1, 1)]\n",
    "axis_x = 'random_state'\n",
    "axis_y = 'accuracy'\n",
    "titles_figs =['Top 100', 'Top 250', 'Top 500', 'Top 750']\n",
    "data_dfs = [svm_total_top_100, svm_total_top_250, svm_total_top_500, svm_total_top_750]\n",
    "fig, axs = plt.subplots(ncols=2, nrows=2, figsize=(15, 8))\n",
    "fig.tight_layout(pad=3.0)\n",
    "fig.suptitle('SVM entire combinations of features', y=1.02, fontsize=18)\n",
    "for data_df, titl, figs in zip(data_dfs, titles_figs, figures):\n",
    "    sns.lineplot(x=axis_x, y=axis_y, data=data_df, ax=axs[figs])\n",
    "    sns.lineplot(x=axis_x, y=data_df.accuracy.quantile(q=0.75), data=data_df, label='percentile 75%',\n",
    "                 ax=axs[figs]).set_title(titl, color='darkblue')\n",
    "#fig.savefig('charts/SVM_features_combinations.png', bbox_inches='tight', format='png', dpi=500)"
   ]
  },
  {
   "cell_type": "markdown",
   "metadata": {},
   "source": [
    "Let's keep those combos that pass the threshold of percentile 75% accuracy"
   ]
  },
  {
   "cell_type": "code",
   "execution_count": 105,
   "metadata": {},
   "outputs": [],
   "source": [
    "#top_100_acc = pd.DataFrame()\n",
    "#top_250_acc = pd.DataFrame()\n",
    "#top_500_acc = pd.DataFrame()\n",
    "#top_750_acc = pd.DataFrame()\n",
    "dfs = ['top_100_acc', 'top_250_acc', 'top_500_acc', 'top_750_acc']\n",
    "data_dfs = [svm_total_top_100, svm_total_top_250, svm_total_top_500, svm_total_top_750]\n",
    "for df, data in zip(dfs, data_dfs):\n",
    "    df = data.loc[data['accuracy'] >= data.accuracy.quantile(q=0.75)].copy()\n",
    "    #df.drop_duplicates('combo', keep='first', inplace=True)\n",
    "    #df.sort_values(by=['accuracy'], ascending=False, inplace=True).head()\n",
    "    #df.reset_index(drop=True, inplace=True)"
   ]
  },
  {
   "cell_type": "code",
   "execution_count": 96,
   "metadata": {},
   "outputs": [],
   "source": [
    "top_100_acc = svm_total_top_100.loc[svm_total_top_100['accuracy'] >= svm_total_top_100.accuracy.quantile(q=0.75)].copy()"
   ]
  },
  {
   "cell_type": "code",
   "execution_count": 144,
   "metadata": {},
   "outputs": [],
   "source": [
    "feature_set = ['Hotel', 'Tourism', 'University', 'Cafe', 'Pub', \n",
    "               'Luas', 'Museum','Restaurant', 'Company', 'Liffey', 'Price Area']\n",
    "df_app = pd.DataFrame()\n",
    "data_dfs = [svm_total_top_100, svm_total_top_250, svm_total_top_500, svm_total_top_750]\n",
    "for ind, data in zip(range(0,4), data_dfs):\n",
    "    df_temp = pd.DataFrame()\n",
    "    df_temp = data.loc[data['accuracy'] >= data.accuracy.quantile(q=0.75)].copy()\n",
    "    #df_temp =  data.copy()\n",
    "    df_temp.drop_duplicates('combo', keep='first', inplace=True)\n",
    "    df_temp.sort_values(by=['accuracy'], ascending=False, inplace=True)\n",
    "    df_temp.reset_index(drop=True, inplace=True)\n",
    "    for feat in feature_set:\n",
    "        df_app.at[ind, feat] = df_temp.loc[df_temp['combo'].str.contains(feat), 'combo'].count()\n",
    "    "
   ]
  },
  {
   "cell_type": "code",
   "execution_count": 145,
   "metadata": {},
   "outputs": [
    {
     "data": {
      "text/html": [
       "<div>\n",
       "<style scoped>\n",
       "    .dataframe tbody tr th:only-of-type {\n",
       "        vertical-align: middle;\n",
       "    }\n",
       "\n",
       "    .dataframe tbody tr th {\n",
       "        vertical-align: top;\n",
       "    }\n",
       "\n",
       "    .dataframe thead th {\n",
       "        text-align: right;\n",
       "    }\n",
       "</style>\n",
       "<table border=\"1\" class=\"dataframe\">\n",
       "  <thead>\n",
       "    <tr style=\"text-align: right;\">\n",
       "      <th></th>\n",
       "      <th>Hotel</th>\n",
       "      <th>Tourism</th>\n",
       "      <th>University</th>\n",
       "      <th>Cafe</th>\n",
       "      <th>Pub</th>\n",
       "      <th>Luas</th>\n",
       "      <th>Museum</th>\n",
       "      <th>Restaurant</th>\n",
       "      <th>Company</th>\n",
       "      <th>Liffey</th>\n",
       "      <th>Price Area</th>\n",
       "    </tr>\n",
       "  </thead>\n",
       "  <tbody>\n",
       "    <tr>\n",
       "      <th>0</th>\n",
       "      <td>1024.0</td>\n",
       "      <td>1024.0</td>\n",
       "      <td>1024.0</td>\n",
       "      <td>1024.0</td>\n",
       "      <td>1024.0</td>\n",
       "      <td>1024.0</td>\n",
       "      <td>1024.0</td>\n",
       "      <td>1024.0</td>\n",
       "      <td>1024.0</td>\n",
       "      <td>1024.0</td>\n",
       "      <td>1024.0</td>\n",
       "    </tr>\n",
       "    <tr>\n",
       "      <th>1</th>\n",
       "      <td>1024.0</td>\n",
       "      <td>1024.0</td>\n",
       "      <td>1024.0</td>\n",
       "      <td>1024.0</td>\n",
       "      <td>1024.0</td>\n",
       "      <td>1024.0</td>\n",
       "      <td>1024.0</td>\n",
       "      <td>1024.0</td>\n",
       "      <td>1024.0</td>\n",
       "      <td>1024.0</td>\n",
       "      <td>1024.0</td>\n",
       "    </tr>\n",
       "    <tr>\n",
       "      <th>2</th>\n",
       "      <td>1024.0</td>\n",
       "      <td>1024.0</td>\n",
       "      <td>1024.0</td>\n",
       "      <td>1024.0</td>\n",
       "      <td>1024.0</td>\n",
       "      <td>1024.0</td>\n",
       "      <td>1024.0</td>\n",
       "      <td>1024.0</td>\n",
       "      <td>1024.0</td>\n",
       "      <td>1024.0</td>\n",
       "      <td>1024.0</td>\n",
       "    </tr>\n",
       "    <tr>\n",
       "      <th>3</th>\n",
       "      <td>1024.0</td>\n",
       "      <td>1024.0</td>\n",
       "      <td>1024.0</td>\n",
       "      <td>1024.0</td>\n",
       "      <td>1024.0</td>\n",
       "      <td>1024.0</td>\n",
       "      <td>1024.0</td>\n",
       "      <td>1024.0</td>\n",
       "      <td>1024.0</td>\n",
       "      <td>1024.0</td>\n",
       "      <td>1024.0</td>\n",
       "    </tr>\n",
       "  </tbody>\n",
       "</table>\n",
       "</div>"
      ],
      "text/plain": [
       "    Hotel  Tourism  University    Cafe     Pub    Luas  Museum  Restaurant  \\\n",
       "0  1024.0   1024.0      1024.0  1024.0  1024.0  1024.0  1024.0      1024.0   \n",
       "1  1024.0   1024.0      1024.0  1024.0  1024.0  1024.0  1024.0      1024.0   \n",
       "2  1024.0   1024.0      1024.0  1024.0  1024.0  1024.0  1024.0      1024.0   \n",
       "3  1024.0   1024.0      1024.0  1024.0  1024.0  1024.0  1024.0      1024.0   \n",
       "\n",
       "   Company  Liffey  Price Area  \n",
       "0   1024.0  1024.0      1024.0  \n",
       "1   1024.0  1024.0      1024.0  \n",
       "2   1024.0  1024.0      1024.0  \n",
       "3   1024.0  1024.0      1024.0  "
      ]
     },
     "execution_count": 145,
     "metadata": {},
     "output_type": "execute_result"
    }
   ],
   "source": [
    "df_app"
   ]
  },
  {
   "cell_type": "code",
   "execution_count": 122,
   "metadata": {},
   "outputs": [
    {
     "data": {
      "text/plain": [
       "\"('Tourism', 'Cafe', 'Luas', 'Museum', 'Liffey', 'Price Area')\""
      ]
     },
     "execution_count": 122,
     "metadata": {},
     "output_type": "execute_result"
    }
   ],
   "source": [
    "df_temp.combo[5]"
   ]
  },
  {
   "cell_type": "code",
   "execution_count": 146,
   "metadata": {},
   "outputs": [
    {
     "data": {
      "text/html": [
       "<div>\n",
       "<style scoped>\n",
       "    .dataframe tbody tr th:only-of-type {\n",
       "        vertical-align: middle;\n",
       "    }\n",
       "\n",
       "    .dataframe tbody tr th {\n",
       "        vertical-align: top;\n",
       "    }\n",
       "\n",
       "    .dataframe thead th {\n",
       "        text-align: right;\n",
       "    }\n",
       "</style>\n",
       "<table border=\"1\" class=\"dataframe\">\n",
       "  <thead>\n",
       "    <tr style=\"text-align: right;\">\n",
       "      <th></th>\n",
       "      <th>combo</th>\n",
       "      <th>accuracy</th>\n",
       "      <th>f1_score</th>\n",
       "      <th>jaccard_score</th>\n",
       "      <th>random_state</th>\n",
       "      <th>nFeatures</th>\n",
       "    </tr>\n",
       "  </thead>\n",
       "  <tbody>\n",
       "    <tr>\n",
       "      <th>0</th>\n",
       "      <td>('Hotel', 'Tourism', 'University', 'Pub', 'Mus...</td>\n",
       "      <td>0.645570</td>\n",
       "      <td>0.643546</td>\n",
       "      <td>0.477236</td>\n",
       "      <td>0</td>\n",
       "      <td>6</td>\n",
       "    </tr>\n",
       "    <tr>\n",
       "      <th>1</th>\n",
       "      <td>('Hotel', 'Tourism', 'University', 'Pub', 'Mus...</td>\n",
       "      <td>0.641350</td>\n",
       "      <td>0.638984</td>\n",
       "      <td>0.472488</td>\n",
       "      <td>0</td>\n",
       "      <td>7</td>\n",
       "    </tr>\n",
       "    <tr>\n",
       "      <th>2</th>\n",
       "      <td>('Hotel', 'Tourism', 'University', 'Pub', 'Mus...</td>\n",
       "      <td>0.641350</td>\n",
       "      <td>0.635917</td>\n",
       "      <td>0.470579</td>\n",
       "      <td>0</td>\n",
       "      <td>6</td>\n",
       "    </tr>\n",
       "    <tr>\n",
       "      <th>3</th>\n",
       "      <td>('Tourism', 'University', 'Pub', 'Museum')</td>\n",
       "      <td>0.641350</td>\n",
       "      <td>0.631882</td>\n",
       "      <td>0.467968</td>\n",
       "      <td>0</td>\n",
       "      <td>4</td>\n",
       "    </tr>\n",
       "    <tr>\n",
       "      <th>4</th>\n",
       "      <td>('Hotel', 'Cafe', 'Pub', 'Museum', 'Restaurant...</td>\n",
       "      <td>0.641350</td>\n",
       "      <td>0.640685</td>\n",
       "      <td>0.473471</td>\n",
       "      <td>0</td>\n",
       "      <td>7</td>\n",
       "    </tr>\n",
       "    <tr>\n",
       "      <th>...</th>\n",
       "      <td>...</td>\n",
       "      <td>...</td>\n",
       "      <td>...</td>\n",
       "      <td>...</td>\n",
       "      <td>...</td>\n",
       "      <td>...</td>\n",
       "    </tr>\n",
       "    <tr>\n",
       "      <th>2020</th>\n",
       "      <td>('Cafe', 'Pub', 'Luas', 'Restaurant')</td>\n",
       "      <td>0.556962</td>\n",
       "      <td>0.552289</td>\n",
       "      <td>0.386137</td>\n",
       "      <td>0</td>\n",
       "      <td>4</td>\n",
       "    </tr>\n",
       "    <tr>\n",
       "      <th>2021</th>\n",
       "      <td>('Hotel', 'University', 'Cafe', 'Pub', 'Luas',...</td>\n",
       "      <td>0.556962</td>\n",
       "      <td>0.558765</td>\n",
       "      <td>0.388030</td>\n",
       "      <td>0</td>\n",
       "      <td>8</td>\n",
       "    </tr>\n",
       "    <tr>\n",
       "      <th>2022</th>\n",
       "      <td>('Hotel', 'Cafe', 'Pub', 'Luas')</td>\n",
       "      <td>0.556962</td>\n",
       "      <td>0.555509</td>\n",
       "      <td>0.387634</td>\n",
       "      <td>0</td>\n",
       "      <td>4</td>\n",
       "    </tr>\n",
       "    <tr>\n",
       "      <th>2025</th>\n",
       "      <td>('Tourism', 'Cafe', 'Pub', 'Luas', 'Restaurant...</td>\n",
       "      <td>0.552743</td>\n",
       "      <td>0.552743</td>\n",
       "      <td>0.384201</td>\n",
       "      <td>0</td>\n",
       "      <td>6</td>\n",
       "    </tr>\n",
       "    <tr>\n",
       "      <th>2039</th>\n",
       "      <td>('Hotel', 'Pub', 'Luas', 'Liffey', 'Price Area')</td>\n",
       "      <td>0.552743</td>\n",
       "      <td>0.554648</td>\n",
       "      <td>0.384419</td>\n",
       "      <td>0</td>\n",
       "      <td>5</td>\n",
       "    </tr>\n",
       "  </tbody>\n",
       "</table>\n",
       "<p>1024 rows × 6 columns</p>\n",
       "</div>"
      ],
      "text/plain": [
       "                                                  combo  accuracy  f1_score  \\\n",
       "0     ('Hotel', 'Tourism', 'University', 'Pub', 'Mus...  0.645570  0.643546   \n",
       "1     ('Hotel', 'Tourism', 'University', 'Pub', 'Mus...  0.641350  0.638984   \n",
       "2     ('Hotel', 'Tourism', 'University', 'Pub', 'Mus...  0.641350  0.635917   \n",
       "3            ('Tourism', 'University', 'Pub', 'Museum')  0.641350  0.631882   \n",
       "4     ('Hotel', 'Cafe', 'Pub', 'Museum', 'Restaurant...  0.641350  0.640685   \n",
       "...                                                 ...       ...       ...   \n",
       "2020              ('Cafe', 'Pub', 'Luas', 'Restaurant')  0.556962  0.552289   \n",
       "2021  ('Hotel', 'University', 'Cafe', 'Pub', 'Luas',...  0.556962  0.558765   \n",
       "2022                   ('Hotel', 'Cafe', 'Pub', 'Luas')  0.556962  0.555509   \n",
       "2025  ('Tourism', 'Cafe', 'Pub', 'Luas', 'Restaurant...  0.552743  0.552743   \n",
       "2039   ('Hotel', 'Pub', 'Luas', 'Liffey', 'Price Area')  0.552743  0.554648   \n",
       "\n",
       "      jaccard_score  random_state  nFeatures  \n",
       "0          0.477236             0          6  \n",
       "1          0.472488             0          7  \n",
       "2          0.470579             0          6  \n",
       "3          0.467968             0          4  \n",
       "4          0.473471             0          7  \n",
       "...             ...           ...        ...  \n",
       "2020       0.386137             0          4  \n",
       "2021       0.388030             0          8  \n",
       "2022       0.387634             0          4  \n",
       "2025       0.384201             0          6  \n",
       "2039       0.384419             0          5  \n",
       "\n",
       "[1024 rows x 6 columns]"
      ]
     },
     "execution_count": 146,
     "metadata": {},
     "output_type": "execute_result"
    }
   ],
   "source": [
    "df_temp.loc[df_temp['combo'].str.contains('Pub')]"
   ]
  },
  {
   "cell_type": "code",
   "execution_count": 139,
   "metadata": {},
   "outputs": [
    {
     "data": {
      "text/plain": [
       "0                                              ('Hotel',)\n",
       "1       ('Tourism', 'Cafe', 'Pub', 'Museum', 'Liffey',...\n",
       "2       ('Tourism', 'Cafe', 'Luas', 'Restaurant', 'Lif...\n",
       "3       ('Tourism', 'Cafe', 'Luas', 'Restaurant', 'Com...\n",
       "4       ('Tourism', 'Cafe', 'Luas', 'Restaurant', 'Com...\n",
       "                              ...                        \n",
       "2042    ('Hotel', 'University', 'Pub', 'Restaurant', '...\n",
       "2043    ('Hotel', 'University', 'Pub', 'Restaurant', '...\n",
       "2044    ('Hotel', 'University', 'Pub', 'Restaurant', '...\n",
       "2045    ('Hotel', 'University', 'Pub', 'Museum', 'Pric...\n",
       "2046    ('Hotel', 'Tourism', 'University', 'Cafe', 'Pu...\n",
       "Name: combo, Length: 2047, dtype: object"
      ]
     },
     "execution_count": 139,
     "metadata": {},
     "output_type": "execute_result"
    }
   ],
   "source": [
    "df_temp['combo']"
   ]
  },
  {
   "cell_type": "code",
   "execution_count": 148,
   "metadata": {},
   "outputs": [
    {
     "data": {
      "text/plain": [
       "(83927, 6)"
      ]
     },
     "execution_count": 148,
     "metadata": {},
     "output_type": "execute_result"
    }
   ],
   "source": [
    "svm_total_top_100.shape"
   ]
  },
  {
   "cell_type": "code",
   "execution_count": 106,
   "metadata": {},
   "outputs": [
    {
     "data": {
      "text/html": [
       "<div>\n",
       "<style scoped>\n",
       "    .dataframe tbody tr th:only-of-type {\n",
       "        vertical-align: middle;\n",
       "    }\n",
       "\n",
       "    .dataframe tbody tr th {\n",
       "        vertical-align: top;\n",
       "    }\n",
       "\n",
       "    .dataframe thead th {\n",
       "        text-align: right;\n",
       "    }\n",
       "</style>\n",
       "<table border=\"1\" class=\"dataframe\">\n",
       "  <thead>\n",
       "    <tr style=\"text-align: right;\">\n",
       "      <th></th>\n",
       "    </tr>\n",
       "  </thead>\n",
       "  <tbody>\n",
       "  </tbody>\n",
       "</table>\n",
       "</div>"
      ],
      "text/plain": [
       "Empty DataFrame\n",
       "Columns: []\n",
       "Index: []"
      ]
     },
     "execution_count": 106,
     "metadata": {},
     "output_type": "execute_result"
    }
   ],
   "source": [
    "top_250_acc"
   ]
  },
  {
   "cell_type": "code",
   "execution_count": 162,
   "metadata": {},
   "outputs": [
    {
     "data": {
      "text/plain": [
       "41984"
      ]
     },
     "execution_count": 162,
     "metadata": {},
     "output_type": "execute_result"
    }
   ],
   "source": [
    "svm_total_top_500['combo'].str.contains('Pub').sum()"
   ]
  },
  {
   "cell_type": "code",
   "execution_count": 185,
   "metadata": {},
   "outputs": [],
   "source": [
    "df_temp = svm_total_top_250.copy()"
   ]
  },
  {
   "cell_type": "code",
   "execution_count": 186,
   "metadata": {},
   "outputs": [
    {
     "data": {
      "text/plain": [
       "(83927, 6)"
      ]
     },
     "execution_count": 186,
     "metadata": {},
     "output_type": "execute_result"
    }
   ],
   "source": [
    "df_temp.shape"
   ]
  },
  {
   "cell_type": "code",
   "execution_count": 187,
   "metadata": {},
   "outputs": [],
   "source": [
    "df_temp2 = df_temp.loc[df_temp['accuracy'] >= df_temp.accuracy.quantile(q=0.75)].copy()"
   ]
  },
  {
   "cell_type": "code",
   "execution_count": 188,
   "metadata": {},
   "outputs": [
    {
     "data": {
      "text/plain": [
       "(22517, 6)"
      ]
     },
     "execution_count": 188,
     "metadata": {},
     "output_type": "execute_result"
    }
   ],
   "source": [
    "df_temp2.shape"
   ]
  },
  {
   "cell_type": "code",
   "execution_count": 189,
   "metadata": {},
   "outputs": [],
   "source": [
    "df_temp2.drop_duplicates('combo', keep='first', inplace=True)"
   ]
  },
  {
   "cell_type": "code",
   "execution_count": 190,
   "metadata": {},
   "outputs": [
    {
     "data": {
      "text/plain": [
       "(2047, 6)"
      ]
     },
     "execution_count": 190,
     "metadata": {},
     "output_type": "execute_result"
    }
   ],
   "source": [
    "df_temp2.shape"
   ]
  },
  {
   "cell_type": "code",
   "execution_count": 191,
   "metadata": {},
   "outputs": [
    {
     "data": {
      "text/plain": [
       "1024"
      ]
     },
     "execution_count": 191,
     "metadata": {},
     "output_type": "execute_result"
    }
   ],
   "source": [
    "df_temp2['combo'].str.contains('Hotel').sum()"
   ]
  },
  {
   "cell_type": "code",
   "execution_count": null,
   "metadata": {},
   "outputs": [],
   "source": []
  },
  {
   "cell_type": "code",
   "execution_count": null,
   "metadata": {},
   "outputs": [],
   "source": []
  },
  {
   "cell_type": "markdown",
   "metadata": {},
   "source": [
    "=====================test=============\n"
   ]
  },
  {
   "cell_type": "code",
   "execution_count": null,
   "metadata": {},
   "outputs": [],
   "source": [
    "space = '     ' # to print on same line while calculating\n",
    "svm_combo = pd.DataFrame(columns=['combo', 'accuracy', 'f1_score', 'jaccard_score', 'random_state', 'nFeatures'])\n",
    "j=0\n",
    "for j in range(0,41):\n",
    "    i=0\n",
    "    for i in range (0, len(feat_combo)):\n",
    "        X = np.asarray(df[list(feat_combo[i])])  \n",
    "        y = np.asarray(df['Top_100'])\n",
    "        X_train, X_test, y_train, y_test = train_test_split( X, y, test_size=0.2, random_state=j)\n",
    "        clf = svm.SVC(kernel='rbf', C=5, gamma='scale')\n",
    "        clf.fit(X_train, y_train)\n",
    "        yhat = clf.predict(X_test)\n",
    "\n",
    "        svm_combo.at[i, 'combo'] = feat_combo[i]\n",
    "        svm_combo.at[i, 'accuracy'] = metrics.accuracy_score(y_test, yhat)\n",
    "        svm_combo.at[i, 'f1_score'] = f1_score(y_test, yhat, average='weighted')\n",
    "        svm_combo.at[i, 'jaccard_score'] = jaccard_score(y_test, yhat, average='weighted')\n",
    "        svm_combo.at[i, 'random_state'] = j\n",
    "        svm_combo.at[i, 'nFeatures'] = len(list(feat_combo[i]))\n",
    "        \n",
    "        print( 'random_state:{},{}{}'.format(j, svm_combo.at[i, 'combo'], 10*space), end=\"\\r\", flush=True) \n",
    "    svm_total_top_100 = svm_total_top_100.append(svm_combo)"
   ]
  },
  {
   "cell_type": "code",
   "execution_count": 194,
   "metadata": {},
   "outputs": [
    {
     "data": {
      "text/plain": [
       "(1184, 24)"
      ]
     },
     "execution_count": 194,
     "metadata": {},
     "output_type": "execute_result"
    }
   ],
   "source": [
    "df.shape"
   ]
  },
  {
   "cell_type": "code",
   "execution_count": 228,
   "metadata": {},
   "outputs": [],
   "source": [
    "X = np.asarray(df[['Hotel', 'Tourism', 'University', 'Cafe', 'Pub', \n",
    "               'Luas', 'Museum','Restaurant', 'Price Area']])\n",
    "y = np.asarray(df['Top_R'])\n",
    "X_train, X_test, y_train, y_test = train_test_split(X, y, test_size=0.2, random_state=0)\n",
    "clf = svm.SVC(kernel='rbf', C=5, gamma='scale')\n",
    "clf.fit(X_train, y_train)\n",
    "yhat = clf.predict(X_test)"
   ]
  },
  {
   "cell_type": "code",
   "execution_count": 229,
   "metadata": {},
   "outputs": [
    {
     "data": {
      "text/plain": [
       "0.5654008438818565"
      ]
     },
     "execution_count": 229,
     "metadata": {},
     "output_type": "execute_result"
    }
   ],
   "source": [
    "metrics.accuracy_score(y_test, yhat)"
   ]
  },
  {
   "cell_type": "code",
   "execution_count": 231,
   "metadata": {},
   "outputs": [
    {
     "name": "stdout",
     "output_type": "stream",
     "text": [
      "(947, 9)\n",
      "(947,)\n"
     ]
    }
   ],
   "source": [
    "print(X_train.shape)\n",
    "print(y_train.shape)"
   ]
  },
  {
   "cell_type": "code",
   "execution_count": 233,
   "metadata": {},
   "outputs": [
    {
     "data": {
      "text/plain": [
       "array([4., 4., 4., ..., 0., 0., 0.])"
      ]
     },
     "execution_count": 233,
     "metadata": {},
     "output_type": "execute_result"
    }
   ],
   "source": [
    "y"
   ]
  },
  {
   "cell_type": "code",
   "execution_count": 218,
   "metadata": {},
   "outputs": [
    {
     "data": {
      "text/html": [
       "<div>\n",
       "<style scoped>\n",
       "    .dataframe tbody tr th:only-of-type {\n",
       "        vertical-align: middle;\n",
       "    }\n",
       "\n",
       "    .dataframe tbody tr th {\n",
       "        vertical-align: top;\n",
       "    }\n",
       "\n",
       "    .dataframe thead th {\n",
       "        text-align: right;\n",
       "    }\n",
       "</style>\n",
       "<table border=\"1\" class=\"dataframe\">\n",
       "  <thead>\n",
       "    <tr style=\"text-align: right;\">\n",
       "      <th></th>\n",
       "      <th>Reviews</th>\n",
       "      <th>District</th>\n",
       "      <th>Company KNN</th>\n",
       "      <th>RankingN</th>\n",
       "      <th>Ranking</th>\n",
       "      <th>Rating</th>\n",
       "      <th>Rating_G</th>\n",
       "      <th>Hotel</th>\n",
       "      <th>Tourism</th>\n",
       "      <th>Cafe</th>\n",
       "      <th>...</th>\n",
       "      <th>Restaurant</th>\n",
       "      <th>University</th>\n",
       "      <th>Luas</th>\n",
       "      <th>Company</th>\n",
       "      <th>Liffey</th>\n",
       "      <th>Price Area</th>\n",
       "      <th>Top_100</th>\n",
       "      <th>Top_250</th>\n",
       "      <th>Top_500</th>\n",
       "      <th>Top_750</th>\n",
       "    </tr>\n",
       "  </thead>\n",
       "  <tbody>\n",
       "    <tr>\n",
       "      <th>count</th>\n",
       "      <td>1184.000000</td>\n",
       "      <td>1184.000000</td>\n",
       "      <td>1184.000000</td>\n",
       "      <td>1184.000000</td>\n",
       "      <td>1184.000000</td>\n",
       "      <td>1184.000000</td>\n",
       "      <td>1184.000000</td>\n",
       "      <td>1184.000000</td>\n",
       "      <td>1184.000000</td>\n",
       "      <td>1184.000000</td>\n",
       "      <td>...</td>\n",
       "      <td>1184.000000</td>\n",
       "      <td>1184.000000</td>\n",
       "      <td>1184.000000</td>\n",
       "      <td>1184.000000</td>\n",
       "      <td>1184.000000</td>\n",
       "      <td>1184.000000</td>\n",
       "      <td>1184.000000</td>\n",
       "      <td>1184.000000</td>\n",
       "      <td>1184.000000</td>\n",
       "      <td>1184.000000</td>\n",
       "    </tr>\n",
       "    <tr>\n",
       "      <th>mean</th>\n",
       "      <td>278.181588</td>\n",
       "      <td>3.310811</td>\n",
       "      <td>3.545380</td>\n",
       "      <td>0.005386</td>\n",
       "      <td>867.271959</td>\n",
       "      <td>4.142736</td>\n",
       "      <td>3.941723</td>\n",
       "      <td>2.536700</td>\n",
       "      <td>2.248556</td>\n",
       "      <td>2.676784</td>\n",
       "      <td>...</td>\n",
       "      <td>2.271770</td>\n",
       "      <td>1.987705</td>\n",
       "      <td>1.481199</td>\n",
       "      <td>2.574875</td>\n",
       "      <td>1.468839</td>\n",
       "      <td>4.156939</td>\n",
       "      <td>1.070101</td>\n",
       "      <td>1.181588</td>\n",
       "      <td>1.352196</td>\n",
       "      <td>1.483108</td>\n",
       "    </tr>\n",
       "    <tr>\n",
       "      <th>std</th>\n",
       "      <td>555.834839</td>\n",
       "      <td>2.502682</td>\n",
       "      <td>0.999940</td>\n",
       "      <td>0.033692</td>\n",
       "      <td>583.166971</td>\n",
       "      <td>0.568531</td>\n",
       "      <td>0.844143</td>\n",
       "      <td>0.998517</td>\n",
       "      <td>0.998023</td>\n",
       "      <td>0.998991</td>\n",
       "      <td>...</td>\n",
       "      <td>0.999203</td>\n",
       "      <td>0.999410</td>\n",
       "      <td>1.000347</td>\n",
       "      <td>0.997594</td>\n",
       "      <td>1.000020</td>\n",
       "      <td>0.798360</td>\n",
       "      <td>0.255426</td>\n",
       "      <td>0.385667</td>\n",
       "      <td>0.477856</td>\n",
       "      <td>0.499926</td>\n",
       "    </tr>\n",
       "    <tr>\n",
       "      <th>min</th>\n",
       "      <td>1.000000</td>\n",
       "      <td>1.000000</td>\n",
       "      <td>1.374480</td>\n",
       "      <td>0.000489</td>\n",
       "      <td>1.000000</td>\n",
       "      <td>1.000000</td>\n",
       "      <td>3.000000</td>\n",
       "      <td>0.107947</td>\n",
       "      <td>0.000000</td>\n",
       "      <td>0.192498</td>\n",
       "      <td>...</td>\n",
       "      <td>0.062654</td>\n",
       "      <td>0.000000</td>\n",
       "      <td>0.182656</td>\n",
       "      <td>0.000000</td>\n",
       "      <td>0.220071</td>\n",
       "      <td>1.000000</td>\n",
       "      <td>1.000000</td>\n",
       "      <td>1.000000</td>\n",
       "      <td>1.000000</td>\n",
       "      <td>1.000000</td>\n",
       "    </tr>\n",
       "    <tr>\n",
       "      <th>25%</th>\n",
       "      <td>12.000000</td>\n",
       "      <td>2.000000</td>\n",
       "      <td>2.398029</td>\n",
       "      <td>0.000739</td>\n",
       "      <td>352.750000</td>\n",
       "      <td>4.000000</td>\n",
       "      <td>3.000000</td>\n",
       "      <td>1.776215</td>\n",
       "      <td>1.509178</td>\n",
       "      <td>1.896109</td>\n",
       "      <td>...</td>\n",
       "      <td>1.470521</td>\n",
       "      <td>1.287794</td>\n",
       "      <td>0.707112</td>\n",
       "      <td>1.925656</td>\n",
       "      <td>0.571429</td>\n",
       "      <td>3.445086</td>\n",
       "      <td>1.000000</td>\n",
       "      <td>1.000000</td>\n",
       "      <td>1.000000</td>\n",
       "      <td>1.000000</td>\n",
       "    </tr>\n",
       "    <tr>\n",
       "      <th>50%</th>\n",
       "      <td>71.000000</td>\n",
       "      <td>2.000000</td>\n",
       "      <td>3.556946</td>\n",
       "      <td>0.001278</td>\n",
       "      <td>782.500000</td>\n",
       "      <td>4.000000</td>\n",
       "      <td>4.000000</td>\n",
       "      <td>2.708483</td>\n",
       "      <td>2.364379</td>\n",
       "      <td>2.824913</td>\n",
       "      <td>...</td>\n",
       "      <td>2.307133</td>\n",
       "      <td>1.967463</td>\n",
       "      <td>1.147231</td>\n",
       "      <td>2.731787</td>\n",
       "      <td>1.173413</td>\n",
       "      <td>4.262323</td>\n",
       "      <td>1.000000</td>\n",
       "      <td>1.000000</td>\n",
       "      <td>1.000000</td>\n",
       "      <td>1.000000</td>\n",
       "    </tr>\n",
       "    <tr>\n",
       "      <th>75%</th>\n",
       "      <td>300.250000</td>\n",
       "      <td>6.000000</td>\n",
       "      <td>4.309886</td>\n",
       "      <td>0.002835</td>\n",
       "      <td>1353.750000</td>\n",
       "      <td>4.500000</td>\n",
       "      <td>5.000000</td>\n",
       "      <td>3.395417</td>\n",
       "      <td>3.144121</td>\n",
       "      <td>3.686343</td>\n",
       "      <td>...</td>\n",
       "      <td>3.168622</td>\n",
       "      <td>2.790220</td>\n",
       "      <td>2.161236</td>\n",
       "      <td>3.253508</td>\n",
       "      <td>2.396161</td>\n",
       "      <td>4.988360</td>\n",
       "      <td>1.000000</td>\n",
       "      <td>1.000000</td>\n",
       "      <td>2.000000</td>\n",
       "      <td>2.000000</td>\n",
       "    </tr>\n",
       "    <tr>\n",
       "      <th>max</th>\n",
       "      <td>6164.000000</td>\n",
       "      <td>12.000000</td>\n",
       "      <td>5.410362</td>\n",
       "      <td>1.000000</td>\n",
       "      <td>2045.000000</td>\n",
       "      <td>5.000000</td>\n",
       "      <td>5.000000</td>\n",
       "      <td>4.023471</td>\n",
       "      <td>3.722639</td>\n",
       "      <td>4.080965</td>\n",
       "      <td>...</td>\n",
       "      <td>3.904190</td>\n",
       "      <td>4.721910</td>\n",
       "      <td>3.349916</td>\n",
       "      <td>5.101268</td>\n",
       "      <td>3.017075</td>\n",
       "      <td>4.988360</td>\n",
       "      <td>2.000000</td>\n",
       "      <td>2.000000</td>\n",
       "      <td>2.000000</td>\n",
       "      <td>2.000000</td>\n",
       "    </tr>\n",
       "  </tbody>\n",
       "</table>\n",
       "<p>8 rows × 22 columns</p>\n",
       "</div>"
      ],
      "text/plain": [
       "           Reviews     District  Company KNN     RankingN      Ranking  \\\n",
       "count  1184.000000  1184.000000  1184.000000  1184.000000  1184.000000   \n",
       "mean    278.181588     3.310811     3.545380     0.005386   867.271959   \n",
       "std     555.834839     2.502682     0.999940     0.033692   583.166971   \n",
       "min       1.000000     1.000000     1.374480     0.000489     1.000000   \n",
       "25%      12.000000     2.000000     2.398029     0.000739   352.750000   \n",
       "50%      71.000000     2.000000     3.556946     0.001278   782.500000   \n",
       "75%     300.250000     6.000000     4.309886     0.002835  1353.750000   \n",
       "max    6164.000000    12.000000     5.410362     1.000000  2045.000000   \n",
       "\n",
       "            Rating     Rating_G        Hotel      Tourism         Cafe  ...  \\\n",
       "count  1184.000000  1184.000000  1184.000000  1184.000000  1184.000000  ...   \n",
       "mean      4.142736     3.941723     2.536700     2.248556     2.676784  ...   \n",
       "std       0.568531     0.844143     0.998517     0.998023     0.998991  ...   \n",
       "min       1.000000     3.000000     0.107947     0.000000     0.192498  ...   \n",
       "25%       4.000000     3.000000     1.776215     1.509178     1.896109  ...   \n",
       "50%       4.000000     4.000000     2.708483     2.364379     2.824913  ...   \n",
       "75%       4.500000     5.000000     3.395417     3.144121     3.686343  ...   \n",
       "max       5.000000     5.000000     4.023471     3.722639     4.080965  ...   \n",
       "\n",
       "        Restaurant   University         Luas      Company       Liffey  \\\n",
       "count  1184.000000  1184.000000  1184.000000  1184.000000  1184.000000   \n",
       "mean      2.271770     1.987705     1.481199     2.574875     1.468839   \n",
       "std       0.999203     0.999410     1.000347     0.997594     1.000020   \n",
       "min       0.062654     0.000000     0.182656     0.000000     0.220071   \n",
       "25%       1.470521     1.287794     0.707112     1.925656     0.571429   \n",
       "50%       2.307133     1.967463     1.147231     2.731787     1.173413   \n",
       "75%       3.168622     2.790220     2.161236     3.253508     2.396161   \n",
       "max       3.904190     4.721910     3.349916     5.101268     3.017075   \n",
       "\n",
       "        Price Area      Top_100      Top_250      Top_500      Top_750  \n",
       "count  1184.000000  1184.000000  1184.000000  1184.000000  1184.000000  \n",
       "mean      4.156939     1.070101     1.181588     1.352196     1.483108  \n",
       "std       0.798360     0.255426     0.385667     0.477856     0.499926  \n",
       "min       1.000000     1.000000     1.000000     1.000000     1.000000  \n",
       "25%       3.445086     1.000000     1.000000     1.000000     1.000000  \n",
       "50%       4.262323     1.000000     1.000000     1.000000     1.000000  \n",
       "75%       4.988360     1.000000     1.000000     2.000000     2.000000  \n",
       "max       4.988360     2.000000     2.000000     2.000000     2.000000  \n",
       "\n",
       "[8 rows x 22 columns]"
      ]
     },
     "execution_count": 218,
     "metadata": {},
     "output_type": "execute_result"
    }
   ],
   "source": [
    "df.describe()"
   ]
  },
  {
   "cell_type": "code",
   "execution_count": 214,
   "metadata": {},
   "outputs": [
    {
     "data": {
      "text/html": [
       "<div>\n",
       "<style scoped>\n",
       "    .dataframe tbody tr th:only-of-type {\n",
       "        vertical-align: middle;\n",
       "    }\n",
       "\n",
       "    .dataframe tbody tr th {\n",
       "        vertical-align: top;\n",
       "    }\n",
       "\n",
       "    .dataframe thead th {\n",
       "        text-align: right;\n",
       "    }\n",
       "</style>\n",
       "<table border=\"1\" class=\"dataframe\">\n",
       "  <thead>\n",
       "    <tr style=\"text-align: right;\">\n",
       "      <th></th>\n",
       "      <th>Hotel</th>\n",
       "      <th>Pub</th>\n",
       "    </tr>\n",
       "  </thead>\n",
       "  <tbody>\n",
       "    <tr>\n",
       "      <th>0</th>\n",
       "      <td>3.581871</td>\n",
       "      <td>2.629808</td>\n",
       "    </tr>\n",
       "    <tr>\n",
       "      <th>1</th>\n",
       "      <td>2.865497</td>\n",
       "      <td>2.639719</td>\n",
       "    </tr>\n",
       "    <tr>\n",
       "      <th>2</th>\n",
       "      <td>3.081390</td>\n",
       "      <td>2.352291</td>\n",
       "    </tr>\n",
       "    <tr>\n",
       "      <th>3</th>\n",
       "      <td>0.569174</td>\n",
       "      <td>0.327074</td>\n",
       "    </tr>\n",
       "    <tr>\n",
       "      <th>4</th>\n",
       "      <td>2.728110</td>\n",
       "      <td>2.312645</td>\n",
       "    </tr>\n",
       "    <tr>\n",
       "      <th>...</th>\n",
       "      <td>...</td>\n",
       "      <td>...</td>\n",
       "    </tr>\n",
       "    <tr>\n",
       "      <th>1179</th>\n",
       "      <td>2.041176</td>\n",
       "      <td>1.916192</td>\n",
       "    </tr>\n",
       "    <tr>\n",
       "      <th>1180</th>\n",
       "      <td>3.591684</td>\n",
       "      <td>2.652935</td>\n",
       "    </tr>\n",
       "    <tr>\n",
       "      <th>1181</th>\n",
       "      <td>1.481815</td>\n",
       "      <td>1.361157</td>\n",
       "    </tr>\n",
       "    <tr>\n",
       "      <th>1182</th>\n",
       "      <td>2.679043</td>\n",
       "      <td>2.107811</td>\n",
       "    </tr>\n",
       "    <tr>\n",
       "      <th>1183</th>\n",
       "      <td>2.522030</td>\n",
       "      <td>1.506523</td>\n",
       "    </tr>\n",
       "  </tbody>\n",
       "</table>\n",
       "<p>1184 rows × 2 columns</p>\n",
       "</div>"
      ],
      "text/plain": [
       "         Hotel       Pub\n",
       "0     3.581871  2.629808\n",
       "1     2.865497  2.639719\n",
       "2     3.081390  2.352291\n",
       "3     0.569174  0.327074\n",
       "4     2.728110  2.312645\n",
       "...        ...       ...\n",
       "1179  2.041176  1.916192\n",
       "1180  3.591684  2.652935\n",
       "1181  1.481815  1.361157\n",
       "1182  2.679043  2.107811\n",
       "1183  2.522030  1.506523\n",
       "\n",
       "[1184 rows x 2 columns]"
      ]
     },
     "execution_count": 214,
     "metadata": {},
     "output_type": "execute_result"
    }
   ],
   "source": [
    "df[['Hotel', 'Pub']]"
   ]
  },
  {
   "cell_type": "code",
   "execution_count": 210,
   "metadata": {},
   "outputs": [
    {
     "data": {
      "text/plain": [
       "0       1.0\n",
       "1       1.0\n",
       "2       1.0\n",
       "3       1.0\n",
       "4       1.0\n",
       "       ... \n",
       "1179    0.0\n",
       "1180    0.0\n",
       "1181    0.0\n",
       "1182    0.0\n",
       "1183    0.0\n",
       "Name: Top_100, Length: 1184, dtype: float64"
      ]
     },
     "execution_count": 210,
     "metadata": {},
     "output_type": "execute_result"
    }
   ],
   "source": [
    "df['Top_100']"
   ]
  },
  {
   "cell_type": "code",
   "execution_count": null,
   "metadata": {},
   "outputs": [],
   "source": []
  },
  {
   "cell_type": "code",
   "execution_count": null,
   "metadata": {},
   "outputs": [],
   "source": []
  },
  {
   "cell_type": "code",
   "execution_count": null,
   "metadata": {},
   "outputs": [],
   "source": []
  },
  {
   "cell_type": "code",
   "execution_count": null,
   "metadata": {},
   "outputs": [],
   "source": []
  },
  {
   "cell_type": "code",
   "execution_count": null,
   "metadata": {},
   "outputs": [],
   "source": []
  },
  {
   "cell_type": "code",
   "execution_count": null,
   "metadata": {},
   "outputs": [],
   "source": []
  },
  {
   "cell_type": "code",
   "execution_count": null,
   "metadata": {},
   "outputs": [],
   "source": []
  },
  {
   "cell_type": "markdown",
   "metadata": {},
   "source": [
    "Let's check with different combinations of feature set"
   ]
  }
 ],
 "metadata": {
  "kernelspec": {
   "display_name": "Python 3",
   "language": "python",
   "name": "python3"
  },
  "language_info": {
   "codemirror_mode": {
    "name": "ipython",
    "version": 3
   },
   "file_extension": ".py",
   "mimetype": "text/x-python",
   "name": "python",
   "nbconvert_exporter": "python",
   "pygments_lexer": "ipython3",
   "version": "3.7.7"
  }
 },
 "nbformat": 4,
 "nbformat_minor": 4
}
